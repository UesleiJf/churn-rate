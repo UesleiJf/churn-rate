{
 "cells": [
  {
   "cell_type": "code",
   "execution_count": 67,
   "metadata": {},
   "outputs": [],
   "source": [
    "from sklearn.model_selection import cross_validate\n",
    "from sklearn import tree\n",
    "from sklearn import svm\n",
    "from sklearn import ensemble\n",
    "from sklearn import neighbors\n",
    "from sklearn import linear_model\n",
    "from sklearn import metrics\n",
    "from sklearn import preprocessing\n",
    "from sklearn.naive_bayes import GaussianNB"
   ]
  },
  {
   "cell_type": "code",
   "execution_count": 68,
   "metadata": {},
   "outputs": [],
   "source": [
    "%matplotlib inline \n",
    "\n",
    "from IPython.display import Image\n",
    "import matplotlib as mlp\n",
    "import matplotlib.pyplot as plt\n",
    "import numpy as np\n",
    "import os\n",
    "import pandas as pd\n",
    "import sklearn\n",
    "import seaborn as sns"
   ]
  },
  {
   "cell_type": "code",
   "execution_count": 69,
   "metadata": {},
   "outputs": [],
   "source": [
    "# ignorando alertas (não erros)\n",
    "\n",
    "import warnings\n",
    "warnings.filterwarnings('ignore')"
   ]
  },
  {
   "cell_type": "code",
   "execution_count": 70,
   "metadata": {},
   "outputs": [],
   "source": [
    "# importando o dataset\n",
    "df = pd.read_csv('dataset/data-set-clube-new.csv', sep=';')"
   ]
  },
  {
   "cell_type": "code",
   "execution_count": 71,
   "metadata": {},
   "outputs": [
    {
     "data": {
      "text/html": [
       "<div>\n",
       "<style scoped>\n",
       "    .dataframe tbody tr th:only-of-type {\n",
       "        vertical-align: middle;\n",
       "    }\n",
       "\n",
       "    .dataframe tbody tr th {\n",
       "        vertical-align: top;\n",
       "    }\n",
       "\n",
       "    .dataframe thead th {\n",
       "        text-align: right;\n",
       "    }\n",
       "</style>\n",
       "<table border=\"1\" class=\"dataframe\">\n",
       "  <thead>\n",
       "    <tr style=\"text-align: right;\">\n",
       "      <th></th>\n",
       "      <th>id_socio</th>\n",
       "      <th>status</th>\n",
       "      <th>qtde_em_aberto</th>\n",
       "      <th>qtde_em_dia</th>\n",
       "      <th>qtde_em_atraso</th>\n",
       "      <th>qtde_frequencia_ano</th>\n",
       "    </tr>\n",
       "  </thead>\n",
       "  <tbody>\n",
       "    <tr>\n",
       "      <th>0</th>\n",
       "      <td>54486</td>\n",
       "      <td>ATIVO</td>\n",
       "      <td>0</td>\n",
       "      <td>0</td>\n",
       "      <td>0</td>\n",
       "      <td>0</td>\n",
       "    </tr>\n",
       "    <tr>\n",
       "      <th>1</th>\n",
       "      <td>54460</td>\n",
       "      <td>ATIVO</td>\n",
       "      <td>0</td>\n",
       "      <td>0</td>\n",
       "      <td>0</td>\n",
       "      <td>0</td>\n",
       "    </tr>\n",
       "    <tr>\n",
       "      <th>2</th>\n",
       "      <td>54462</td>\n",
       "      <td>ATIVO</td>\n",
       "      <td>0</td>\n",
       "      <td>0</td>\n",
       "      <td>0</td>\n",
       "      <td>0</td>\n",
       "    </tr>\n",
       "  </tbody>\n",
       "</table>\n",
       "</div>"
      ],
      "text/plain": [
       "   id_socio status  qtde_em_aberto  qtde_em_dia  qtde_em_atraso  \\\n",
       "0     54486  ATIVO               0            0               0   \n",
       "1     54460  ATIVO               0            0               0   \n",
       "2     54462  ATIVO               0            0               0   \n",
       "\n",
       "   qtde_frequencia_ano  \n",
       "0                    0  \n",
       "1                    0  \n",
       "2                    0  "
      ]
     },
     "execution_count": 71,
     "metadata": {},
     "output_type": "execute_result"
    }
   ],
   "source": [
    "# checando as 3 primeiras linhas do dataset\n",
    "df.head(3)"
   ]
  },
  {
   "cell_type": "code",
   "execution_count": 72,
   "metadata": {},
   "outputs": [
    {
     "data": {
      "text/html": [
       "<div>\n",
       "<style scoped>\n",
       "    .dataframe tbody tr th:only-of-type {\n",
       "        vertical-align: middle;\n",
       "    }\n",
       "\n",
       "    .dataframe tbody tr th {\n",
       "        vertical-align: top;\n",
       "    }\n",
       "\n",
       "    .dataframe thead th {\n",
       "        text-align: right;\n",
       "    }\n",
       "</style>\n",
       "<table border=\"1\" class=\"dataframe\">\n",
       "  <thead>\n",
       "    <tr style=\"text-align: right;\">\n",
       "      <th></th>\n",
       "      <th>id_socio</th>\n",
       "      <th>status</th>\n",
       "      <th>qtde_em_aberto</th>\n",
       "      <th>qtde_em_dia</th>\n",
       "      <th>qtde_em_atraso</th>\n",
       "      <th>qtde_frequencia_ano</th>\n",
       "    </tr>\n",
       "  </thead>\n",
       "  <tbody>\n",
       "    <tr>\n",
       "      <th>11985</th>\n",
       "      <td>55648</td>\n",
       "      <td>ATIVO</td>\n",
       "      <td>0</td>\n",
       "      <td>0</td>\n",
       "      <td>0</td>\n",
       "      <td>0</td>\n",
       "    </tr>\n",
       "    <tr>\n",
       "      <th>11986</th>\n",
       "      <td>55789</td>\n",
       "      <td>ATIVO</td>\n",
       "      <td>0</td>\n",
       "      <td>0</td>\n",
       "      <td>0</td>\n",
       "      <td>0</td>\n",
       "    </tr>\n",
       "    <tr>\n",
       "      <th>11987</th>\n",
       "      <td>49255</td>\n",
       "      <td>ATIVO</td>\n",
       "      <td>0</td>\n",
       "      <td>8</td>\n",
       "      <td>4</td>\n",
       "      <td>4</td>\n",
       "    </tr>\n",
       "  </tbody>\n",
       "</table>\n",
       "</div>"
      ],
      "text/plain": [
       "       id_socio status  qtde_em_aberto  qtde_em_dia  qtde_em_atraso  \\\n",
       "11985     55648  ATIVO               0            0               0   \n",
       "11986     55789  ATIVO               0            0               0   \n",
       "11987     49255  ATIVO               0            8               4   \n",
       "\n",
       "       qtde_frequencia_ano  \n",
       "11985                    0  \n",
       "11986                    0  \n",
       "11987                    4  "
      ]
     },
     "execution_count": 72,
     "metadata": {},
     "output_type": "execute_result"
    }
   ],
   "source": [
    "# checando as 3 últimas linhas do dataset\n",
    "df.tail(3)"
   ]
  },
  {
   "cell_type": "code",
   "execution_count": 73,
   "metadata": {},
   "outputs": [
    {
     "name": "stdout",
     "output_type": "stream",
     "text": [
      "(11988, 6)\n"
     ]
    }
   ],
   "source": [
    "# quantidade de linhas e colunas do dataset\n",
    "print(df.shape)"
   ]
  },
  {
   "cell_type": "code",
   "execution_count": 74,
   "metadata": {},
   "outputs": [
    {
     "data": {
      "text/plain": [
       "False"
      ]
     },
     "execution_count": 74,
     "metadata": {},
     "output_type": "execute_result"
    }
   ],
   "source": [
    "# conferindo se existe valor nulo no dataset\n",
    "df.isnull().values.any()"
   ]
  },
  {
   "cell_type": "code",
   "execution_count": 75,
   "metadata": {},
   "outputs": [
    {
     "data": {
      "text/plain": [
       "<matplotlib.axes._subplots.AxesSubplot at 0x7f45654d2e80>"
      ]
     },
     "execution_count": 75,
     "metadata": {},
     "output_type": "execute_result"
    },
    {
     "data": {
      "image/png": "[encoded data removed]",
      "text/plain": [
       "<Figure size 432x288 with 1 Axes>"
      ]
     },
     "metadata": {
      "needs_background": "light"
     },
     "output_type": "display_data"
    }
   ],
   "source": [
    "status = df[\"status\"].value_counts()\n",
    "sns.barplot(status.index, status.values)"
   ]
  },
  {
   "cell_type": "code",
   "execution_count": 76,
   "metadata": {},
   "outputs": [
    {
     "name": "stdout",
     "output_type": "stream",
     "text": [
      "Porcentagem de Status Ativo = 71.73006339673006\n"
     ]
    }
   ],
   "source": [
    "# Após a analise do gráfico acima, podemos ver que a maioria do dataset tem o \"status\" cancelado e ...\n",
    "\n",
    "status_ativo = df[\"status\"][df[\"status\"] == \"CANCELADO\"]\n",
    "print(\"Porcentagem de Status Ativo = \"+str((status_ativo.shape[0] / df[\"status\"].shape[0]) * 100))"
   ]
  },
  {
   "cell_type": "code",
   "execution_count": 77,
   "metadata": {},
   "outputs": [
    {
     "name": "stdout",
     "output_type": "stream",
     "text": [
      "Porcentagem de Status Ativo = 28.269936603269937\n"
     ]
    }
   ],
   "source": [
    "# ... a minoria está com status ATIVO\n",
    "status_ativo = df[\"status\"][df[\"status\"] == \"ATIVO\"]\n",
    "print(\"Porcentagem de Status Ativo = \"+str((status_ativo.shape[0] / df[\"status\"].shape[0]) * 100))"
   ]
  },
  {
   "cell_type": "code",
   "execution_count": 78,
   "metadata": {},
   "outputs": [
    {
     "data": {
      "text/html": [
       "<div>\n",
       "<style scoped>\n",
       "    .dataframe tbody tr th:only-of-type {\n",
       "        vertical-align: middle;\n",
       "    }\n",
       "\n",
       "    .dataframe tbody tr th {\n",
       "        vertical-align: top;\n",
       "    }\n",
       "\n",
       "    .dataframe thead th {\n",
       "        text-align: right;\n",
       "    }\n",
       "</style>\n",
       "<table border=\"1\" class=\"dataframe\">\n",
       "  <thead>\n",
       "    <tr style=\"text-align: right;\">\n",
       "      <th></th>\n",
       "      <th>id_socio</th>\n",
       "      <th>qtde_em_aberto</th>\n",
       "      <th>qtde_em_dia</th>\n",
       "      <th>qtde_em_atraso</th>\n",
       "      <th>qtde_frequencia_ano</th>\n",
       "    </tr>\n",
       "  </thead>\n",
       "  <tbody>\n",
       "    <tr>\n",
       "      <th>count</th>\n",
       "      <td>11988.000000</td>\n",
       "      <td>11988.000000</td>\n",
       "      <td>11988.000000</td>\n",
       "      <td>11988.000000</td>\n",
       "      <td>11988.000000</td>\n",
       "    </tr>\n",
       "    <tr>\n",
       "      <th>mean</th>\n",
       "      <td>22757.953537</td>\n",
       "      <td>4.804721</td>\n",
       "      <td>1.241408</td>\n",
       "      <td>0.920921</td>\n",
       "      <td>4.672589</td>\n",
       "    </tr>\n",
       "    <tr>\n",
       "      <th>std</th>\n",
       "      <td>12431.713232</td>\n",
       "      <td>8.342815</td>\n",
       "      <td>4.194899</td>\n",
       "      <td>3.408348</td>\n",
       "      <td>23.466164</td>\n",
       "    </tr>\n",
       "    <tr>\n",
       "      <th>min</th>\n",
       "      <td>1.000000</td>\n",
       "      <td>0.000000</td>\n",
       "      <td>0.000000</td>\n",
       "      <td>0.000000</td>\n",
       "      <td>0.000000</td>\n",
       "    </tr>\n",
       "    <tr>\n",
       "      <th>25%</th>\n",
       "      <td>11348.750000</td>\n",
       "      <td>0.000000</td>\n",
       "      <td>0.000000</td>\n",
       "      <td>0.000000</td>\n",
       "      <td>0.000000</td>\n",
       "    </tr>\n",
       "    <tr>\n",
       "      <th>50%</th>\n",
       "      <td>23014.500000</td>\n",
       "      <td>0.000000</td>\n",
       "      <td>0.000000</td>\n",
       "      <td>0.000000</td>\n",
       "      <td>0.000000</td>\n",
       "    </tr>\n",
       "    <tr>\n",
       "      <th>75%</th>\n",
       "      <td>32053.250000</td>\n",
       "      <td>12.000000</td>\n",
       "      <td>0.000000</td>\n",
       "      <td>0.000000</td>\n",
       "      <td>0.000000</td>\n",
       "    </tr>\n",
       "    <tr>\n",
       "      <th>max</th>\n",
       "      <td>56508.000000</td>\n",
       "      <td>62.000000</td>\n",
       "      <td>53.000000</td>\n",
       "      <td>39.000000</td>\n",
       "      <td>490.000000</td>\n",
       "    </tr>\n",
       "  </tbody>\n",
       "</table>\n",
       "</div>"
      ],
      "text/plain": [
       "           id_socio  qtde_em_aberto   qtde_em_dia  qtde_em_atraso  \\\n",
       "count  11988.000000    11988.000000  11988.000000    11988.000000   \n",
       "mean   22757.953537        4.804721      1.241408        0.920921   \n",
       "std    12431.713232        8.342815      4.194899        3.408348   \n",
       "min        1.000000        0.000000      0.000000        0.000000   \n",
       "25%    11348.750000        0.000000      0.000000        0.000000   \n",
       "50%    23014.500000        0.000000      0.000000        0.000000   \n",
       "75%    32053.250000       12.000000      0.000000        0.000000   \n",
       "max    56508.000000       62.000000     53.000000       39.000000   \n",
       "\n",
       "       qtde_frequencia_ano  \n",
       "count         11988.000000  \n",
       "mean              4.672589  \n",
       "std              23.466164  \n",
       "min               0.000000  \n",
       "25%               0.000000  \n",
       "50%               0.000000  \n",
       "75%               0.000000  \n",
       "max             490.000000  "
      ]
     },
     "execution_count": 78,
     "metadata": {},
     "output_type": "execute_result"
    }
   ],
   "source": [
    "# describe dataset\n",
    "\n",
    "# count = quantidade\n",
    "# mean = média\n",
    "# std = desvio padrão\n",
    "# min = valor mínimo\n",
    "# max = valor máximo\n",
    "\n",
    "df.describe()"
   ]
  },
  {
   "cell_type": "code",
   "execution_count": 79,
   "metadata": {},
   "outputs": [
    {
     "data": {
      "text/html": [
       "<div>\n",
       "<style scoped>\n",
       "    .dataframe tbody tr th:only-of-type {\n",
       "        vertical-align: middle;\n",
       "    }\n",
       "\n",
       "    .dataframe tbody tr th {\n",
       "        vertical-align: top;\n",
       "    }\n",
       "\n",
       "    .dataframe thead th {\n",
       "        text-align: right;\n",
       "    }\n",
       "</style>\n",
       "<table border=\"1\" class=\"dataframe\">\n",
       "  <thead>\n",
       "    <tr style=\"text-align: right;\">\n",
       "      <th></th>\n",
       "      <th>id_socio</th>\n",
       "      <th>status</th>\n",
       "      <th>qtde_em_aberto</th>\n",
       "      <th>qtde_em_dia</th>\n",
       "      <th>qtde_em_atraso</th>\n",
       "      <th>qtde_frequencia_ano</th>\n",
       "    </tr>\n",
       "  </thead>\n",
       "  <tbody>\n",
       "    <tr>\n",
       "      <th>11353</th>\n",
       "      <td>34836</td>\n",
       "      <td>ATIVO</td>\n",
       "      <td>12</td>\n",
       "      <td>12</td>\n",
       "      <td>0</td>\n",
       "      <td>490</td>\n",
       "    </tr>\n",
       "  </tbody>\n",
       "</table>\n",
       "</div>"
      ],
      "text/plain": [
       "       id_socio status  qtde_em_aberto  qtde_em_dia  qtde_em_atraso  \\\n",
       "11353     34836  ATIVO              12           12               0   \n",
       "\n",
       "       qtde_frequencia_ano  \n",
       "11353                  490  "
      ]
     },
     "execution_count": 79,
     "metadata": {},
     "output_type": "execute_result"
    }
   ],
   "source": [
    "# Checando alguns resultados do describe\n",
    "maximo = df['qtde_frequencia_ano'] == 490\n",
    "maximo = df[maximo]\n",
    "maximo"
   ]
  },
  {
   "cell_type": "code",
   "execution_count": 80,
   "metadata": {},
   "outputs": [
    {
     "data": {
      "text/html": [
       "<div>\n",
       "<style scoped>\n",
       "    .dataframe tbody tr th:only-of-type {\n",
       "        vertical-align: middle;\n",
       "    }\n",
       "\n",
       "    .dataframe tbody tr th {\n",
       "        vertical-align: top;\n",
       "    }\n",
       "\n",
       "    .dataframe thead th {\n",
       "        text-align: right;\n",
       "    }\n",
       "</style>\n",
       "<table border=\"1\" class=\"dataframe\">\n",
       "  <thead>\n",
       "    <tr style=\"text-align: right;\">\n",
       "      <th></th>\n",
       "      <th>id_socio</th>\n",
       "      <th>status</th>\n",
       "      <th>qtde_em_aberto</th>\n",
       "      <th>qtde_em_dia</th>\n",
       "      <th>qtde_em_atraso</th>\n",
       "      <th>qtde_frequencia_ano</th>\n",
       "    </tr>\n",
       "  </thead>\n",
       "  <tbody>\n",
       "    <tr>\n",
       "      <th>977</th>\n",
       "      <td>10527</td>\n",
       "      <td>CANCELADO</td>\n",
       "      <td>62</td>\n",
       "      <td>0</td>\n",
       "      <td>2</td>\n",
       "      <td>1</td>\n",
       "    </tr>\n",
       "  </tbody>\n",
       "</table>\n",
       "</div>"
      ],
      "text/plain": [
       "     id_socio     status  qtde_em_aberto  qtde_em_dia  qtde_em_atraso  \\\n",
       "977     10527  CANCELADO              62            0               2   \n",
       "\n",
       "     qtde_frequencia_ano  \n",
       "977                    1  "
      ]
     },
     "execution_count": 80,
     "metadata": {},
     "output_type": "execute_result"
    }
   ],
   "source": [
    "# Checando alguns resultados do describe\n",
    "maximo = df['qtde_em_aberto'] == 62\n",
    "maximo = df[maximo]\n",
    "maximo"
   ]
  },
  {
   "cell_type": "code",
   "execution_count": 81,
   "metadata": {},
   "outputs": [
    {
     "data": {
      "text/plain": [
       "<matplotlib.axes._subplots.AxesSubplot at 0x7f4565341e80>"
      ]
     },
     "execution_count": 81,
     "metadata": {},
     "output_type": "execute_result"
    },
    {
     "data": {
      "image/png": "[encoded data removed]",
      "text/plain": [
       "<Figure size 1440x360 with 1 Axes>"
      ]
     },
     "metadata": {
      "needs_background": "light"
     },
     "output_type": "display_data"
    }
   ],
   "source": [
    "# Relação das variáveis status e parcelas em aberto\n",
    "# Podemos analisar que a maior parte dos cancelamentos não tinham parcelas em aberto.\n",
    "\n",
    "\n",
    "df.groupby([\"qtde_em_aberto\", \"status\"]).size().unstack().plot(kind='bar', stacked=True, figsize=(20,5))"
   ]
  },
  {
   "cell_type": "code",
   "execution_count": 82,
   "metadata": {},
   "outputs": [
    {
     "data": {
      "text/plain": [
       "<matplotlib.axes._subplots.AxesSubplot at 0x7f45651ef5c0>"
      ]
     },
     "execution_count": 82,
     "metadata": {},
     "output_type": "execute_result"
    },
    {
     "data": {
      "image/png": "[encoded data removed]",
      "text/plain": [
       "<Figure size 1440x360 with 1 Axes>"
      ]
     },
     "metadata": {
      "needs_background": "light"
     },
     "output_type": "display_data"
    }
   ],
   "source": [
    "# Relação das variáveis status e parcelas em dia\n",
    "df.groupby([\"qtde_em_dia\", \"status\"]).size().unstack().plot(kind='bar', stacked=True, figsize=(20,5))"
   ]
  },
  {
   "cell_type": "code",
   "execution_count": 83,
   "metadata": {},
   "outputs": [
    {
     "data": {
      "text/plain": [
       "<matplotlib.axes._subplots.AxesSubplot at 0x7f456509a128>"
      ]
     },
     "execution_count": 83,
     "metadata": {},
     "output_type": "execute_result"
    },
    {
     "data": {
      "image/png": "[encoded data removed]",
      "text/plain": [
       "<Figure size 936x360 with 1 Axes>"
      ]
     },
     "metadata": {
      "needs_background": "light"
     },
     "output_type": "display_data"
    }
   ],
   "source": [
    "# Relação das variáveis status e quantidade de parcelas em atraso\n",
    "df.groupby([\"qtde_em_atraso\", \"status\"]).size().unstack().plot(kind='bar', stacked=True, figsize=(13,5))"
   ]
  },
  {
   "cell_type": "code",
   "execution_count": 84,
   "metadata": {},
   "outputs": [
    {
     "name": "stdout",
     "output_type": "stream",
     "text": [
      "       id_socio     status  qtde_em_aberto  qtde_em_dia  qtde_em_atraso  \\\n",
      "6         38810  CANCELADO              24            0               0   \n",
      "12        54088  CANCELADO               0            0               0   \n",
      "18        31324  CANCELADO              12            1               2   \n",
      "19        34368  CANCELADO               9            1               2   \n",
      "22        27004  CANCELADO              14            1               0   \n",
      "28        13375  CANCELADO               9            1               2   \n",
      "29        10326  CANCELADO              20            0               4   \n",
      "39        28512  CANCELADO              14            0               0   \n",
      "61        54168  CANCELADO               0            0               1   \n",
      "62        45628  CANCELADO              18            2               5   \n",
      "68        31500  CANCELADO               0            8               4   \n",
      "73        10847  CANCELADO              24            0              24   \n",
      "78        13405  CANCELADO               1            0              12   \n",
      "84        48119  CANCELADO               0            3              12   \n",
      "89        55949  CANCELADO               0            0               0   \n",
      "92        52871  CANCELADO               0            9               0   \n",
      "106       37437  CANCELADO               0           10              14   \n",
      "110       45448  CANCELADO              12            0              12   \n",
      "113       11722  CANCELADO               1            5               9   \n",
      "114       41631  CANCELADO               8            6               4   \n",
      "124       54213  CANCELADO               1            0               1   \n",
      "126       10168  CANCELADO               0            9              20   \n",
      "127       11573  CANCELADO               1            5              20   \n",
      "128       11538  CANCELADO               0            8              18   \n",
      "130       30125  CANCELADO               0            0               0   \n",
      "134        8716  CANCELADO               0            0               0   \n",
      "154       27433  CANCELADO              12            0               0   \n",
      "156        9144  CANCELADO               0            0               0   \n",
      "158        9277  CANCELADO               0            0               0   \n",
      "159        9114  CANCELADO               0            0               0   \n",
      "...         ...        ...             ...          ...             ...   \n",
      "11720     43718  CANCELADO               0            6               6   \n",
      "11738     34858  CANCELADO               0           24               0   \n",
      "11743     39143  CANCELADO              24            0              24   \n",
      "11752     53388  CANCELADO               1            4               9   \n",
      "11758     36102  CANCELADO               0           23               1   \n",
      "11761     40563  CANCELADO               0            7              18   \n",
      "11767     40519  CANCELADO               0            8               4   \n",
      "11774     40626  CANCELADO               2            9               1   \n",
      "11782     42674  CANCELADO               5            6              22   \n",
      "11790     42836  CANCELADO               0           12               0   \n",
      "11794     41118  CANCELADO               0            3               9   \n",
      "11831     42250  CANCELADO               0            3              22   \n",
      "11833     44641  CANCELADO               0            2               5   \n",
      "11850     41216  CANCELADO               0            3               9   \n",
      "11854     45871  CANCELADO               0           10               3   \n",
      "11862     44904  CANCELADO               0            7               5   \n",
      "11890     51149  CANCELADO               0            6               8   \n",
      "11895     49269  CANCELADO               2            2              10   \n",
      "11907     50630  CANCELADO               2            9               5   \n",
      "11913     54002  CANCELADO               0            5               0   \n",
      "11914     54013  CANCELADO               0            3               2   \n",
      "11919     51641  CANCELADO               0           11               1   \n",
      "11920     54153  CANCELADO               0            1               3   \n",
      "11921     51821  CANCELADO               0            0               0   \n",
      "11958     53494  CANCELADO               0           14               1   \n",
      "11959     53774  CANCELADO               0            8               4   \n",
      "11966     54337  CANCELADO               0            2               1   \n",
      "11971     54500  CANCELADO               0            0               1   \n",
      "11973     54489  CANCELADO               0            0               0   \n",
      "11975     54624  CANCELADO               0            0               0   \n",
      "\n",
      "       qtde_frequencia_ano  \n",
      "6                        0  \n",
      "12                       0  \n",
      "18                       4  \n",
      "19                       0  \n",
      "22                       7  \n",
      "28                       1  \n",
      "29                      25  \n",
      "39                       0  \n",
      "61                       7  \n",
      "62                       0  \n",
      "68                       0  \n",
      "73                       0  \n",
      "78                       3  \n",
      "84                       9  \n",
      "89                       0  \n",
      "92                     100  \n",
      "106                      2  \n",
      "110                      0  \n",
      "113                     14  \n",
      "114                      0  \n",
      "124                     12  \n",
      "126                     39  \n",
      "127                      9  \n",
      "128                      0  \n",
      "130                      0  \n",
      "134                      0  \n",
      "154                      0  \n",
      "156                      0  \n",
      "158                      0  \n",
      "159                      0  \n",
      "...                    ...  \n",
      "11720                   35  \n",
      "11738                    1  \n",
      "11743                    0  \n",
      "11752                   66  \n",
      "11758                   20  \n",
      "11761                    5  \n",
      "11767                   61  \n",
      "11774                   45  \n",
      "11782                    8  \n",
      "11790                    4  \n",
      "11794                   47  \n",
      "11831                   25  \n",
      "11833                    0  \n",
      "11850                   24  \n",
      "11854                   45  \n",
      "11862                    1  \n",
      "11890                    7  \n",
      "11895                    0  \n",
      "11907                   13  \n",
      "11913                    5  \n",
      "11914                   17  \n",
      "11919                   26  \n",
      "11920                    3  \n",
      "11921                    0  \n",
      "11958                   79  \n",
      "11959                   75  \n",
      "11966                    8  \n",
      "11971                    0  \n",
      "11973                    4  \n",
      "11975                    0  \n",
      "\n",
      "[8599 rows x 6 columns]\n"
     ]
    }
   ],
   "source": [
    "# Todos os Status cancelados\n",
    "\n",
    "cancelados = df[\"status\"] == \"CANCELADO\"\n",
    "cancelados = df[cancelados]\n",
    "print(cancelados)"
   ]
  },
  {
   "cell_type": "code",
   "execution_count": 85,
   "metadata": {},
   "outputs": [
    {
     "name": "stdout",
     "output_type": "stream",
     "text": [
      "       id_socio status  qtde_em_aberto  qtde_em_dia  qtde_em_atraso  \\\n",
      "0         54486  ATIVO               0            0               0   \n",
      "1         54460  ATIVO               0            0               0   \n",
      "2         54462  ATIVO               0            0               0   \n",
      "3         54358  ATIVO               0            0               0   \n",
      "4         54115  ATIVO               0            0               0   \n",
      "5         53771  ATIVO               0            0               0   \n",
      "7         54026  ATIVO               0            0               0   \n",
      "8         54245  ATIVO               0            0               0   \n",
      "9         54364  ATIVO               0            0               0   \n",
      "10        54142  ATIVO               0            0               0   \n",
      "11        54333  ATIVO               0            0               0   \n",
      "13        54271  ATIVO               0            0               0   \n",
      "14        54366  ATIVO               0            0               0   \n",
      "15        54125  ATIVO               0            0               0   \n",
      "16        54335  ATIVO               0            0               0   \n",
      "17        54154  ATIVO               0            0               0   \n",
      "20        53266  ATIVO               0            0               0   \n",
      "21        53660  ATIVO               0            0               0   \n",
      "23        53441  ATIVO               0            0               0   \n",
      "24        53442  ATIVO               0            0               0   \n",
      "25        54152  ATIVO               0            0               0   \n",
      "26        54484  ATIVO               0            0               0   \n",
      "27        54488  ATIVO               0            0               0   \n",
      "30        53656  ATIVO               0            0               0   \n",
      "31        53632  ATIVO               0            0               0   \n",
      "32        53232  ATIVO               0            0               0   \n",
      "33        54414  ATIVO               0            0               0   \n",
      "34        53841  ATIVO               0            0               0   \n",
      "35        53842  ATIVO               0            0               0   \n",
      "36        53252  ATIVO               0            0               0   \n",
      "...         ...    ...             ...          ...             ...   \n",
      "11952     56046  ATIVO               0            0               0   \n",
      "11953     52830  ATIVO               0           12               6   \n",
      "11954     53039  ATIVO               0            0               4   \n",
      "11955     53071  ATIVO               4            4               7   \n",
      "11956     53072  ATIVO               5            4               7   \n",
      "11957     53168  ATIVO               0            7               1   \n",
      "11960     53787  ATIVO               1            1               4   \n",
      "11961     53789  ATIVO               0            4               1   \n",
      "11962     53948  ATIVO               0            3               1   \n",
      "11963     55036  ATIVO               0            0               0   \n",
      "11964     54030  ATIVO               0            0               0   \n",
      "11965     54768  ATIVO               0            0               0   \n",
      "11967     54654  ATIVO               0            0               0   \n",
      "11968     54283  ATIVO               1            1               0   \n",
      "11969     54433  ATIVO               0            1               1   \n",
      "11970     54449  ATIVO               2            1               0   \n",
      "11972     54474  ATIVO               0            1               0   \n",
      "11974     54523  ATIVO               0            0               0   \n",
      "11976     54629  ATIVO               0            0               0   \n",
      "11977     54630  ATIVO               0            0               0   \n",
      "11978     54634  ATIVO               0            0               0   \n",
      "11979     54665  ATIVO               0            0               0   \n",
      "11980     54739  ATIVO               0            0               0   \n",
      "11981     54860  ATIVO               0            0               0   \n",
      "11982     55313  ATIVO               0            0               0   \n",
      "11983     55174  ATIVO               0            0               0   \n",
      "11984     55183  ATIVO               0            0               0   \n",
      "11985     55648  ATIVO               0            0               0   \n",
      "11986     55789  ATIVO               0            0               0   \n",
      "11987     49255  ATIVO               0            8               4   \n",
      "\n",
      "       qtde_frequencia_ano  \n",
      "0                        0  \n",
      "1                        0  \n",
      "2                        0  \n",
      "3                        0  \n",
      "4                        0  \n",
      "5                        0  \n",
      "7                        0  \n",
      "8                        0  \n",
      "9                        0  \n",
      "10                       0  \n",
      "11                       0  \n",
      "13                       0  \n",
      "14                       0  \n",
      "15                       0  \n",
      "16                       0  \n",
      "17                       0  \n",
      "20                       0  \n",
      "21                       0  \n",
      "23                       0  \n",
      "24                       0  \n",
      "25                       0  \n",
      "26                       0  \n",
      "27                       0  \n",
      "30                       0  \n",
      "31                       0  \n",
      "32                       0  \n",
      "33                       0  \n",
      "34                       0  \n",
      "35                       0  \n",
      "36                       0  \n",
      "...                    ...  \n",
      "11952                    0  \n",
      "11953                   98  \n",
      "11954                    8  \n",
      "11955                    0  \n",
      "11956                    0  \n",
      "11957                    3  \n",
      "11960                   81  \n",
      "11961                   31  \n",
      "11962                   59  \n",
      "11963                    0  \n",
      "11964                    0  \n",
      "11965                    0  \n",
      "11967                    0  \n",
      "11968                   12  \n",
      "11969                    1  \n",
      "11970                    1  \n",
      "11972                    0  \n",
      "11974                    0  \n",
      "11976                    0  \n",
      "11977                    0  \n",
      "11978                    0  \n",
      "11979                    0  \n",
      "11980                    0  \n",
      "11981                    0  \n",
      "11982                    0  \n",
      "11983                    0  \n",
      "11984                    0  \n",
      "11985                    0  \n",
      "11986                    0  \n",
      "11987                    4  \n",
      "\n",
      "[3389 rows x 6 columns]\n"
     ]
    }
   ],
   "source": [
    "# Todos os Status cancelados\n",
    "\n",
    "# Podemos observar que as colunas qtde_em_aberto, qtde_em_dia e qtde_em_atraso\n",
    "# estão zeradas, o que dificuta a compreensão, pois a coluna qtde_em_dia é oposta a qtde_em_atraso?\n",
    "\n",
    "# uma sugestão para uma melhor análise seria a data de cadastro do sócio e a data da saída?\n",
    "# Conferir a possibilidade com o Reinaldo.\n",
    "\n",
    "# Uma dúvida: um sócio tem condições para abandonar o clube? \n",
    "\n",
    "ativos = df[\"status\"] == \"ATIVO\"\n",
    "ativos = df[ativos]\n",
    "ativos.head(5)\n",
    "print(ativos)"
   ]
  },
  {
   "cell_type": "code",
   "execution_count": 86,
   "metadata": {},
   "outputs": [
    {
     "name": "stdout",
     "output_type": "stream",
     "text": [
      "id_socio               int64\n",
      "status                 int64\n",
      "qtde_em_aberto         int64\n",
      "qtde_em_dia            int64\n",
      "qtde_em_atraso         int64\n",
      "qtde_frequencia_ano    int64\n",
      "dtype: object\n"
     ]
    }
   ],
   "source": [
    "# Passando os todas as colunas para o tipo inteiro\n",
    "\n",
    "label_encoder = preprocessing.LabelEncoder()\n",
    "\n",
    "df['id_socio'] = label_encoder.fit_transform(df['id_socio'])\n",
    "df['status'] = label_encoder.fit_transform(df['status'])\n",
    "df['qtde_em_aberto'] = label_encoder.fit_transform(df['qtde_em_aberto'])\n",
    "df['qtde_em_dia'] = label_encoder.fit_transform(df['qtde_em_dia'])\n",
    "df['qtde_em_atraso'] = label_encoder.fit_transform(df['qtde_em_atraso'])\n",
    "\n",
    "print (df.dtypes)"
   ]
  },
  {
   "cell_type": "code",
   "execution_count": 87,
   "metadata": {},
   "outputs": [
    {
     "data": {
      "text/html": [
       "<div>\n",
       "<style scoped>\n",
       "    .dataframe tbody tr th:only-of-type {\n",
       "        vertical-align: middle;\n",
       "    }\n",
       "\n",
       "    .dataframe tbody tr th {\n",
       "        vertical-align: top;\n",
       "    }\n",
       "\n",
       "    .dataframe thead th {\n",
       "        text-align: right;\n",
       "    }\n",
       "</style>\n",
       "<table border=\"1\" class=\"dataframe\">\n",
       "  <thead>\n",
       "    <tr style=\"text-align: right;\">\n",
       "      <th></th>\n",
       "      <th>id_socio</th>\n",
       "      <th>status</th>\n",
       "      <th>qtde_em_aberto</th>\n",
       "      <th>qtde_em_dia</th>\n",
       "      <th>qtde_em_atraso</th>\n",
       "      <th>qtde_frequencia_ano</th>\n",
       "    </tr>\n",
       "  </thead>\n",
       "  <tbody>\n",
       "    <tr>\n",
       "      <th>0</th>\n",
       "      <td>11910</td>\n",
       "      <td>0</td>\n",
       "      <td>0</td>\n",
       "      <td>0</td>\n",
       "      <td>0</td>\n",
       "      <td>0</td>\n",
       "    </tr>\n",
       "    <tr>\n",
       "      <th>1</th>\n",
       "      <td>11905</td>\n",
       "      <td>0</td>\n",
       "      <td>0</td>\n",
       "      <td>0</td>\n",
       "      <td>0</td>\n",
       "      <td>0</td>\n",
       "    </tr>\n",
       "    <tr>\n",
       "      <th>2</th>\n",
       "      <td>11906</td>\n",
       "      <td>0</td>\n",
       "      <td>0</td>\n",
       "      <td>0</td>\n",
       "      <td>0</td>\n",
       "      <td>0</td>\n",
       "    </tr>\n",
       "    <tr>\n",
       "      <th>3</th>\n",
       "      <td>11896</td>\n",
       "      <td>0</td>\n",
       "      <td>0</td>\n",
       "      <td>0</td>\n",
       "      <td>0</td>\n",
       "      <td>0</td>\n",
       "    </tr>\n",
       "    <tr>\n",
       "      <th>4</th>\n",
       "      <td>11865</td>\n",
       "      <td>0</td>\n",
       "      <td>0</td>\n",
       "      <td>0</td>\n",
       "      <td>0</td>\n",
       "      <td>0</td>\n",
       "    </tr>\n",
       "  </tbody>\n",
       "</table>\n",
       "</div>"
      ],
      "text/plain": [
       "   id_socio  status  qtde_em_aberto  qtde_em_dia  qtde_em_atraso  \\\n",
       "0     11910       0               0            0               0   \n",
       "1     11905       0               0            0               0   \n",
       "2     11906       0               0            0               0   \n",
       "3     11896       0               0            0               0   \n",
       "4     11865       0               0            0               0   \n",
       "\n",
       "   qtde_frequencia_ano  \n",
       "0                    0  \n",
       "1                    0  \n",
       "2                    0  \n",
       "3                    0  \n",
       "4                    0  "
      ]
     },
     "execution_count": 87,
     "metadata": {},
     "output_type": "execute_result"
    }
   ],
   "source": [
    "df.head()"
   ]
  },
  {
   "cell_type": "code",
   "execution_count": 88,
   "metadata": {},
   "outputs": [],
   "source": [
    "# identificando a correlação entre as variáveis\n",
    "# Correlação não implica causalidade\n",
    "\n",
    "def plot_corr(df, size=10):\n",
    "    corr = df.corr()\n",
    "    fig, ax = plt.subplots(figsize = (size, size))\n",
    "    ax.matshow(corr)\n",
    "    plt.xticks(range(len(corr.columns)), corr.columns)\n",
    "    plt.yticks(range(len(corr.columns)), corr.columns)"
   ]
  },
  {
   "cell_type": "code",
   "execution_count": 89,
   "metadata": {},
   "outputs": [
    {
     "data": {
      "image/png": "[encoded data removed]",
      "text/plain": [
       "<Figure size 720x720 with 1 Axes>"
      ]
     },
     "metadata": {
      "needs_background": "light"
     },
     "output_type": "display_data"
    }
   ],
   "source": [
    "# criando o gráfico da função acima\n",
    "\n",
    "plot_corr(df)"
   ]
  },
  {
   "cell_type": "code",
   "execution_count": 90,
   "metadata": {},
   "outputs": [
    {
     "data": {
      "text/html": [
       "<div>\n",
       "<style scoped>\n",
       "    .dataframe tbody tr th:only-of-type {\n",
       "        vertical-align: middle;\n",
       "    }\n",
       "\n",
       "    .dataframe tbody tr th {\n",
       "        vertical-align: top;\n",
       "    }\n",
       "\n",
       "    .dataframe thead th {\n",
       "        text-align: right;\n",
       "    }\n",
       "</style>\n",
       "<table border=\"1\" class=\"dataframe\">\n",
       "  <thead>\n",
       "    <tr style=\"text-align: right;\">\n",
       "      <th></th>\n",
       "      <th>id_socio</th>\n",
       "      <th>status</th>\n",
       "      <th>qtde_em_aberto</th>\n",
       "      <th>qtde_em_dia</th>\n",
       "      <th>qtde_em_atraso</th>\n",
       "      <th>qtde_frequencia_ano</th>\n",
       "    </tr>\n",
       "  </thead>\n",
       "  <tbody>\n",
       "    <tr>\n",
       "      <th>id_socio</th>\n",
       "      <td>1.000000</td>\n",
       "      <td>-0.228333</td>\n",
       "      <td>-0.046431</td>\n",
       "      <td>0.007105</td>\n",
       "      <td>0.033373</td>\n",
       "      <td>-0.008480</td>\n",
       "    </tr>\n",
       "    <tr>\n",
       "      <th>status</th>\n",
       "      <td>-0.228333</td>\n",
       "      <td>1.000000</td>\n",
       "      <td>-0.014005</td>\n",
       "      <td>-0.359070</td>\n",
       "      <td>-0.308415</td>\n",
       "      <td>-0.261584</td>\n",
       "    </tr>\n",
       "    <tr>\n",
       "      <th>qtde_em_aberto</th>\n",
       "      <td>-0.046431</td>\n",
       "      <td>-0.014005</td>\n",
       "      <td>1.000000</td>\n",
       "      <td>-0.032348</td>\n",
       "      <td>0.031767</td>\n",
       "      <td>0.041415</td>\n",
       "    </tr>\n",
       "    <tr>\n",
       "      <th>qtde_em_dia</th>\n",
       "      <td>0.007105</td>\n",
       "      <td>-0.359070</td>\n",
       "      <td>-0.032348</td>\n",
       "      <td>1.000000</td>\n",
       "      <td>0.382745</td>\n",
       "      <td>0.484203</td>\n",
       "    </tr>\n",
       "    <tr>\n",
       "      <th>qtde_em_atraso</th>\n",
       "      <td>0.033373</td>\n",
       "      <td>-0.308415</td>\n",
       "      <td>0.031767</td>\n",
       "      <td>0.382745</td>\n",
       "      <td>1.000000</td>\n",
       "      <td>0.339064</td>\n",
       "    </tr>\n",
       "    <tr>\n",
       "      <th>qtde_frequencia_ano</th>\n",
       "      <td>-0.008480</td>\n",
       "      <td>-0.261584</td>\n",
       "      <td>0.041415</td>\n",
       "      <td>0.484203</td>\n",
       "      <td>0.339064</td>\n",
       "      <td>1.000000</td>\n",
       "    </tr>\n",
       "  </tbody>\n",
       "</table>\n",
       "</div>"
      ],
      "text/plain": [
       "                     id_socio    status  qtde_em_aberto  qtde_em_dia  \\\n",
       "id_socio             1.000000 -0.228333       -0.046431     0.007105   \n",
       "status              -0.228333  1.000000       -0.014005    -0.359070   \n",
       "qtde_em_aberto      -0.046431 -0.014005        1.000000    -0.032348   \n",
       "qtde_em_dia          0.007105 -0.359070       -0.032348     1.000000   \n",
       "qtde_em_atraso       0.033373 -0.308415        0.031767     0.382745   \n",
       "qtde_frequencia_ano -0.008480 -0.261584        0.041415     0.484203   \n",
       "\n",
       "                     qtde_em_atraso  qtde_frequencia_ano  \n",
       "id_socio                   0.033373            -0.008480  \n",
       "status                    -0.308415            -0.261584  \n",
       "qtde_em_aberto             0.031767             0.041415  \n",
       "qtde_em_dia                0.382745             0.484203  \n",
       "qtde_em_atraso             1.000000             0.339064  \n",
       "qtde_frequencia_ano        0.339064             1.000000  "
      ]
     },
     "execution_count": 90,
     "metadata": {},
     "output_type": "execute_result"
    }
   ],
   "source": [
    "# Visualizando a correlação em tabela\n",
    "# Coeficiente de correlação:\n",
    "   \n",
    "    # +1 = forte correlação positiva\n",
    "    # 0 = não há correlação\n",
    "    # -1 forte correlação negativa\n",
    "df.corr()"
   ]
  },
  {
   "cell_type": "code",
   "execution_count": 91,
   "metadata": {},
   "outputs": [],
   "source": [
    "# Definindo boolean para a coluna Status\n",
    "status_map = {True: 1, False : 0}"
   ]
  },
  {
   "cell_type": "code",
   "execution_count": 92,
   "metadata": {},
   "outputs": [],
   "source": [
    "df['status'] = df['status'].map(status_map)"
   ]
  },
  {
   "cell_type": "code",
   "execution_count": 93,
   "metadata": {},
   "outputs": [
    {
     "data": {
      "text/html": [
       "<div>\n",
       "<style scoped>\n",
       "    .dataframe tbody tr th:only-of-type {\n",
       "        vertical-align: middle;\n",
       "    }\n",
       "\n",
       "    .dataframe tbody tr th {\n",
       "        vertical-align: top;\n",
       "    }\n",
       "\n",
       "    .dataframe thead th {\n",
       "        text-align: right;\n",
       "    }\n",
       "</style>\n",
       "<table border=\"1\" class=\"dataframe\">\n",
       "  <thead>\n",
       "    <tr style=\"text-align: right;\">\n",
       "      <th></th>\n",
       "      <th>id_socio</th>\n",
       "      <th>status</th>\n",
       "      <th>qtde_em_aberto</th>\n",
       "      <th>qtde_em_dia</th>\n",
       "      <th>qtde_em_atraso</th>\n",
       "      <th>qtde_frequencia_ano</th>\n",
       "    </tr>\n",
       "  </thead>\n",
       "  <tbody>\n",
       "    <tr>\n",
       "      <th>0</th>\n",
       "      <td>11910</td>\n",
       "      <td>0</td>\n",
       "      <td>0</td>\n",
       "      <td>0</td>\n",
       "      <td>0</td>\n",
       "      <td>0</td>\n",
       "    </tr>\n",
       "    <tr>\n",
       "      <th>1</th>\n",
       "      <td>11905</td>\n",
       "      <td>0</td>\n",
       "      <td>0</td>\n",
       "      <td>0</td>\n",
       "      <td>0</td>\n",
       "      <td>0</td>\n",
       "    </tr>\n",
       "    <tr>\n",
       "      <th>2</th>\n",
       "      <td>11906</td>\n",
       "      <td>0</td>\n",
       "      <td>0</td>\n",
       "      <td>0</td>\n",
       "      <td>0</td>\n",
       "      <td>0</td>\n",
       "    </tr>\n",
       "    <tr>\n",
       "      <th>3</th>\n",
       "      <td>11896</td>\n",
       "      <td>0</td>\n",
       "      <td>0</td>\n",
       "      <td>0</td>\n",
       "      <td>0</td>\n",
       "      <td>0</td>\n",
       "    </tr>\n",
       "    <tr>\n",
       "      <th>4</th>\n",
       "      <td>11865</td>\n",
       "      <td>0</td>\n",
       "      <td>0</td>\n",
       "      <td>0</td>\n",
       "      <td>0</td>\n",
       "      <td>0</td>\n",
       "    </tr>\n",
       "    <tr>\n",
       "      <th>5</th>\n",
       "      <td>11839</td>\n",
       "      <td>0</td>\n",
       "      <td>0</td>\n",
       "      <td>0</td>\n",
       "      <td>0</td>\n",
       "      <td>0</td>\n",
       "    </tr>\n",
       "    <tr>\n",
       "      <th>6</th>\n",
       "      <td>10466</td>\n",
       "      <td>1</td>\n",
       "      <td>24</td>\n",
       "      <td>0</td>\n",
       "      <td>0</td>\n",
       "      <td>0</td>\n",
       "    </tr>\n",
       "  </tbody>\n",
       "</table>\n",
       "</div>"
      ],
      "text/plain": [
       "   id_socio  status  qtde_em_aberto  qtde_em_dia  qtde_em_atraso  \\\n",
       "0     11910       0               0            0               0   \n",
       "1     11905       0               0            0               0   \n",
       "2     11906       0               0            0               0   \n",
       "3     11896       0               0            0               0   \n",
       "4     11865       0               0            0               0   \n",
       "5     11839       0               0            0               0   \n",
       "6     10466       1              24            0               0   \n",
       "\n",
       "   qtde_frequencia_ano  \n",
       "0                    0  \n",
       "1                    0  \n",
       "2                    0  \n",
       "3                    0  \n",
       "4                    0  \n",
       "5                    0  \n",
       "6                    0  "
      ]
     },
     "execution_count": 93,
     "metadata": {},
     "output_type": "execute_result"
    }
   ],
   "source": [
    "# Conferindo até achar os 2 status: 0 e 1.\n",
    "df.head(7)"
   ]
  },
  {
   "cell_type": "code",
   "execution_count": 94,
   "metadata": {},
   "outputs": [],
   "source": [
    "# SPLITING (Separando a base de teste)\n",
    "# 70% para dados de treino\n",
    "# 30% para dados de teste\n",
    "\n",
    "from sklearn.model_selection import train_test_split"
   ]
  },
  {
   "cell_type": "code",
   "execution_count": 95,
   "metadata": {},
   "outputs": [],
   "source": [
    "# Seleção de variáveis (Feature Selection)\n",
    "atributos = ['qtde_em_aberto', 'qtde_em_dia', 'qtde_em_atraso', 'qtde_frequencia_ano']"
   ]
  },
  {
   "cell_type": "code",
   "execution_count": 96,
   "metadata": {},
   "outputs": [],
   "source": [
    "# Variável para ser prevista\n",
    "atrib_prev = ['status']"
   ]
  },
  {
   "cell_type": "code",
   "execution_count": 97,
   "metadata": {},
   "outputs": [],
   "source": [
    "# Criando os objetos\n",
    "X = df[atributos].values\n",
    "Y = df[atrib_prev].values"
   ]
  },
  {
   "cell_type": "code",
   "execution_count": 98,
   "metadata": {},
   "outputs": [],
   "source": [
    "# Definindo a taxa de split\n",
    "split_test_size = 0.30"
   ]
  },
  {
   "cell_type": "code",
   "execution_count": 99,
   "metadata": {},
   "outputs": [],
   "source": [
    "# Criando dados de treino e de teste\n",
    "X_treino, X_teste, Y_treino, Y_teste = train_test_split(X, Y, test_size = split_test_size, random_state = 42)"
   ]
  },
  {
   "cell_type": "code",
   "execution_count": 100,
   "metadata": {},
   "outputs": [
    {
     "name": "stdout",
     "output_type": "stream",
     "text": [
      "69.99% nos dados de treino\n",
      "30.01% nos dados de teste\n"
     ]
    }
   ],
   "source": [
    "# Imprimindo os resultados\n",
    "print(\"{0:0.2f}% nos dados de treino\".format((len(X_treino)/len(df.index)) * 100))\n",
    "print(\"{0:0.2f}% nos dados de teste\".format((len(X_teste)/len(df.index)) * 100))"
   ]
  },
  {
   "cell_type": "code",
   "execution_count": 103,
   "metadata": {},
   "outputs": [
    {
     "name": "stdout",
     "output_type": "stream",
     "text": [
      "Original True: 8599 (71.73%)\n",
      "Original False: 3389 (28.27%)\n",
      "\n",
      "Training True: 5983 (71.30%)\n",
      "Training False: 2408 (28.70%)\n",
      "\n",
      "Test True: 2616 (72.73%)\n",
      "Test False: 981 (27.27%)\n"
     ]
    }
   ],
   "source": [
    "# Verificando o Split\n",
    "\n",
    "print(\"Original True: {0} ({1:0.2f}%)\".format(len(df.loc[df['status'] == 1]),\n",
    "                                             (len(df.loc[df['status'] == 1])/len(df.index) * 100)))\n",
    "\n",
    "print(\"Original False: {0} ({1:0.2f}%)\".format(len(df.loc[df['status'] == 0]),\n",
    "                                             (len(df.loc[df['status'] == 0])/len(df.index) * 100)))\n",
    "print(\"\")\n",
    "print(\"Training True: {0} ({1:0.2f}%)\".format(len(Y_treino[Y_treino[:] == 1]),\n",
    "                                             (len(Y_treino[Y_treino[:] == 1])/len(Y_treino) * 100)))\n",
    "\n",
    "print(\"Training False: {0} ({1:0.2f}%)\".format(len(Y_treino[Y_treino[:] == 0]),\n",
    "                                             (len(Y_treino[Y_treino[:] == 0])/len(Y_treino) * 100)))\n",
    "\n",
    "print(\"\")\n",
    "print(\"Test True: {0} ({1:0.2f}%)\".format(len(Y_teste[Y_teste[:] == 1]),\n",
    "                                             (len(Y_teste[Y_teste[:] == 1])/len(Y_teste) * 100)))\n",
    "\n",
    "print(\"Test False: {0} ({1:0.2f}%)\".format(len(Y_teste[Y_teste[:] == 0]),\n",
    "                                             (len(Y_teste[Y_teste[:] == 0])/len(Y_teste) * 100)))"
   ]
  },
  {
   "cell_type": "code",
   "execution_count": 106,
   "metadata": {},
   "outputs": [
    {
     "data": {
      "text/html": [
       "<div>\n",
       "<style scoped>\n",
       "    .dataframe tbody tr th:only-of-type {\n",
       "        vertical-align: middle;\n",
       "    }\n",
       "\n",
       "    .dataframe tbody tr th {\n",
       "        vertical-align: top;\n",
       "    }\n",
       "\n",
       "    .dataframe thead th {\n",
       "        text-align: right;\n",
       "    }\n",
       "</style>\n",
       "<table border=\"1\" class=\"dataframe\">\n",
       "  <thead>\n",
       "    <tr style=\"text-align: right;\">\n",
       "      <th></th>\n",
       "      <th>id_socio</th>\n",
       "      <th>status</th>\n",
       "      <th>qtde_em_aberto</th>\n",
       "      <th>qtde_em_dia</th>\n",
       "      <th>qtde_em_atraso</th>\n",
       "      <th>qtde_frequencia_ano</th>\n",
       "    </tr>\n",
       "  </thead>\n",
       "  <tbody>\n",
       "    <tr>\n",
       "      <th>0</th>\n",
       "      <td>11910</td>\n",
       "      <td>0</td>\n",
       "      <td>0</td>\n",
       "      <td>0</td>\n",
       "      <td>0</td>\n",
       "      <td>0</td>\n",
       "    </tr>\n",
       "    <tr>\n",
       "      <th>1</th>\n",
       "      <td>11905</td>\n",
       "      <td>0</td>\n",
       "      <td>0</td>\n",
       "      <td>0</td>\n",
       "      <td>0</td>\n",
       "      <td>0</td>\n",
       "    </tr>\n",
       "    <tr>\n",
       "      <th>2</th>\n",
       "      <td>11906</td>\n",
       "      <td>0</td>\n",
       "      <td>0</td>\n",
       "      <td>0</td>\n",
       "      <td>0</td>\n",
       "      <td>0</td>\n",
       "    </tr>\n",
       "    <tr>\n",
       "      <th>3</th>\n",
       "      <td>11896</td>\n",
       "      <td>0</td>\n",
       "      <td>0</td>\n",
       "      <td>0</td>\n",
       "      <td>0</td>\n",
       "      <td>0</td>\n",
       "    </tr>\n",
       "    <tr>\n",
       "      <th>4</th>\n",
       "      <td>11865</td>\n",
       "      <td>0</td>\n",
       "      <td>0</td>\n",
       "      <td>0</td>\n",
       "      <td>0</td>\n",
       "      <td>0</td>\n",
       "    </tr>\n",
       "    <tr>\n",
       "      <th>5</th>\n",
       "      <td>11839</td>\n",
       "      <td>0</td>\n",
       "      <td>0</td>\n",
       "      <td>0</td>\n",
       "      <td>0</td>\n",
       "      <td>0</td>\n",
       "    </tr>\n",
       "    <tr>\n",
       "      <th>6</th>\n",
       "      <td>10466</td>\n",
       "      <td>1</td>\n",
       "      <td>24</td>\n",
       "      <td>0</td>\n",
       "      <td>0</td>\n",
       "      <td>0</td>\n",
       "    </tr>\n",
       "  </tbody>\n",
       "</table>\n",
       "</div>"
      ],
      "text/plain": [
       "   id_socio  status  qtde_em_aberto  qtde_em_dia  qtde_em_atraso  \\\n",
       "0     11910       0               0            0               0   \n",
       "1     11905       0               0            0               0   \n",
       "2     11906       0               0            0               0   \n",
       "3     11896       0               0            0               0   \n",
       "4     11865       0               0            0               0   \n",
       "5     11839       0               0            0               0   \n",
       "6     10466       1              24            0               0   \n",
       "\n",
       "   qtde_frequencia_ano  \n",
       "0                    0  \n",
       "1                    0  \n",
       "2                    0  \n",
       "3                    0  \n",
       "4                    0  \n",
       "5                    0  \n",
       "6                    0  "
      ]
     },
     "execution_count": 106,
     "metadata": {},
     "output_type": "execute_result"
    }
   ],
   "source": [
    "df.head(7)"
   ]
  },
  {
   "cell_type": "code",
   "execution_count": 108,
   "metadata": {},
   "outputs": [],
   "source": [
    "# Construindo e treinando o modelo preditivo\n",
    "# Utilizando um classificador de Naive Bayes\n",
    "\n",
    "modelo_v1 = GaussianNB()"
   ]
  },
  {
   "cell_type": "code",
   "execution_count": 109,
   "metadata": {},
   "outputs": [
    {
     "data": {
      "text/plain": [
       "GaussianNB(priors=None, var_smoothing=1e-09)"
      ]
     },
     "execution_count": 109,
     "metadata": {},
     "output_type": "execute_result"
    }
   ],
   "source": [
    "# Treinando o modelo\n",
    "\n",
    "modelo_v1.fit(X_treino, Y_treino.ravel())"
   ]
  },
  {
   "cell_type": "code",
   "execution_count": 110,
   "metadata": {},
   "outputs": [
    {
     "name": "stdout",
     "output_type": "stream",
     "text": [
      "Exatidão (Accuracy):  0.7899\n",
      "\n"
     ]
    }
   ],
   "source": [
    "# Verificando a exatidão no modelo nos dados de treino\n",
    "from sklearn import metrics\n",
    "\n",
    "nb_predict_train = modelo_v1.predict(X_treino)\n",
    "\n",
    "print(\"Exatidão (Accuracy): {0: .4f}\".format(metrics.accuracy_score(Y_treino, nb_predict_train)))\n",
    "print()"
   ]
  },
  {
   "cell_type": "code",
   "execution_count": null,
   "metadata": {},
   "outputs": [],
   "source": []
  }
 ],
 "metadata": {
  "kernelspec": {
   "display_name": "Python 3",
   "language": "python",
   "name": "python3"
  },
  "language_info": {
   "codemirror_mode": {
    "name": "ipython",
    "version": 3
   },
   "file_extension": ".py",
   "mimetype": "text/x-python",
   "name": "python",
   "nbconvert_exporter": "python",
   "pygments_lexer": "ipython3",
   "version": "3.5.2"
  }
 },
 "nbformat": 4,
 "nbformat_minor": 2
}
