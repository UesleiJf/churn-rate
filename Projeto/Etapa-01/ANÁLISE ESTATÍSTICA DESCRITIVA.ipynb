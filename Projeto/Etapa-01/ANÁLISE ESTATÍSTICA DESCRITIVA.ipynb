{
 "cells": [
  {
   "cell_type": "code",
   "execution_count": 1,
   "metadata": {},
   "outputs": [],
   "source": [
    "import matplotlib.pyplot as plt\n",
    "import pandas as pd\n",
    "import seaborn as sns"
   ]
  },
  {
   "cell_type": "code",
   "execution_count": 2,
   "metadata": {},
   "outputs": [],
   "source": [
    "# ignorando alertas (não erros)\n",
    "\n",
    "import warnings\n",
    "warnings.filterwarnings('ignore')"
   ]
  },
  {
   "cell_type": "code",
   "execution_count": 4,
   "metadata": {},
   "outputs": [],
   "source": [
    "# importando o dataset\n",
    "df = pd.read_csv('../dataset/data-set-clube-new-v2.csv', sep=';')"
   ]
  },
  {
   "cell_type": "code",
   "execution_count": 32,
   "metadata": {},
   "outputs": [
    {
     "data": {
      "text/plain": [
       "False"
      ]
     },
     "execution_count": 32,
     "metadata": {},
     "output_type": "execute_result"
    }
   ],
   "source": [
    "# conferindo se existe valor nulo no dataset\n",
    "df.isnull().values.any()"
   ]
  },
  {
   "cell_type": "code",
   "execution_count": 33,
   "metadata": {},
   "outputs": [],
   "source": [
    "# Removendo a coluna id_socio (não usaremos ela por enquanto)\n",
    "df.drop('id_socio', inplace=True, axis=1)"
   ]
  },
  {
   "cell_type": "code",
   "execution_count": 49,
   "metadata": {},
   "outputs": [
    {
     "data": {
      "text/html": [
       "<div>\n",
       "<style scoped>\n",
       "    .dataframe tbody tr th:only-of-type {\n",
       "        vertical-align: middle;\n",
       "    }\n",
       "\n",
       "    .dataframe tbody tr th {\n",
       "        vertical-align: top;\n",
       "    }\n",
       "\n",
       "    .dataframe thead th {\n",
       "        text-align: right;\n",
       "    }\n",
       "</style>\n",
       "<table border=\"1\" class=\"dataframe\">\n",
       "  <thead>\n",
       "    <tr style=\"text-align: right;\">\n",
       "      <th></th>\n",
       "      <th>status</th>\n",
       "      <th>qtde_em_aberto</th>\n",
       "      <th>qtde_em_dia</th>\n",
       "      <th>qtde_em_atraso</th>\n",
       "      <th>qtde_frequencia_ano</th>\n",
       "    </tr>\n",
       "  </thead>\n",
       "  <tbody>\n",
       "    <tr>\n",
       "      <th>0</th>\n",
       "      <td>CANCELADO</td>\n",
       "      <td>24</td>\n",
       "      <td>0</td>\n",
       "      <td>0</td>\n",
       "      <td>0</td>\n",
       "    </tr>\n",
       "  </tbody>\n",
       "</table>\n",
       "</div>"
      ],
      "text/plain": [
       "      status  qtde_em_aberto  qtde_em_dia  qtde_em_atraso  qtde_frequencia_ano\n",
       "0  CANCELADO              24            0               0                    0"
      ]
     },
     "execution_count": 49,
     "metadata": {},
     "output_type": "execute_result"
    }
   ],
   "source": [
    "df.head(1)"
   ]
  },
  {
   "cell_type": "code",
   "execution_count": 65,
   "metadata": {},
   "outputs": [],
   "source": [
    "# Separando o dataset por status = ATIVO ou CANCELADO\n",
    "\n",
    "socio_ativo = (df['status'] == \"ATIVO\")\n",
    "socio_ativo = df[socio_ativo]\n",
    "\n",
    "socio_cancelado = (df['status'] == \"CANCELADO\")\n",
    "socio_cancelado = df[socio_cancelado]"
   ]
  },
  {
   "cell_type": "markdown",
   "metadata": {},
   "source": [
    "Nos próximos blocos analisaremos as 2 variáveis acima em: desvio padrão, máximo e mínimo,\n",
    "média, correlação e faremos alguns gráficos para melhor análise."
   ]
  },
  {
   "cell_type": "markdown",
   "metadata": {},
   "source": [
    "##### 1 - DESVIO PADRÃO"
   ]
  },
  {
   "cell_type": "code",
   "execution_count": 66,
   "metadata": {},
   "outputs": [
    {
     "data": {
      "text/plain": [
       "qtde_em_aberto          9.562430\n",
       "qtde_em_dia             7.601072\n",
       "qtde_em_atraso          6.239905\n",
       "qtde_frequencia_ano    47.810617\n",
       "dtype: float64"
      ]
     },
     "execution_count": 66,
     "metadata": {},
     "output_type": "execute_result"
    }
   ],
   "source": [
    "# Desvio padrão ATIVO\n",
    "socio_ativo.std()"
   ]
  },
  {
   "cell_type": "code",
   "execution_count": 68,
   "metadata": {},
   "outputs": [
    {
     "data": {
      "text/plain": [
       "qtde_em_aberto          8.599585\n",
       "qtde_em_dia             3.402545\n",
       "qtde_em_atraso          3.195524\n",
       "qtde_frequencia_ano    13.317581\n",
       "dtype: float64"
      ]
     },
     "execution_count": 68,
     "metadata": {},
     "output_type": "execute_result"
    }
   ],
   "source": [
    "# Desvio padrão CANCELADO\n",
    "socio_cancelado.std()"
   ]
  },
  {
   "cell_type": "markdown",
   "metadata": {},
   "source": [
    "##### 2 - MÁXIMO"
   ]
  },
  {
   "cell_type": "code",
   "execution_count": 75,
   "metadata": {},
   "outputs": [
    {
     "data": {
      "text/plain": [
       "status                 ATIVO\n",
       "qtde_em_aberto            55\n",
       "qtde_em_dia               53\n",
       "qtde_em_atraso            39\n",
       "qtde_frequencia_ano      490\n",
       "dtype: object"
      ]
     },
     "execution_count": 75,
     "metadata": {},
     "output_type": "execute_result"
    }
   ],
   "source": [
    "# Máximo sócio Ativo\n",
    "socio_ativo.max()"
   ]
  },
  {
   "cell_type": "code",
   "execution_count": 76,
   "metadata": {},
   "outputs": [
    {
     "data": {
      "text/plain": [
       "status                 CANCELADO\n",
       "qtde_em_aberto                48\n",
       "qtde_em_dia                   24\n",
       "qtde_em_atraso                24\n",
       "qtde_frequencia_ano          217\n",
       "dtype: object"
      ]
     },
     "execution_count": 76,
     "metadata": {},
     "output_type": "execute_result"
    }
   ],
   "source": [
    "# Máximo sócio Cancelado\n",
    "socio_cancelado.max()"
   ]
  },
  {
   "cell_type": "markdown",
   "metadata": {},
   "source": [
    "##### 3 - MÍNIMO"
   ]
  },
  {
   "cell_type": "code",
   "execution_count": 77,
   "metadata": {},
   "outputs": [
    {
     "data": {
      "text/plain": [
       "status                 ATIVO\n",
       "qtde_em_aberto             0\n",
       "qtde_em_dia                0\n",
       "qtde_em_atraso             0\n",
       "qtde_frequencia_ano        0\n",
       "dtype: object"
      ]
     },
     "execution_count": 77,
     "metadata": {},
     "output_type": "execute_result"
    }
   ],
   "source": [
    "# Mínimo sócio Ativo\n",
    "socio_ativo.min()"
   ]
  },
  {
   "cell_type": "code",
   "execution_count": 78,
   "metadata": {},
   "outputs": [
    {
     "data": {
      "text/plain": [
       "status                 CANCELADO\n",
       "qtde_em_aberto                 0\n",
       "qtde_em_dia                    0\n",
       "qtde_em_atraso                 0\n",
       "qtde_frequencia_ano            0\n",
       "dtype: object"
      ]
     },
     "execution_count": 78,
     "metadata": {},
     "output_type": "execute_result"
    }
   ],
   "source": [
    "# Mínimo sócio Cancelado\n",
    "socio_cancelado.min()"
   ]
  },
  {
   "cell_type": "markdown",
   "metadata": {},
   "source": [
    "##### 4 - MÉDIA"
   ]
  },
  {
   "cell_type": "code",
   "execution_count": 80,
   "metadata": {},
   "outputs": [
    {
     "data": {
      "text/plain": [
       "qtde_em_aberto          7.483156\n",
       "qtde_em_dia             5.438830\n",
       "qtde_em_atraso          3.946809\n",
       "qtde_frequencia_ano    21.666667\n",
       "dtype: float64"
      ]
     },
     "execution_count": 80,
     "metadata": {},
     "output_type": "execute_result"
    }
   ],
   "source": [
    "# Média sócio Ativo\n",
    "socio_ativo.mean()"
   ]
  },
  {
   "cell_type": "code",
   "execution_count": 82,
   "metadata": {},
   "outputs": [
    {
     "data": {
      "text/plain": [
       "qtde_em_aberto         19.725032\n",
       "qtde_em_dia             1.308690\n",
       "qtde_em_atraso          1.064851\n",
       "qtde_frequencia_ano     2.741894\n",
       "dtype: float64"
      ]
     },
     "execution_count": 82,
     "metadata": {},
     "output_type": "execute_result"
    }
   ],
   "source": [
    "# Média sócio Cancelado\n",
    "socio_cancelado.mean()"
   ]
  },
  {
   "cell_type": "markdown",
   "metadata": {},
   "source": [
    "##### 5 - CORRELAÇÃO"
   ]
  },
  {
   "cell_type": "code",
   "execution_count": 83,
   "metadata": {},
   "outputs": [],
   "source": [
    "# identificando a correlação entre as variáveis\n",
    "# Correlação não implica causalidade\n",
    "\n",
    "def plot_corr(df, size=6):\n",
    "    corr = df.corr()\n",
    "    fig, ax = plt.subplots(figsize = (size, size))\n",
    "    ax.matshow(corr)\n",
    "    plt.xticks(range(len(corr.columns)), corr.columns)\n",
    "    plt.yticks(range(len(corr.columns)), corr.columns)"
   ]
  },
  {
   "cell_type": "code",
   "execution_count": 85,
   "metadata": {},
   "outputs": [
    {
     "data": {
      "text/html": [
       "<div>\n",
       "<style scoped>\n",
       "    .dataframe tbody tr th:only-of-type {\n",
       "        vertical-align: middle;\n",
       "    }\n",
       "\n",
       "    .dataframe tbody tr th {\n",
       "        vertical-align: top;\n",
       "    }\n",
       "\n",
       "    .dataframe thead th {\n",
       "        text-align: right;\n",
       "    }\n",
       "</style>\n",
       "<table border=\"1\" class=\"dataframe\">\n",
       "  <thead>\n",
       "    <tr style=\"text-align: right;\">\n",
       "      <th></th>\n",
       "      <th>qtde_em_aberto</th>\n",
       "      <th>qtde_em_dia</th>\n",
       "      <th>qtde_em_atraso</th>\n",
       "      <th>qtde_frequencia_ano</th>\n",
       "    </tr>\n",
       "  </thead>\n",
       "  <tbody>\n",
       "    <tr>\n",
       "      <th>qtde_em_aberto</th>\n",
       "      <td>1.000000</td>\n",
       "      <td>-0.377307</td>\n",
       "      <td>-0.222397</td>\n",
       "      <td>-0.135453</td>\n",
       "    </tr>\n",
       "    <tr>\n",
       "      <th>qtde_em_dia</th>\n",
       "      <td>-0.377307</td>\n",
       "      <td>1.000000</td>\n",
       "      <td>0.221493</td>\n",
       "      <td>0.402164</td>\n",
       "    </tr>\n",
       "    <tr>\n",
       "      <th>qtde_em_atraso</th>\n",
       "      <td>-0.222397</td>\n",
       "      <td>0.221493</td>\n",
       "      <td>1.000000</td>\n",
       "      <td>0.236802</td>\n",
       "    </tr>\n",
       "    <tr>\n",
       "      <th>qtde_frequencia_ano</th>\n",
       "      <td>-0.135453</td>\n",
       "      <td>0.402164</td>\n",
       "      <td>0.236802</td>\n",
       "      <td>1.000000</td>\n",
       "    </tr>\n",
       "  </tbody>\n",
       "</table>\n",
       "</div>"
      ],
      "text/plain": [
       "                     qtde_em_aberto  qtde_em_dia  qtde_em_atraso  \\\n",
       "qtde_em_aberto             1.000000    -0.377307       -0.222397   \n",
       "qtde_em_dia               -0.377307     1.000000        0.221493   \n",
       "qtde_em_atraso            -0.222397     0.221493        1.000000   \n",
       "qtde_frequencia_ano       -0.135453     0.402164        0.236802   \n",
       "\n",
       "                     qtde_frequencia_ano  \n",
       "qtde_em_aberto                 -0.135453  \n",
       "qtde_em_dia                     0.402164  \n",
       "qtde_em_atraso                  0.236802  \n",
       "qtde_frequencia_ano             1.000000  "
      ]
     },
     "execution_count": 85,
     "metadata": {},
     "output_type": "execute_result"
    }
   ],
   "source": [
    "# Visualizando a correlação em tabela\n",
    "# Coeficiente de correlação:\n",
    "   \n",
    "    # +1 = forte correlação positiva\n",
    "    # 0 = não há correlação\n",
    "    # -1 forte correlação negativa\n",
    "df.corr()"
   ]
  },
  {
   "cell_type": "markdown",
   "metadata": {},
   "source": [
    "Acima podemos ver que a melhor correlação (tendo como base 1 como \"forte correlação POSITIVA\") está entre as variáveis: \n",
    "- qtde_em_dia/qtde_frequencia_ano:  0.402164\n",
    "- qtde_frequencia_ano/qtde_em_atraso:  0.236802\n",
    "\n",
    "Podemos ver também que a pior correlação (tendo como base -1 como \"forte correlação NEGATIVA\") está entre as variáveis:\n",
    "\n",
    "- qtde_em_dia/qtde_em_aberto:  -0.377307\n",
    "- qtde_em_atraso/qtde_em_aberto:  -0.222397"
   ]
  },
  {
   "cell_type": "markdown",
   "metadata": {},
   "source": [
    "##### 6- Gráficos "
   ]
  },
  {
   "cell_type": "markdown",
   "metadata": {},
   "source": [
    "###### 6.1 - Pizza"
   ]
  },
  {
   "cell_type": "code",
   "execution_count": 93,
   "metadata": {},
   "outputs": [
    {
     "data": {
      "image/png": "[encoded data removed]",
      "text/plain": [
       "<Figure size 576x288 with 1 Axes>"
      ]
     },
     "metadata": {},
     "output_type": "display_data"
    },
    {
     "name": "stdout",
     "output_type": "stream",
     "text": [
      "Ativos: 2256\n",
      "Cancelados: 771\n"
     ]
    }
   ],
   "source": [
    "fig = plt.figure(figsize=(8,4))\n",
    "ax = fig.add_axes((0,0,.5,1))\n",
    "ax.set_title('Gráfico de Quantidade de Movimentos em Aberto por Status', bbox={'facecolor':'0.8', 'pad':3})\n",
    "\n",
    "qtde_em_aberto_ativo = (df['status'] == 'ATIVO') & (df['qtde_em_aberto'] >= 0)\n",
    "qtde_em_aberto_ativo = df[qtde_em_aberto_ativo]\n",
    "\n",
    "qtde_em_aberto_cancelado = (df['status'] == 'CANCELADO') & (df['qtde_em_aberto'] >= 0)\n",
    "qtde_em_aberto_cancelado = df[qtde_em_aberto_cancelado]\n",
    "\n",
    "labels = ['Ativo', 'Cancelado']\n",
    "quantidade = [qtde_em_aberto_ativo.shape[0], qtde_em_aberto_cancelado.shape[0]]\n",
    "\n",
    "explode = (0, 0)\n",
    "total = sum(quantidade)\n",
    "plt.pie(quantidade, explode=explode, labels=labels, autopct='%1.1f%%',  shadow=True, startangle=90)\n",
    "\n",
    "plt.axis('equal') \n",
    "plt.show()\n",
    "\n",
    "print('Ativos: %s' % (qtde_em_aberto_ativo.shape[0]))\n",
    "print('Cancelados: %s' % (qtde_em_aberto_cancelado.shape[0]))"
   ]
  },
  {
   "cell_type": "code",
   "execution_count": null,
   "metadata": {},
   "outputs": [],
   "source": [
    "fig = plt.figure(figsize=(8,4))\n",
    "ax = fig.add_axes((0,0,.5,1))\n",
    "ax.set_title('Gráfico de Quantidade de Movimentos em Dia por Status', bbox={'facecolor':'0.8', 'pad':3})\n",
    "\n",
    "qtde_em_dia_ativo = (df['status'] == 'ATIVO') & (df['qtde_em_dia'] >= 0)\n",
    "qtde_em_dia_ativo = df[qtde_em_dia_ativo]\n",
    "\n",
    "qtde_em_dia_cancelado = (df['status'] == 'CANCELADO') & (df['qtde_em_dia'] >= 0)\n",
    "qtde_em_dia_cancelado = df[qtde_em_dia_cancelado]\n",
    "\n",
    "labels = ['Ativo', 'Cancelado']\n",
    "quantidade = [qtde_em_dia_ativo.shape[0], qtde_em_dia_cancelado.shape[0]]\n",
    "\n",
    "explode = (0, 0)\n",
    "total = sum(quantidade)\n",
    "plt.pie(quantidade, explode=explode, labels=labels, autopct='%1.1f%%',  shadow=True, startangle=90)\n",
    "\n",
    "plt.axis('equal') \n",
    "plt.show()\n",
    "\n",
    "print('Ativos: %s' % (qtde_em_dia_ativo.shape[0]))\n",
    "print('Cancelados: %s' % (qtde_em_dia_cancelado.shape[0]))"
   ]
  }
 ],
 "metadata": {
  "kernelspec": {
   "display_name": "Python 3",
   "language": "python",
   "name": "python3"
  },
  "language_info": {
   "codemirror_mode": {
    "name": "ipython",
    "version": 3
   },
   "file_extension": ".py",
   "mimetype": "text/x-python",
   "name": "python",
   "nbconvert_exporter": "python",
   "pygments_lexer": "ipython3",
   "version": "3.5.2"
  }
 },
 "nbformat": 4,
 "nbformat_minor": 4
}
