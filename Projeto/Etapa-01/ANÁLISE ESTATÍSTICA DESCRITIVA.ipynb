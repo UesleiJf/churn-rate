{
 "cells": [
  {
   "cell_type": "code",
   "execution_count": 2,
   "metadata": {},
   "outputs": [],
   "source": [
    "import pandas as pd\n",
    "import seaborn as sns\n",
    "import matplotlib.pyplot as plt\n",
    "from sklearn import preprocessing"
   ]
  },
  {
   "cell_type": "code",
   "execution_count": 3,
   "metadata": {},
   "outputs": [],
   "source": [
    "# ignorando alertas (não erros)\n",
    "\n",
    "import warnings\n",
    "warnings.filterwarnings('ignore')"
   ]
  },
  {
   "cell_type": "code",
   "execution_count": 4,
   "metadata": {},
   "outputs": [],
   "source": [
    "# importando o dataset\n",
    "df = pd.read_csv('../dataset/data-set-clube-new-v2.csv', sep=';')"
   ]
  },
  {
   "cell_type": "code",
   "execution_count": 5,
   "metadata": {},
   "outputs": [
    {
     "data": {
      "text/plain": [
       "False"
      ]
     },
     "execution_count": 5,
     "metadata": {},
     "output_type": "execute_result"
    }
   ],
   "source": [
    "# conferindo se existe valor nulo no dataset\n",
    "df.isnull().values.any()"
   ]
  },
  {
   "cell_type": "code",
   "execution_count": 6,
   "metadata": {},
   "outputs": [],
   "source": [
    "# Removendo a coluna id_socio (não usaremos ela por enquanto)\n",
    "df.drop('id_socio', inplace=True, axis=1)"
   ]
  },
  {
   "cell_type": "code",
   "execution_count": 8,
   "metadata": {},
   "outputs": [
    {
     "data": {
      "text/html": [
       "<div>\n",
       "<style scoped>\n",
       "    .dataframe tbody tr th:only-of-type {\n",
       "        vertical-align: middle;\n",
       "    }\n",
       "\n",
       "    .dataframe tbody tr th {\n",
       "        vertical-align: top;\n",
       "    }\n",
       "\n",
       "    .dataframe thead th {\n",
       "        text-align: right;\n",
       "    }\n",
       "</style>\n",
       "<table border=\"1\" class=\"dataframe\">\n",
       "  <thead>\n",
       "    <tr style=\"text-align: right;\">\n",
       "      <th></th>\n",
       "      <th>status</th>\n",
       "      <th>qtde_em_aberto</th>\n",
       "      <th>qtde_em_dia</th>\n",
       "      <th>qtde_em_atraso</th>\n",
       "      <th>qtde_frequencia_ano</th>\n",
       "    </tr>\n",
       "  </thead>\n",
       "  <tbody>\n",
       "    <tr>\n",
       "      <th>0</th>\n",
       "      <td>CANCELADO</td>\n",
       "      <td>24</td>\n",
       "      <td>0</td>\n",
       "      <td>0</td>\n",
       "      <td>0</td>\n",
       "    </tr>\n",
       "    <tr>\n",
       "      <th>1</th>\n",
       "      <td>CANCELADO</td>\n",
       "      <td>0</td>\n",
       "      <td>0</td>\n",
       "      <td>0</td>\n",
       "      <td>0</td>\n",
       "    </tr>\n",
       "    <tr>\n",
       "      <th>2</th>\n",
       "      <td>CANCELADO</td>\n",
       "      <td>12</td>\n",
       "      <td>1</td>\n",
       "      <td>2</td>\n",
       "      <td>4</td>\n",
       "    </tr>\n",
       "  </tbody>\n",
       "</table>\n",
       "</div>"
      ],
      "text/plain": [
       "      status  qtde_em_aberto  qtde_em_dia  qtde_em_atraso  qtde_frequencia_ano\n",
       "0  CANCELADO              24            0               0                    0\n",
       "1  CANCELADO               0            0               0                    0\n",
       "2  CANCELADO              12            1               2                    4"
      ]
     },
     "execution_count": 8,
     "metadata": {},
     "output_type": "execute_result"
    }
   ],
   "source": [
    "# Visualizando o padrão e disposição do arquivo csv\n",
    "\n",
    "df.head(3)"
   ]
  },
  {
   "cell_type": "code",
   "execution_count": 9,
   "metadata": {},
   "outputs": [],
   "source": [
    "# Separando o dataset por status = ATIVO ou CANCELADO\n",
    "\n",
    "socio_ativo = (df['status'] == \"ATIVO\")\n",
    "socio_ativo = df[socio_ativo]\n",
    "\n",
    "socio_cancelado = (df['status'] == \"CANCELADO\")\n",
    "socio_cancelado = df[socio_cancelado]"
   ]
  },
  {
   "cell_type": "markdown",
   "metadata": {},
   "source": [
    "Nos próximos blocos analisaremos as 2 variáveis acima em: desvio padrão, máximo e mínimo,\n",
    "média, correlação e faremos alguns gráficos para melhor análise."
   ]
  },
  {
   "cell_type": "markdown",
   "metadata": {},
   "source": [
    "##### 1 - DESVIO PADRÃO"
   ]
  },
  {
   "cell_type": "markdown",
   "metadata": {},
   "source": [
    "Desvio padrão é uma medida de dispersão em torno da média populacional de uma variável aleatória. Indica uma medida de dispersão dos dados em torno de média amostral."
   ]
  },
  {
   "cell_type": "code",
   "execution_count": 10,
   "metadata": {},
   "outputs": [
    {
     "data": {
      "text/plain": [
       "qtde_em_aberto          9.562430\n",
       "qtde_em_dia             7.601072\n",
       "qtde_em_atraso          6.239905\n",
       "qtde_frequencia_ano    47.810617\n",
       "dtype: float64"
      ]
     },
     "execution_count": 10,
     "metadata": {},
     "output_type": "execute_result"
    }
   ],
   "source": [
    "# Desvio padrão ATIVO\n",
    "socio_ativo.std()"
   ]
  },
  {
   "cell_type": "code",
   "execution_count": 11,
   "metadata": {},
   "outputs": [
    {
     "data": {
      "text/plain": [
       "qtde_em_aberto          8.599585\n",
       "qtde_em_dia             3.402545\n",
       "qtde_em_atraso          3.195524\n",
       "qtde_frequencia_ano    13.317581\n",
       "dtype: float64"
      ]
     },
     "execution_count": 11,
     "metadata": {},
     "output_type": "execute_result"
    }
   ],
   "source": [
    "# Desvio padrão CANCELADO\n",
    "socio_cancelado.std()"
   ]
  },
  {
   "cell_type": "markdown",
   "metadata": {},
   "source": [
    "##### 2 - MÁXIMO"
   ]
  },
  {
   "cell_type": "markdown",
   "metadata": {},
   "source": [
    "##### 2.1 - Máximo sócio Ativo"
   ]
  },
  {
   "cell_type": "markdown",
   "metadata": {},
   "source": [
    "No resultado de Valores Máximos da nossa base de dados, os valores da tabela abaixo não são necessáriamente do mesmo sócio. Por exemplo: o resultado \"qtde_em_aberto\" pode ser do sócio de matrícula xxx, o resultado \"qtde_frequencia_ano\" pode ser do sócio de matrícula yyy e o resultado qtde_frequencia_ano pode ser do sócio de matrícula xyz. Estamos analisando o valor máximo em toda a base de dados.\n",
    "\n",
    "Abaixo temos os valores máximos de cada coluna referente ao status ATIVO. \n",
    "- Devemos destacar que estamos analisando valores referentes ao ano de 2018, onde temos 12 meses. Observamos que o menor valor entre os valores máximos é na coluna qtde_em_atraso = 39. Nesse caso o sócio pagou 39 parcelas após o vencimento de cada uma. Uma análise em relação a essa coluna é que ele tem mais de um título e/ou dependentes, explicando o valor maior que 12 (meses). Podemos aplicar essa análise para a coluna qtde_em_dia = 53, ou seja, o sócio dessa coluna efetuou 53 pagamentos de um título e/ou dependentes em dia.\n",
    "- Para a coluna qtde_em_aberto = 55, significa que na nossa análise referente ao ano de 2018, esse sócio iniciou o ano de 2019 com 55 parcelas em aberto, porém continua com o status ATIVO, mesmo com o débito nas parcelas. Para uma melhor análise referente a situação atual desse sócio em específico, a base de dados de 2019 será a forma mais assertiva para a resposta, assim saberemos principalmente o status que ele se encontra (ATIVO ou CANCELADO).\n",
    "- Na coluna qtde_frequencia_ano = 490 nos dá a visão que houve várias entradas no mesmo dia, se analisarmos a quantidade de dias que tem em um ano (365). Provavelmente esse sócio tem o hábito de ir para o clube em diferentes horários no mesmo dia, ou a quantidade de entradas de dependentes relacionados a sua matrícula."
   ]
  },
  {
   "cell_type": "code",
   "execution_count": 17,
   "metadata": {},
   "outputs": [
    {
     "data": {
      "text/plain": [
       "status                 ATIVO\n",
       "qtde_em_aberto            55\n",
       "qtde_em_dia               53\n",
       "qtde_em_atraso            39\n",
       "qtde_frequencia_ano      490\n",
       "dtype: object"
      ]
     },
     "execution_count": 17,
     "metadata": {},
     "output_type": "execute_result"
    }
   ],
   "source": [
    "# Máximo sócio Ativo\n",
    "socio_ativo.max()"
   ]
  },
  {
   "cell_type": "markdown",
   "metadata": {},
   "source": [
    "##### 2.2 - Máximo sócio CANCELADO"
   ]
  },
  {
   "cell_type": "markdown",
   "metadata": {},
   "source": [
    "No resultado de Valores Máximos da nossa base de dados, os valores da tabela abaixo não são necessáriamente do mesmo sócio. Por exemplo: o resultado \"qtde_em_aberto\" pode ser do sócio de matrícula xxx, o resultado \"qtde_frequencia_ano\" pode ser do sócio de matrícula yyy e o resultado qtde_frequencia_ano pode ser do sócio de matrícula xyz. Estamos analisando o valor máximo em toda a base de dados.\n",
    "\n",
    "Abaixo temos os valores máximos de cada coluna referente ao status CANCELADO. \n",
    "- Devemos destacar que estamos analisando valores referentes ao ano de 2018, onde temos 12 meses. Observamos que o menor valor entre os valores máximos está na coluna qtde_em_dia e na coluna qtde_em_atraso = 24. Nesse caso um sócio pagou 24 parcelas após o vencimento de cada uma (quantidade que pode levar o sócio a analisar sobre a data de vencimento da parcela por motivos financeiros ou data ruim do mês) e outro sócio (talvez o mesmo) pagou 24 parcelas em dia. Uma análise em relação a essas duas colunas é que os sócios tem mais de um título e/ou dependentes, explicando o valor maior que 12 (meses).\n",
    "- Para a coluna qtde_em_aberto = 48, significa que na nossa análise referente ao ano de 2018, esse sócio não faz mais parte do quadro de sócios do clube no ano de 2019, com 48 parcelas em aberto e status CANCELADO. Aqui está o nosso ponto central de toda a análise e projeto: o sócio com status CANCELADO. \"O que fez ele cancelar?\" \"Quais os motivos?\" \"O que poderia ser feito para impedirmos esse cancelamento?\". O primeiro motivo que nos faz pensar nesse cancelamento é a quantidade de parcelas em aberto: 48 parcelas, pois somando 48 x (o valor unitário de cada parcela) pode ter sido o motivo chave para essa desistência. Não podemos atribuir o cancelamento SOMENTE a análise dessa coluna, ela pode ser o único motivo da desistência OU apenas um dos fatores que levaram a esse cancelamento.\n",
    "- Na coluna qtde_frequencia_ano = 217 nos dá a visão que esse sócio teve uma frequência regular no clube no ano de 2018, caso tenha dependentes e tenha sido feito o uso de convites, a frequência do sócio (indivíduo titular) cai referente a esse valor (217). Porém nesse momento não podemos atribuir o status CANCELADO."
   ]
  },
  {
   "cell_type": "code",
   "execution_count": 18,
   "metadata": {},
   "outputs": [
    {
     "data": {
      "text/plain": [
       "status                 CANCELADO\n",
       "qtde_em_aberto                48\n",
       "qtde_em_dia                   24\n",
       "qtde_em_atraso                24\n",
       "qtde_frequencia_ano          217\n",
       "dtype: object"
      ]
     },
     "execution_count": 18,
     "metadata": {},
     "output_type": "execute_result"
    }
   ],
   "source": [
    "# Máximo sócio CANCELADO\n",
    "socio_cancelado.max()"
   ]
  },
  {
   "cell_type": "markdown",
   "metadata": {},
   "source": [
    "##### 3 - MÍNIMO"
   ]
  },
  {
   "cell_type": "markdown",
   "metadata": {},
   "source": [
    "##### 3.1 - Mínimo sócio Ativo"
   ]
  },
  {
   "cell_type": "markdown",
   "metadata": {},
   "source": [
    "No resultado de Valores Mínimos da nossa base de dados, os valores da tabela abaixo não são necessáriamente do mesmo sócio. Por exemplo: o resultado \"qtde_em_aberto\" pode ser do sócio de matrícula xxx, o resultado \"qtde_frequencia_ano\" pode ser do sócio de matrícula yyy e o resultado qtde_frequencia_ano pode ser do sócio de matrícula xyz. Estamos analisando o valor máximo em toda a base de dados.\n",
    "\n",
    "Nessa análise temos alguns pontos positivos e alguns pontos negativos: \n",
    "\n",
    "Positivos: \n",
    "- Estamos analisando o valor mínimo de cada coluna para os sócios ATIVOS, logo a coluna qtde_em_aberto = 0 é um ponto positivo para o sócio que passou do ano de 2018 para 2019 com essa coluna com valor = 0, ele é um sócio adimplente. \n",
    "- O mesmo vale para o sócio que teve essa virada de ano com a coluna qtde_em_atraso = 0, ou seja, todos os seus pagamentos referentes ao ano de 2018 foram efetuados em dia e seu status está Ativo.\n",
    "\n",
    "Negativos:\n",
    "- Para a coluna qtde_em_dia = 0 significa que esse sócio passou de 2018 para 2019 com no mínimo 12 parcelas pagas em atraso (se considerarmos que ele tenha só 1 mensalidade para pagar por mês e tenha efetuado o pagamento de todas) e status ATIVO, nesse caso esse sócio pode mudar de idéia em relação a quantidade de pagamentos em atraso e efetuar o cancelamento, aqui entramos em um ponto importante da previsão do clube: entrar em contato com o sócio e descobrir a melhor forma para não perder esse status ATIVO. \n",
    "- A coluna qtde_frequencia_ano = 0. Nesse caso surgiu uma dúvida: é possível um sócio ser somente acionista e não ter necessidade alguma de ir ao clube? Dessa forma obter somente ações e motivos para continuar com o status ATIVO?\n",
    "\n"
   ]
  },
  {
   "cell_type": "code",
   "execution_count": 15,
   "metadata": {},
   "outputs": [
    {
     "data": {
      "text/plain": [
       "status                 ATIVO\n",
       "qtde_em_aberto             0\n",
       "qtde_em_dia                0\n",
       "qtde_em_atraso             0\n",
       "qtde_frequencia_ano        0\n",
       "dtype: object"
      ]
     },
     "execution_count": 15,
     "metadata": {},
     "output_type": "execute_result"
    }
   ],
   "source": [
    "# Mínimo sócio Ativo\n",
    "socio_ativo.min()"
   ]
  },
  {
   "cell_type": "markdown",
   "metadata": {},
   "source": [
    "##### 3.2 - Mínimo sócio CANCELADO"
   ]
  },
  {
   "cell_type": "markdown",
   "metadata": {},
   "source": [
    "No resultado de Valores Mínimos da nossa base de dados, os valores da tabela abaixo não são necessáriamente do mesmo sócio. Por exemplo: o resultado \"qtde_em_aberto\" pode ser do sócio de matrícula xxx, o resultado \"qtde_frequencia_ano\" pode ser do sócio de matrícula yyy e o resultado qtde_frequencia_ano pode ser do sócio de matrícula xyz. Estamos analisando o valor máximo em toda a base de dados.\n",
    "\n",
    "Nessa análise temos alguns pontos positivos e alguns pontos negativos: \n",
    "\n",
    "Positivos: \n",
    "- Estamos analisando o valor mínimo de cada coluna para os sócios CANCELADOS, logo a coluna qtde_em_aberto = 0 seria em outras condições um ponto positivo para o sócio. Porém nesse caso mesmo com essa coluna com um valor positivo para o sócio, ele chegou em 2019 com o status CANCELADO, com a análise dessa coluna ele seria um sócio adimplente. \n",
    "\n",
    "Negativos:\n",
    "- O sócio que teve a virada de ano com a coluna qtde_em_atraso = 0, ou seja, todos os seus pagamentos referentes ao ano de 2018 foram efetuados em dia ou por outro lado ele não efetuou nenhum pagamento após seu vencimento, deixando assim parcelas em aberto para 2019 e sua matrícula cancelada em algum momento desse período.\n",
    "- Para a coluna qtde_em_dia = 0 significa que esse sócio passou de 2018 para 2019 com no mínimo 12 parcelas pagas em atraso (se considerarmos que ele tenha só 1 mensalidade para pagar por mês e tenha efetuado o pagamento de todas) e status CANCELADO, nesse caso esse sócio pode ter mudado de idéia em relação a quantidade de pagamentos em atraso e efetuou o cancelamento.\n",
    "- A coluna qtde_frequencia_ano = 0. A coluna com o valor 0 pode ter sido o ponto principal para o sócio cancelar sua matrícula, principalmente se as mensalidades estivessem em dia, após não ter frequência alguma no clube, deixou de ser interessante ser sócio. Vale uma análise para esse perfil de sócio, que em um primeiro momento tem interesse no clube, porém a sua frequência é nula.\n",
    "\n"
   ]
  },
  {
   "cell_type": "code",
   "execution_count": 21,
   "metadata": {},
   "outputs": [
    {
     "data": {
      "text/plain": [
       "status                 CANCELADO\n",
       "qtde_em_aberto                 0\n",
       "qtde_em_dia                    0\n",
       "qtde_em_atraso                 0\n",
       "qtde_frequencia_ano            0\n",
       "dtype: object"
      ]
     },
     "execution_count": 21,
     "metadata": {},
     "output_type": "execute_result"
    }
   ],
   "source": [
    "# Mínimo sócio Cancelado\n",
    "socio_cancelado.min()"
   ]
  },
  {
   "cell_type": "markdown",
   "metadata": {},
   "source": [
    "##### 4 - MÉDIA"
   ]
  },
  {
   "cell_type": "markdown",
   "metadata": {},
   "source": [
    "##### 4.1 - Média sócio Ativo"
   ]
  },
  {
   "cell_type": "markdown",
   "metadata": {},
   "source": [
    "No resultado de Médias da nossa base de dados, os valores da tabela abaixo não são necessáriamente do mesmo sócio. Por exemplo: o resultado \"qtde_em_aberto\" pode ser do sócio de matrícula xxx, o resultado \"qtde_frequencia_ano\" pode ser do sócio de matrícula yyy e o resultado qtde_frequencia_ano pode ser do sócio de matrícula xyz. Estamos analisando o valor máximo em toda a base de dados.\n",
    "\n",
    "Na Análise abaixo temos as médias dos sócios com status ATIVO. \n",
    "\n",
    "- Podemos analisar em destaque a média da coluna qtde_frequencia_ano = 21, o que mostra que sócios ativos tiveram a média de quase 2 frequências por mês no ano de 2018 (ou pelo menos dependentes dessa matrícula). Esse é um fator que podemos levar em consideração para o status do sócio continuar ATIVO em 2019.\n",
    "\n",
    "- O resultado para a média de parcelas pagas em atraso (qtde_em_atraso = 3.9) é uma média baixa, se analisarmos pelo fato de que o sócio pode ter pago um dia após o seu vencimento.\n",
    "\n",
    "- O valor da coluna qtde_em_aberto chama atenção pelo valor 7,4. O sócio mesmo com o status ATIVO inicia o ano com uma média 7 para colocar todos os débitos em dia."
   ]
  },
  {
   "cell_type": "code",
   "execution_count": 23,
   "metadata": {},
   "outputs": [
    {
     "data": {
      "text/plain": [
       "qtde_em_aberto          7.483156\n",
       "qtde_em_dia             5.438830\n",
       "qtde_em_atraso          3.946809\n",
       "qtde_frequencia_ano    21.666667\n",
       "dtype: float64"
      ]
     },
     "execution_count": 23,
     "metadata": {},
     "output_type": "execute_result"
    }
   ],
   "source": [
    "# Média sócio Ativo\n",
    "socio_ativo.mean()"
   ]
  },
  {
   "cell_type": "code",
   "execution_count": null,
   "metadata": {},
   "outputs": [],
   "source": []
  },
  {
   "cell_type": "code",
   "execution_count": 114,
   "metadata": {},
   "outputs": [
    {
     "data": {
      "text/plain": [
       "qtde_em_aberto         19.725032\n",
       "qtde_em_dia             1.308690\n",
       "qtde_em_atraso          1.064851\n",
       "qtde_frequencia_ano     2.741894\n",
       "dtype: float64"
      ]
     },
     "execution_count": 114,
     "metadata": {},
     "output_type": "execute_result"
    }
   ],
   "source": [
    "# Média sócio Cancelado\n",
    "socio_cancelado.mean()"
   ]
  },
  {
   "cell_type": "markdown",
   "metadata": {},
   "source": [
    "##### 5 - CORRELAÇÃO"
   ]
  },
  {
   "cell_type": "code",
   "execution_count": 115,
   "metadata": {},
   "outputs": [],
   "source": [
    "# identificando a correlação entre as variáveis\n",
    "# Correlação não implica causalidade\n",
    "\n",
    "def plot_corr(df, size=6):\n",
    "    corr = df.corr()\n",
    "    fig, ax = plt.subplots(figsize = (size, size))\n",
    "    ax.matshow(corr)\n",
    "    plt.xticks(range(len(corr.columns)), corr.columns)\n",
    "    plt.yticks(range(len(corr.columns)), corr.columns)"
   ]
  },
  {
   "cell_type": "code",
   "execution_count": 116,
   "metadata": {},
   "outputs": [
    {
     "data": {
      "text/html": [
       "<div>\n",
       "<style scoped>\n",
       "    .dataframe tbody tr th:only-of-type {\n",
       "        vertical-align: middle;\n",
       "    }\n",
       "\n",
       "    .dataframe tbody tr th {\n",
       "        vertical-align: top;\n",
       "    }\n",
       "\n",
       "    .dataframe thead th {\n",
       "        text-align: right;\n",
       "    }\n",
       "</style>\n",
       "<table border=\"1\" class=\"dataframe\">\n",
       "  <thead>\n",
       "    <tr style=\"text-align: right;\">\n",
       "      <th></th>\n",
       "      <th>qtde_em_aberto</th>\n",
       "      <th>qtde_em_dia</th>\n",
       "      <th>qtde_em_atraso</th>\n",
       "      <th>qtde_frequencia_ano</th>\n",
       "    </tr>\n",
       "  </thead>\n",
       "  <tbody>\n",
       "    <tr>\n",
       "      <th>qtde_em_aberto</th>\n",
       "      <td>1.000000</td>\n",
       "      <td>-0.377307</td>\n",
       "      <td>-0.222397</td>\n",
       "      <td>-0.135453</td>\n",
       "    </tr>\n",
       "    <tr>\n",
       "      <th>qtde_em_dia</th>\n",
       "      <td>-0.377307</td>\n",
       "      <td>1.000000</td>\n",
       "      <td>0.221493</td>\n",
       "      <td>0.402164</td>\n",
       "    </tr>\n",
       "    <tr>\n",
       "      <th>qtde_em_atraso</th>\n",
       "      <td>-0.222397</td>\n",
       "      <td>0.221493</td>\n",
       "      <td>1.000000</td>\n",
       "      <td>0.236802</td>\n",
       "    </tr>\n",
       "    <tr>\n",
       "      <th>qtde_frequencia_ano</th>\n",
       "      <td>-0.135453</td>\n",
       "      <td>0.402164</td>\n",
       "      <td>0.236802</td>\n",
       "      <td>1.000000</td>\n",
       "    </tr>\n",
       "  </tbody>\n",
       "</table>\n",
       "</div>"
      ],
      "text/plain": [
       "                     qtde_em_aberto  qtde_em_dia  qtde_em_atraso  \\\n",
       "qtde_em_aberto             1.000000    -0.377307       -0.222397   \n",
       "qtde_em_dia               -0.377307     1.000000        0.221493   \n",
       "qtde_em_atraso            -0.222397     0.221493        1.000000   \n",
       "qtde_frequencia_ano       -0.135453     0.402164        0.236802   \n",
       "\n",
       "                     qtde_frequencia_ano  \n",
       "qtde_em_aberto                 -0.135453  \n",
       "qtde_em_dia                     0.402164  \n",
       "qtde_em_atraso                  0.236802  \n",
       "qtde_frequencia_ano             1.000000  "
      ]
     },
     "execution_count": 116,
     "metadata": {},
     "output_type": "execute_result"
    }
   ],
   "source": [
    "# Visualizando a correlação em tabela\n",
    "# Coeficiente de correlação:\n",
    "   \n",
    "    # +1 = forte correlação positiva\n",
    "    # 0 = não há correlação\n",
    "    # -1 forte correlação negativa\n",
    "df.corr()"
   ]
  },
  {
   "cell_type": "markdown",
   "metadata": {},
   "source": [
    "Acima podemos ver que a melhor correlação (tendo como base 1 como \"forte correlação POSITIVA\") está entre as variáveis: \n",
    "- qtde_em_dia/qtde_frequencia_ano:  0.402164\n",
    "- qtde_frequencia_ano/qtde_em_atraso:  0.236802\n",
    "\n",
    "Podemos ver também que a pior correlação (tendo como base -1 como \"forte correlação NEGATIVA\") está entre as variáveis:\n",
    "\n",
    "- qtde_em_dia/qtde_em_aberto:  -0.377307\n",
    "- qtde_em_atraso/qtde_em_aberto:  -0.222397"
   ]
  },
  {
   "cell_type": "markdown",
   "metadata": {},
   "source": [
    "#### 6- Gráficos "
   ]
  },
  {
   "cell_type": "markdown",
   "metadata": {},
   "source": [
    "#### 6.1 - Pizza"
   ]
  },
  {
   "cell_type": "code",
   "execution_count": 117,
   "metadata": {},
   "outputs": [
    {
     "data": {
      "image/png": "[encoded data removed]",
      "text/plain": [
       "<Figure size 576x288 with 1 Axes>"
      ]
     },
     "metadata": {},
     "output_type": "display_data"
    },
    {
     "name": "stdout",
     "output_type": "stream",
     "text": [
      "Ativos: 1222\n",
      "Cancelados: 758\n"
     ]
    }
   ],
   "source": [
    "fig = plt.figure(figsize=(8,4))\n",
    "ax = fig.add_axes((0,0,.5,1))\n",
    "ax.set_title('Gráfico de Quantidade de Movimentos em Aberto por Status', bbox={'facecolor':'0.8', 'pad':3})\n",
    "\n",
    "qtde_em_aberto_ativo = (df['status'] == 'ATIVO') & (df['qtde_em_aberto'] > 0)\n",
    "qtde_em_aberto_ativo = df[qtde_em_aberto_ativo]\n",
    "\n",
    "qtde_em_aberto_cancelado = (df['status'] == 'CANCELADO') & (df['qtde_em_aberto'] > 0)\n",
    "qtde_em_aberto_cancelado = df[qtde_em_aberto_cancelado]\n",
    "\n",
    "labels = ['Ativo', 'Cancelado']\n",
    "quantidade_qtde_em_aberto = [qtde_em_aberto_ativo.shape[0], qtde_em_aberto_cancelado.shape[0]]\n",
    "\n",
    "explode = (0, 0)\n",
    "total = sum(quantidade_qtde_em_aberto)\n",
    "plt.pie(quantidade_qtde_em_aberto, explode=explode, labels=labels, autopct='%1.1f%%',  shadow=True, startangle=90)\n",
    "\n",
    "plt.axis('equal') \n",
    "plt.show()\n",
    "\n",
    "print('Ativos: %s' % (qtde_em_aberto_ativo.shape[0]))\n",
    "print('Cancelados: %s' % (qtde_em_aberto_cancelado.shape[0]))"
   ]
  },
  {
   "cell_type": "code",
   "execution_count": 118,
   "metadata": {},
   "outputs": [
    {
     "data": {
      "image/png": "[encoded data removed]",
      "text/plain": [
       "<Figure size 576x288 with 1 Axes>"
      ]
     },
     "metadata": {},
     "output_type": "display_data"
    },
    {
     "name": "stdout",
     "output_type": "stream",
     "text": [
      "Ativos: 1300\n",
      "Cancelados: 203\n"
     ]
    }
   ],
   "source": [
    "fig = plt.figure(figsize=(8,4))\n",
    "ax = fig.add_axes((0,0,.5,1))\n",
    "ax.set_title('Gráfico de Quantidade de Movimentos pagos em Dia por Status', bbox={'facecolor':'0.8', 'pad':3})\n",
    "\n",
    "qtde_em_dia_ativo = (df['status'] == 'ATIVO') & (df['qtde_em_dia'] > 0)\n",
    "qtde_em_dia_ativo = df[qtde_em_dia_ativo]\n",
    "\n",
    "qtde_em_dia_cancelado = (df['status'] == 'CANCELADO') & (df['qtde_em_dia'] > 0)\n",
    "qtde_em_dia_cancelado = df[qtde_em_dia_cancelado]\n",
    "\n",
    "labels = ['Ativo', 'Cancelado']\n",
    "quantidade_qtde_em_dia = [qtde_em_dia_ativo.shape[0], qtde_em_dia_cancelado.shape[0]]\n",
    "\n",
    "explode = (0, 0)\n",
    "total = sum(quantidade_qtde_em_dia)\n",
    "plt.pie(quantidade_qtde_em_dia, explode=explode, labels=labels, autopct='%1.1f%%',  shadow=True, startangle=90)\n",
    "\n",
    "plt.axis('equal') \n",
    "plt.show()\n",
    "\n",
    "print('Ativos: %s' % (qtde_em_dia_ativo.shape[0]))\n",
    "print('Cancelados: %s' % (qtde_em_dia_cancelado.shape[0]))"
   ]
  },
  {
   "cell_type": "code",
   "execution_count": 119,
   "metadata": {},
   "outputs": [
    {
     "data": {
      "image/png": "[encoded data removed]",
      "text/plain": [
       "<Figure size 576x288 with 1 Axes>"
      ]
     },
     "metadata": {},
     "output_type": "display_data"
    },
    {
     "name": "stdout",
     "output_type": "stream",
     "text": [
      "Ativos: 1073\n",
      "Cancelados: 149\n"
     ]
    }
   ],
   "source": [
    "fig = plt.figure(figsize=(8,4))\n",
    "ax = fig.add_axes((0,0,.5,1))\n",
    "ax.set_title('Gráfico de Quantidade de Movimentos Pagos em Atraso por Status', bbox={'facecolor':'0.8', 'pad':3})\n",
    "\n",
    "qtde_em_atraso_ativo = (df['status'] == 'ATIVO') & (df['qtde_em_atraso'] > 0)\n",
    "qtde_em_atraso_ativo = df[qtde_em_atraso_ativo]\n",
    "\n",
    "qtde_em_atraso_cancelado = (df['status'] == 'CANCELADO') & (df['qtde_em_atraso'] > 0)\n",
    "qtde_em_atraso_cancelado = df[qtde_em_atraso_cancelado]\n",
    "\n",
    "labels = ['Ativo', 'Cancelado']\n",
    "quantidade_qtde_em_atraso = [qtde_em_atraso_ativo.shape[0], qtde_em_atraso_cancelado.shape[0]]\n",
    "\n",
    "explode = (0, 0)\n",
    "total = sum(quantidade_qtde_em_atraso)\n",
    "plt.pie(quantidade_qtde_em_atraso, explode=explode, labels=labels, autopct='%1.1f%%',  shadow=True, startangle=90)\n",
    "\n",
    "plt.axis('equal') \n",
    "plt.show()\n",
    "\n",
    "print('Ativos: %s' % (qtde_em_atraso_ativo.shape[0]))\n",
    "print('Cancelados: %s' % (qtde_em_atraso_cancelado.shape[0]))"
   ]
  },
  {
   "cell_type": "markdown",
   "metadata": {},
   "source": [
    "#### 6.2 - Boxplot"
   ]
  },
  {
   "cell_type": "code",
   "execution_count": 120,
   "metadata": {},
   "outputs": [],
   "source": [
    "# clonando a coluna STATUS para usar o clone como legenda nos gráficos abaixo\n",
    "df['status_nome'] = df['status']"
   ]
  },
  {
   "cell_type": "code",
   "execution_count": 121,
   "metadata": {},
   "outputs": [],
   "source": [
    "# Passando a coluna STATUS para o tipo inteiro\n",
    "label_encoder = preprocessing.LabelEncoder()\n",
    "df['status'] = label_encoder.fit_transform(df['status'])"
   ]
  },
  {
   "cell_type": "code",
   "execution_count": 122,
   "metadata": {},
   "outputs": [
    {
     "data": {
      "image/png": "[encoded data removed]",
      "text/plain": [
       "<Figure size 432x288 with 1 Axes>"
      ]
     },
     "metadata": {},
     "output_type": "display_data"
    }
   ],
   "source": [
    "sns.set(style=\"whitegrid\")\n",
    "ax = sns.boxplot(x=\"status\", y=\"qtde_em_aberto\", data=df, hue=\"status_nome\").set_title('Quantidade de Movimentos em Aberto')"
   ]
  },
  {
   "cell_type": "code",
   "execution_count": 123,
   "metadata": {},
   "outputs": [
    {
     "data": {
      "image/png": "[encoded data removed]",
      "text/plain": [
       "<Figure size 432x288 with 1 Axes>"
      ]
     },
     "metadata": {},
     "output_type": "display_data"
    }
   ],
   "source": [
    "sns.set(style=\"whitegrid\")\n",
    "ax = sns.boxplot(x=\"status\", y=\"qtde_em_dia\", data=df, hue=\"status_nome\").set_title('Quantidade de Movimentos Pagos em Dia')"
   ]
  },
  {
   "cell_type": "code",
   "execution_count": 124,
   "metadata": {},
   "outputs": [
    {
     "data": {
      "image/png": "[encoded data removed]",
      "text/plain": [
       "<Figure size 432x288 with 1 Axes>"
      ]
     },
     "metadata": {},
     "output_type": "display_data"
    }
   ],
   "source": [
    "sns.set(style=\"whitegrid\")\n",
    "ax = sns.boxplot(x=\"status\", y=\"qtde_em_atraso\", data=df, hue=\"status_nome\").set_title('Quantidade de Movimentos Pagos em Atraso')"
   ]
  },
  {
   "cell_type": "code",
   "execution_count": null,
   "metadata": {},
   "outputs": [],
   "source": []
  }
 ],
 "metadata": {
  "kernelspec": {
   "display_name": "Python 3",
   "language": "python",
   "name": "python3"
  },
  "language_info": {
   "codemirror_mode": {
    "name": "ipython",
    "version": 3
   },
   "file_extension": ".py",
   "mimetype": "text/x-python",
   "name": "python",
   "nbconvert_exporter": "python",
   "pygments_lexer": "ipython3",
   "version": "3.5.2"
  }
 },
 "nbformat": 4,
 "nbformat_minor": 4
}
