{
 "cells": [
  {
   "cell_type": "code",
   "execution_count": 56,
   "metadata": {},
   "outputs": [
    {
     "name": "stdout",
     "output_type": "stream",
     "text": [
      "Populating the interactive namespace from numpy and matplotlib\n"
     ]
    }
   ],
   "source": [
    "# importando bibliotecas para todos os algoritmos\n",
    "\n",
    "import pickle\n",
    "import warnings\n",
    "import numpy as np \n",
    "import pylab as pyl \n",
    "import pandas as pd\n",
    "import seaborn as sns\n",
    "import statsmodels.api as sm\n",
    "import matplotlib.pyplot as plt\n",
    "\n",
    "from sklearn import metrics\n",
    "from sklearn import ensemble\n",
    "from sklearn import preprocessing\n",
    "from sklearn.naive_bayes import GaussianNB\n",
    "from sklearn.metrics import mean_squared_error\n",
    "from sklearn.linear_model import LinearRegression\n",
    "from sklearn.ensemble import RandomForestRegressor\n",
    "from sklearn.neighbors import KNeighborsClassifier\n",
    "from sklearn.linear_model import LogisticRegression\n",
    "from sklearn.ensemble import RandomForestClassifier\n",
    "from sklearn.model_selection import train_test_split\n",
    "\n",
    "%pylab inline\n",
    "%matplotlib inline "
   ]
  },
  {
   "cell_type": "code",
   "execution_count": 5,
   "metadata": {},
   "outputs": [],
   "source": [
    "warnings.filterwarnings('ignore')"
   ]
  },
  {
   "cell_type": "code",
   "execution_count": 6,
   "metadata": {},
   "outputs": [],
   "source": [
    "# importando o dataset\n",
    "df = pd.read_csv('../dataset/data-set-clube-new-v2.csv', sep=';')"
   ]
  },
  {
   "cell_type": "code",
   "execution_count": 7,
   "metadata": {},
   "outputs": [
    {
     "data": {
      "text/html": [
       "<div>\n",
       "<style scoped>\n",
       "    .dataframe tbody tr th:only-of-type {\n",
       "        vertical-align: middle;\n",
       "    }\n",
       "\n",
       "    .dataframe tbody tr th {\n",
       "        vertical-align: top;\n",
       "    }\n",
       "\n",
       "    .dataframe thead th {\n",
       "        text-align: right;\n",
       "    }\n",
       "</style>\n",
       "<table border=\"1\" class=\"dataframe\">\n",
       "  <thead>\n",
       "    <tr style=\"text-align: right;\">\n",
       "      <th></th>\n",
       "      <th>id_socio</th>\n",
       "      <th>status</th>\n",
       "      <th>qtde_em_aberto</th>\n",
       "      <th>qtde_em_dia</th>\n",
       "      <th>qtde_em_atraso</th>\n",
       "      <th>qtde_frequencia_ano</th>\n",
       "    </tr>\n",
       "  </thead>\n",
       "  <tbody>\n",
       "    <tr>\n",
       "      <th>0</th>\n",
       "      <td>38810</td>\n",
       "      <td>CANCELADO</td>\n",
       "      <td>24</td>\n",
       "      <td>0</td>\n",
       "      <td>0</td>\n",
       "      <td>0</td>\n",
       "    </tr>\n",
       "  </tbody>\n",
       "</table>\n",
       "</div>"
      ],
      "text/plain": [
       "   id_socio     status  qtde_em_aberto  qtde_em_dia  qtde_em_atraso  \\\n",
       "0     38810  CANCELADO              24            0               0   \n",
       "\n",
       "   qtde_frequencia_ano  \n",
       "0                    0  "
      ]
     },
     "execution_count": 7,
     "metadata": {},
     "output_type": "execute_result"
    }
   ],
   "source": [
    "df.head(1)"
   ]
  },
  {
   "cell_type": "code",
   "execution_count": 8,
   "metadata": {},
   "outputs": [
    {
     "data": {
      "text/html": [
       "<div>\n",
       "<style scoped>\n",
       "    .dataframe tbody tr th:only-of-type {\n",
       "        vertical-align: middle;\n",
       "    }\n",
       "\n",
       "    .dataframe tbody tr th {\n",
       "        vertical-align: top;\n",
       "    }\n",
       "\n",
       "    .dataframe thead th {\n",
       "        text-align: right;\n",
       "    }\n",
       "</style>\n",
       "<table border=\"1\" class=\"dataframe\">\n",
       "  <thead>\n",
       "    <tr style=\"text-align: right;\">\n",
       "      <th></th>\n",
       "      <th>id_socio</th>\n",
       "      <th>status</th>\n",
       "      <th>qtde_em_aberto</th>\n",
       "      <th>qtde_em_dia</th>\n",
       "      <th>qtde_em_atraso</th>\n",
       "      <th>qtde_frequencia_ano</th>\n",
       "    </tr>\n",
       "  </thead>\n",
       "  <tbody>\n",
       "    <tr>\n",
       "      <th>3026</th>\n",
       "      <td>49083</td>\n",
       "      <td>ATIVO</td>\n",
       "      <td>51</td>\n",
       "      <td>4</td>\n",
       "      <td>12</td>\n",
       "      <td>15</td>\n",
       "    </tr>\n",
       "  </tbody>\n",
       "</table>\n",
       "</div>"
      ],
      "text/plain": [
       "      id_socio status  qtde_em_aberto  qtde_em_dia  qtde_em_atraso  \\\n",
       "3026     49083  ATIVO              51            4              12   \n",
       "\n",
       "      qtde_frequencia_ano  \n",
       "3026                   15  "
      ]
     },
     "execution_count": 8,
     "metadata": {},
     "output_type": "execute_result"
    }
   ],
   "source": [
    "df.tail(1)"
   ]
  },
  {
   "cell_type": "code",
   "execution_count": 9,
   "metadata": {},
   "outputs": [],
   "source": [
    "# Removendo a coluna id_socio (não usaremos ela por enquanto, porém na etapa 3 ela será importante)\n",
    "df.drop('id_socio', inplace=True, axis=1)"
   ]
  },
  {
   "cell_type": "code",
   "execution_count": 10,
   "metadata": {},
   "outputs": [
    {
     "data": {
      "text/plain": [
       "False"
      ]
     },
     "execution_count": 10,
     "metadata": {},
     "output_type": "execute_result"
    }
   ],
   "source": [
    "# Verificando se existem valores nulos\n",
    "df.isnull().values.any()"
   ]
  },
  {
   "cell_type": "markdown",
   "metadata": {},
   "source": [
    "Após o tratamento abaixo, o STATUS ficará: \n",
    "\n",
    "- ATIVO = 0 \n",
    "- CANCELADO = 1"
   ]
  },
  {
   "cell_type": "code",
   "execution_count": 11,
   "metadata": {},
   "outputs": [],
   "source": [
    "# Passando a coluna STATUS para o tipo inteiro\n",
    "label_encoder = preprocessing.LabelEncoder()\n",
    "df['status'] = label_encoder.fit_transform(df['status'])"
   ]
  },
  {
   "cell_type": "code",
   "execution_count": 12,
   "metadata": {},
   "outputs": [],
   "source": [
    "# Definindo as classes\n",
    "status_map = {True : 1, False : 0}"
   ]
  },
  {
   "cell_type": "code",
   "execution_count": 13,
   "metadata": {},
   "outputs": [],
   "source": [
    "# Aplicando o mapeamento ao dataset\n",
    "df['status'] = df['status'].map(status_map)"
   ]
  },
  {
   "cell_type": "code",
   "execution_count": 14,
   "metadata": {},
   "outputs": [
    {
     "data": {
      "text/html": [
       "<div>\n",
       "<style scoped>\n",
       "    .dataframe tbody tr th:only-of-type {\n",
       "        vertical-align: middle;\n",
       "    }\n",
       "\n",
       "    .dataframe tbody tr th {\n",
       "        vertical-align: top;\n",
       "    }\n",
       "\n",
       "    .dataframe thead th {\n",
       "        text-align: right;\n",
       "    }\n",
       "</style>\n",
       "<table border=\"1\" class=\"dataframe\">\n",
       "  <thead>\n",
       "    <tr style=\"text-align: right;\">\n",
       "      <th></th>\n",
       "      <th>status</th>\n",
       "      <th>qtde_em_aberto</th>\n",
       "      <th>qtde_em_dia</th>\n",
       "      <th>qtde_em_atraso</th>\n",
       "      <th>qtde_frequencia_ano</th>\n",
       "    </tr>\n",
       "  </thead>\n",
       "  <tbody>\n",
       "    <tr>\n",
       "      <th>0</th>\n",
       "      <td>1</td>\n",
       "      <td>24</td>\n",
       "      <td>0</td>\n",
       "      <td>0</td>\n",
       "      <td>0</td>\n",
       "    </tr>\n",
       "  </tbody>\n",
       "</table>\n",
       "</div>"
      ],
      "text/plain": [
       "   status  qtde_em_aberto  qtde_em_dia  qtde_em_atraso  qtde_frequencia_ano\n",
       "0       1              24            0               0                    0"
      ]
     },
     "execution_count": 14,
     "metadata": {},
     "output_type": "execute_result"
    }
   ],
   "source": [
    "# conferindo a conversão da coluna\n",
    "df.head(1)"
   ]
  },
  {
   "cell_type": "code",
   "execution_count": 15,
   "metadata": {},
   "outputs": [
    {
     "data": {
      "text/html": [
       "<div>\n",
       "<style scoped>\n",
       "    .dataframe tbody tr th:only-of-type {\n",
       "        vertical-align: middle;\n",
       "    }\n",
       "\n",
       "    .dataframe tbody tr th {\n",
       "        vertical-align: top;\n",
       "    }\n",
       "\n",
       "    .dataframe thead th {\n",
       "        text-align: right;\n",
       "    }\n",
       "</style>\n",
       "<table border=\"1\" class=\"dataframe\">\n",
       "  <thead>\n",
       "    <tr style=\"text-align: right;\">\n",
       "      <th></th>\n",
       "      <th>status</th>\n",
       "      <th>qtde_em_aberto</th>\n",
       "      <th>qtde_em_dia</th>\n",
       "      <th>qtde_em_atraso</th>\n",
       "      <th>qtde_frequencia_ano</th>\n",
       "    </tr>\n",
       "  </thead>\n",
       "  <tbody>\n",
       "    <tr>\n",
       "      <th>3026</th>\n",
       "      <td>0</td>\n",
       "      <td>51</td>\n",
       "      <td>4</td>\n",
       "      <td>12</td>\n",
       "      <td>15</td>\n",
       "    </tr>\n",
       "  </tbody>\n",
       "</table>\n",
       "</div>"
      ],
      "text/plain": [
       "      status  qtde_em_aberto  qtde_em_dia  qtde_em_atraso  qtde_frequencia_ano\n",
       "3026       0              51            4              12                   15"
      ]
     },
     "execution_count": 15,
     "metadata": {},
     "output_type": "execute_result"
    }
   ],
   "source": [
    "# conferindo a conversão da coluna\n",
    "df.tail(1)"
   ]
  },
  {
   "cell_type": "code",
   "execution_count": 16,
   "metadata": {},
   "outputs": [
    {
     "name": "stdout",
     "output_type": "stream",
     "text": [
      "Número de Status Cancelados: 771 (25.47%)\n",
      "Número de Status Ativos    : 2256 (74.53%)\n"
     ]
    }
   ],
   "source": [
    "# Verificando como os dados estão distribuídos\n",
    "num_true = len(df.loc[df['status'] == True])\n",
    "num_false = len(df.loc[df['status'] == False])\n",
    "print(\"Número de Status Cancelados: {0} ({1:2.2f}%)\".format(num_true, (num_true/ (num_true + num_false)) * 100))\n",
    "print(\"Número de Status Ativos    : {0} ({1:2.2f}%)\".format(num_false, (num_false/ (num_true + num_false)) * 100))"
   ]
  },
  {
   "cell_type": "markdown",
   "metadata": {},
   "source": [
    "### Spliting\n",
    "\n",
    "70% para dados de treino e 30% para dados de teste"
   ]
  },
  {
   "cell_type": "code",
   "execution_count": 17,
   "metadata": {},
   "outputs": [],
   "source": [
    "# Seleção de variáveis preditoras (Feature Selection)\n",
    "atributos = ['qtde_em_aberto', 'qtde_em_dia', 'qtde_em_atraso', 'qtde_frequencia_ano']"
   ]
  },
  {
   "cell_type": "code",
   "execution_count": 18,
   "metadata": {},
   "outputs": [],
   "source": [
    "# Variável a ser prevista\n",
    "atrib_prev = ['status']"
   ]
  },
  {
   "cell_type": "code",
   "execution_count": 19,
   "metadata": {},
   "outputs": [],
   "source": [
    "# Criando objetos\n",
    "X = df[atributos].values\n",
    "Y = df[atrib_prev].values"
   ]
  },
  {
   "cell_type": "code",
   "execution_count": 20,
   "metadata": {},
   "outputs": [],
   "source": [
    "# Definindo a taxa de split\n",
    "split_test_size = 0.30"
   ]
  },
  {
   "cell_type": "code",
   "execution_count": 21,
   "metadata": {},
   "outputs": [],
   "source": [
    "# Criando dados de treino e de teste\n",
    "X_treino, X_teste, Y_treino, Y_teste = train_test_split(X, Y, test_size = split_test_size, random_state = 42)"
   ]
  },
  {
   "cell_type": "code",
   "execution_count": 22,
   "metadata": {},
   "outputs": [
    {
     "name": "stdout",
     "output_type": "stream",
     "text": [
      "69.97% nos dados de treino\n",
      "30.03% nos dados de teste\n"
     ]
    }
   ],
   "source": [
    "# Imprimindo os resultados\n",
    "print(\"{0:0.2f}% nos dados de treino\".format((len(X_treino)/len(df.index)) * 100))\n",
    "print(\"{0:0.2f}% nos dados de teste\".format((len(X_teste)/len(df.index)) * 100))"
   ]
  },
  {
   "cell_type": "markdown",
   "metadata": {},
   "source": [
    "### Verificando o Split"
   ]
  },
  {
   "cell_type": "code",
   "execution_count": 23,
   "metadata": {},
   "outputs": [
    {
     "name": "stdout",
     "output_type": "stream",
     "text": [
      "Original True : 771 (25.47%)\n",
      "Original False : 2256 (74.53%)\n",
      "\n",
      "Training True : 530 (25.02%)\n",
      "Training False : 1588 (74.98%)\n",
      "\n",
      "Test True : 241 (26.51%)\n",
      "Test False : 668 (73.49%)\n"
     ]
    }
   ],
   "source": [
    "print(\"Original True : {0} ({1:0.2f}%)\".format(len(df.loc[df['status'] == 1]), \n",
    "                                               (len(df.loc[df['status'] ==1])/len(df.index) * 100)))\n",
    "\n",
    "print(\"Original False : {0} ({1:0.2f}%)\".format(len(df.loc[df['status'] == 0]), \n",
    "                                               (len(df.loc[df['status'] == 0])/len(df.index) * 100)))\n",
    "print(\"\")\n",
    "print(\"Training True : {0} ({1:0.2f}%)\".format(len(Y_treino[Y_treino[:] == 1]), \n",
    "                                               (len(Y_treino[Y_treino[:] == 1])/len(Y_treino) * 100)))\n",
    "\n",
    "print(\"Training False : {0} ({1:0.2f}%)\".format(len(Y_treino[Y_treino[:] == 0]), \n",
    "                                               (len(Y_treino[Y_treino[:] == 0])/len(Y_treino) * 100)))\n",
    "print(\"\")\n",
    "print(\"Test True : {0} ({1:0.2f}%)\".format(len(Y_teste[Y_teste[:] == 1]), \n",
    "                                               (len(Y_teste[Y_teste[:] == 1])/len(Y_teste) * 100)))\n",
    "\n",
    "print(\"Test False : {0} ({1:0.2f}%)\".format(len(Y_teste[Y_teste[:] == 0]), \n",
    "                                               (len(Y_teste[Y_teste[:] == 0])/len(Y_teste) * 100)))"
   ]
  },
  {
   "cell_type": "markdown",
   "metadata": {},
   "source": [
    "## 1 - Naive Bayes - GaussianNB"
   ]
  },
  {
   "cell_type": "code",
   "execution_count": 24,
   "metadata": {},
   "outputs": [],
   "source": [
    "# Criando o modelo preditivo\n",
    "modelo_GaussianNB = GaussianNB()"
   ]
  },
  {
   "cell_type": "code",
   "execution_count": 25,
   "metadata": {},
   "outputs": [
    {
     "data": {
      "text/plain": [
       "GaussianNB(priors=None, var_smoothing=1e-09)"
      ]
     },
     "execution_count": 25,
     "metadata": {},
     "output_type": "execute_result"
    }
   ],
   "source": [
    "# Treinando o modelo\n",
    "# ravel() \"ajusta o shape\" do treino pra treinar\n",
    "\n",
    "modelo_GaussianNB.fit(X_treino, Y_treino.ravel())"
   ]
  },
  {
   "cell_type": "markdown",
   "metadata": {},
   "source": [
    "##### Verificando a exatidão no modelo nos dados de treino"
   ]
  },
  {
   "cell_type": "code",
   "execution_count": 26,
   "metadata": {},
   "outputs": [],
   "source": [
    "# Fazendo as previsões somente com a base de teste e guardando em uma variável\n",
    "gaussian_nb_predict_train = modelo_GaussianNB.predict(X_treino)"
   ]
  },
  {
   "cell_type": "code",
   "execution_count": 27,
   "metadata": {},
   "outputs": [
    {
     "name": "stdout",
     "output_type": "stream",
     "text": [
      "Exatidão (Accuracy): 0.6402\n",
      "\n"
     ]
    }
   ],
   "source": [
    "# Informa para o accuracy_score o Y_treino como o esperado, para fazer a comparação com a \n",
    "# variável acima gaussian_nb_predict_train\n",
    "print(\"Exatidão (Accuracy): {0:.4f}\".format(metrics.accuracy_score(Y_treino, gaussian_nb_predict_train)))\n",
    "print()\n",
    "\n",
    "# Abaixo está o resultado: a cada 100, está acertando 64"
   ]
  },
  {
   "cell_type": "markdown",
   "metadata": {},
   "source": [
    "##### Verificando a exatidão no modelo nos dados de teste"
   ]
  },
  {
   "cell_type": "code",
   "execution_count": 28,
   "metadata": {},
   "outputs": [],
   "source": [
    "gaussian_nb_predict_test = modelo_GaussianNB.predict(X_teste)"
   ]
  },
  {
   "cell_type": "code",
   "execution_count": 29,
   "metadata": {},
   "outputs": [
    {
     "name": "stdout",
     "output_type": "stream",
     "text": [
      "Exatidão (Accuracy): 0.6469\n",
      "\n"
     ]
    }
   ],
   "source": [
    "# Informa para o accuracy_score o Y_test como o esperado, para fazer a comparação com a variável\n",
    "# acima nb_predict_test\n",
    "# Diferente do modelo acima (nb_predict_train) esse bloco não conhece a base de treino (X_teste), então\n",
    "# a previsão em teoria é mais assertiva.\n",
    "\n",
    "print(\"Exatidão (Accuracy): {0:.4f}\".format(metrics.accuracy_score(Y_teste, gaussian_nb_predict_test)))\n",
    "print()\n",
    "\n",
    "# Abaixo está o resultado: a cada 100, está acertando 64"
   ]
  },
  {
   "cell_type": "code",
   "execution_count": 30,
   "metadata": {},
   "outputs": [
    {
     "name": "stdout",
     "output_type": "stream",
     "text": [
      "Confusion Matrix\n",
      "[[210  31]\n",
      " [290 378]]\n",
      "\n",
      "Classification Report\n",
      "              precision    recall  f1-score   support\n",
      "\n",
      "           1       0.42      0.87      0.57       241\n",
      "           0       0.92      0.57      0.70       668\n",
      "\n",
      "   micro avg       0.65      0.65      0.65       909\n",
      "   macro avg       0.67      0.72      0.63       909\n",
      "weighted avg       0.79      0.65      0.67       909\n",
      "\n"
     ]
    }
   ],
   "source": [
    "# Criando uma Confusion Matrix\n",
    "print(\"Confusion Matrix\")\n",
    "\n",
    "print(\"{0}\".format(metrics.confusion_matrix(Y_teste, gaussian_nb_predict_test, labels = [1, 0])))\n",
    "print(\"\")\n",
    "\n",
    "print(\"Classification Report\")\n",
    "print(metrics.classification_report(Y_teste, gaussian_nb_predict_test, labels = [1, 0]))"
   ]
  },
  {
   "cell_type": "markdown",
   "metadata": {},
   "source": [
    "## 2 - RandomForest"
   ]
  },
  {
   "cell_type": "code",
   "execution_count": 31,
   "metadata": {},
   "outputs": [
    {
     "data": {
      "text/plain": [
       "RandomForestClassifier(bootstrap=True, class_weight=None, criterion='gini',\n",
       "            max_depth=None, max_features='auto', max_leaf_nodes=None,\n",
       "            min_impurity_decrease=0.0, min_impurity_split=None,\n",
       "            min_samples_leaf=1, min_samples_split=2,\n",
       "            min_weight_fraction_leaf=0.0, n_estimators=10, n_jobs=None,\n",
       "            oob_score=False, random_state=42, verbose=0, warm_start=False)"
      ]
     },
     "execution_count": 31,
     "metadata": {},
     "output_type": "execute_result"
    }
   ],
   "source": [
    "# Treinando o modelo\n",
    "# ravel() \"ajusta o shape\" do treino pra treinar\n",
    "\n",
    "modelo_RFClassifier = RandomForestClassifier(random_state = 42)\n",
    "modelo_RFClassifier.fit(X_treino, Y_treino.ravel())"
   ]
  },
  {
   "cell_type": "code",
   "execution_count": 32,
   "metadata": {},
   "outputs": [
    {
     "name": "stdout",
     "output_type": "stream",
     "text": [
      "Exatidão (Accuracy): 0.9160\n"
     ]
    }
   ],
   "source": [
    "# Verificando os dados de treino\n",
    "\n",
    "# Boas chances de conseguir o Overfitting (resultados não muito precisos) com a base de treino, \n",
    "# pois o Algoritmo pode manter vícios e \"lixos\" nos resultados.\n",
    "randomf_predict_train = modelo_RFClassifier.predict(X_treino)\n",
    "print(\"Exatidão (Accuracy): {0:.4f}\".format(metrics.accuracy_score(Y_treino, randomf_predict_train)))"
   ]
  },
  {
   "cell_type": "code",
   "execution_count": 33,
   "metadata": {},
   "outputs": [
    {
     "name": "stdout",
     "output_type": "stream",
     "text": [
      "Exatidão (Accuracy): 0.8603\n",
      "\n"
     ]
    }
   ],
   "source": [
    "# Verificando nos dados de teste\n",
    "\n",
    "# Esse bloco realmente pode ser levado em consideração\n",
    "# Aqui apresentamos dados que  o algoritmo nunca viu\n",
    "randomf_predict_test = modelo_RFClassifier.predict(X_teste)\n",
    "print(\"Exatidão (Accuracy): {0:.4f}\".format(metrics.accuracy_score(Y_teste, randomf_predict_test)))\n",
    "print()"
   ]
  },
  {
   "cell_type": "code",
   "execution_count": 34,
   "metadata": {},
   "outputs": [
    {
     "name": "stdout",
     "output_type": "stream",
     "text": [
      "Confusion Matrix\n",
      "[[193  48]\n",
      " [ 79 589]]\n",
      "\n",
      "Classification Report\n",
      "              precision    recall  f1-score   support\n",
      "\n",
      "           1       0.71      0.80      0.75       241\n",
      "           0       0.92      0.88      0.90       668\n",
      "\n",
      "   micro avg       0.86      0.86      0.86       909\n",
      "   macro avg       0.82      0.84      0.83       909\n",
      "weighted avg       0.87      0.86      0.86       909\n",
      "\n"
     ]
    }
   ],
   "source": [
    "print(\"Confusion Matrix\")\n",
    "\n",
    "print(\"{0}\".format(metrics.confusion_matrix(Y_teste, randomf_predict_test, labels = [1, 0])))\n",
    "print(\"\")\n",
    "\n",
    "print(\"Classification Report\")\n",
    "print(metrics.classification_report(Y_teste, randomf_predict_test, labels = [1, 0]))\n",
    "\n",
    "# Abaixo a precisão está num total de 87%"
   ]
  },
  {
   "cell_type": "markdown",
   "metadata": {},
   "source": [
    "## 3 - Regressão Logística"
   ]
  },
  {
   "cell_type": "code",
   "execution_count": 35,
   "metadata": {},
   "outputs": [],
   "source": [
    "# Terceira versão do modelo usando Regressão Logística\n",
    "modelo_regressaoLog = LogisticRegression(C = 0.7, random_state = 42)\n",
    "modelo_regressaoLog.fit(X_treino, Y_treino.ravel())\n",
    "\n",
    "# A avaliação deve ser feita SEMPRE na base de TESTE\n",
    "\n",
    "regressao_log_predict_test = modelo_regressaoLog.predict(X_teste)"
   ]
  },
  {
   "cell_type": "code",
   "execution_count": 54,
   "metadata": {},
   "outputs": [
    {
     "name": "stdout",
     "output_type": "stream",
     "text": [
      "Exatidão (Accuracy): 0.8383\n",
      "\n",
      "Classification Report\n",
      "              precision    recall  f1-score   support\n",
      "\n",
      "           1       0.69      0.72      0.70       241\n",
      "           0       0.90      0.88      0.89       668\n",
      "\n",
      "   micro avg       0.84      0.84      0.84       909\n",
      "   macro avg       0.79      0.80      0.80       909\n",
      "weighted avg       0.84      0.84      0.84       909\n",
      "\n"
     ]
    }
   ],
   "source": [
    "print(\"Exatidão (Accuracy): {0:.4f}\".format(metrics.accuracy_score(Y_teste, regressao_log_predict_test)))\n",
    "print()\n",
    "print(\"Classification Report\")\n",
    "print(metrics.classification_report(Y_teste, regressao_log_predict_test, labels = [1, 0]))\n",
    "\n",
    "# Abaixo a precisão está num total de 83%"
   ]
  },
  {
   "cell_type": "markdown",
   "metadata": {},
   "source": [
    "- Fazendo Previsões Com o Modelo Treinado Regressão Logística"
   ]
  },
  {
   "cell_type": "code",
   "execution_count": 47,
   "metadata": {},
   "outputs": [],
   "source": [
    "# Salvando o modelo para posteriormente\n",
    "filename = 'Saida_Previsao_Modelo_de_Treino_Regressao.sav'\n",
    "pickle.dump(modelo_regressaoLog, open(filename, 'wb'))"
   ]
  },
  {
   "cell_type": "markdown",
   "metadata": {},
   "source": [
    "Carregando o modelo e fazendo previsão com novos conjuntos de dados.\n",
    "\n",
    "- X_teste, Y_teste devem ser novos conjuntos de dados preparados com o procedimento de limpeza e transformação adequados. Para o exemplo abaixo pegamos os índices 15 e 33 de X_teste."
   ]
  },
  {
   "cell_type": "code",
   "execution_count": 67,
   "metadata": {},
   "outputs": [
    {
     "name": "stdout",
     "output_type": "stream",
     "text": [
      "Resultado de X_teste[15] para a previsão do status do sócio = [0] (ATIVO)\n",
      "Resultado de X_teste[33] para a previsão do status do sócio = [1] (CANCELADO)\n"
     ]
    }
   ],
   "source": [
    "loaded_model = pickle.load(open(filename, 'rb'))\n",
    "resultado1 = loaded_model.predict(X_teste[15].reshape(1, -1))\n",
    "resultado2 = loaded_model.predict(X_teste[33].reshape(1, -1))\n",
    "\n",
    "print(\"Resultado de X_teste[15] para a previsão do status do sócio = {} (ATIVO)\".format(resultado1))\n",
    "print(\"Resultado de X_teste[33] para a previsão do status do sócio = {} (CANCELADO)\".format(resultado2))"
   ]
  },
  {
   "cell_type": "markdown",
   "metadata": {},
   "source": [
    "## 4 - Gradient Boosting"
   ]
  },
  {
   "cell_type": "code",
   "execution_count": 83,
   "metadata": {},
   "outputs": [
    {
     "name": "stdout",
     "output_type": "stream",
     "text": [
      "Exatidão (Accuracy): 0.8581\n"
     ]
    }
   ],
   "source": [
    "modelo_gradientB_classifier = ensemble.GradientBoostingClassifier()\n",
    "modelo_gradientB_classifier.fit(X_treino, Y_treino.ravel())\n",
    "\n",
    "gradient_boosting_predict_test = modelo_gradientB_classifier.predict(X_teste)\n",
    "\n",
    "print(\"Exatidão (Accuracy): {0:.4f}\".format(metrics.accuracy_score(Y_teste, gradient_boosting_predict_test)))"
   ]
  },
  {
   "cell_type": "markdown",
   "metadata": {},
   "source": [
    "## Comparação dos resultados dos Algoritmos (Acurácia X Tempo de Execução)"
   ]
  },
  {
   "cell_type": "markdown",
   "metadata": {},
   "source": [
    "Foi levado em consideração SOMENTE os resultados dos testes, pois o resultado do treino não é tão confiável por seus resultados seguirem um \"padrão vicioso\"."
   ]
  },
  {
   "cell_type": "markdown",
   "metadata": {},
   "source": [
    "#### 1 - Acurácia"
   ]
  },
  {
   "cell_type": "code",
   "execution_count": 84,
   "metadata": {},
   "outputs": [],
   "source": [
    "# Porcentagem\n",
    "porcentagem_nb_test = metrics.accuracy_score(Y_teste, gaussian_nb_predict_test)\n",
    "porcentagem_rf_test = metrics.accuracy_score(Y_teste, randomf_predict_test)\n",
    "porcentagem_rl_test = metrics.accuracy_score(Y_teste, regressao_log_predict_test)\n",
    "porcentagem_gb_test = metrics.accuracy_score(Y_teste, gradient_boosting_predict_test)"
   ]
  },
  {
   "cell_type": "markdown",
   "metadata": {},
   "source": [
    "#### 2 - Tempo de Execução. Medido pelo range(n)\n",
    "\n",
    "- Usaremos um laço de execução acima de 10 mil. Um valor menor que esse resultou em resultados praticamente iguais para todos os algoritmos."
   ]
  },
  {
   "cell_type": "code",
   "execution_count": 87,
   "metadata": {},
   "outputs": [
    {
     "name": "stdout",
     "output_type": "stream",
     "text": [
      "NAIVE BAYES: \n",
      "CPU times: user 1.91 s, sys: 7.98 ms, total: 1.91 s\n",
      "Wall time: 1.92 s\n",
      "RANDOM FOREST: \n",
      "CPU times: user 1.88 s, sys: 24 ms, total: 1.9 s\n",
      "Wall time: 1.9 s\n",
      "REGRESSÃO LINEAR: \n",
      "CPU times: user 1.8 s, sys: 3.99 ms, total: 1.8 s\n",
      "Wall time: 1.8 s\n",
      "GRADIENT BOOSTING\n",
      "CPU times: user 1.79 s, sys: 4.15 ms, total: 1.79 s\n",
      "Wall time: 1.8 s\n"
     ]
    }
   ],
   "source": [
    "# Tempo de execução com RANGE 10.000 (Dez mil)\n",
    "print(\"NAIVE BAYES: \")\n",
    "%time for _ in range(10000): metrics.accuracy_score(Y_teste, gaussian_nb_predict_test)\n",
    "    \n",
    "print(\"RANDOM FOREST: \")\n",
    "%time for _ in range(10000): metrics.accuracy_score(Y_teste, randomf_predict_test)\n",
    "\n",
    "print(\"REGRESSÃO LINEAR: \")\n",
    "%time for _ in range(10000): metrics.accuracy_score(Y_teste, regressao_log_predict_test)\n",
    "    \n",
    "print(\"GRADIENT BOOSTING\")\n",
    "%time for _ in range(10000): metrics.accuracy_score(Y_teste, gradient_boosting_predict_test)"
   ]
  },
  {
   "cell_type": "code",
   "execution_count": 90,
   "metadata": {},
   "outputs": [
    {
     "name": "stdout",
     "output_type": "stream",
     "text": [
      "NAIVE BAYES: \n",
      "CPU times: user 19.8 s, sys: 0 ns, total: 19.8 s\n",
      "Wall time: 19.8 s\n",
      "RANDOM FOREST: \n",
      "CPU times: user 20.4 s, sys: 7.95 ms, total: 20.4 s\n",
      "Wall time: 20.4 s\n",
      "REGRESSÃO LINEAR: \n",
      "CPU times: user 19.1 s, sys: 5 µs, total: 19.1 s\n",
      "Wall time: 19.1 s\n",
      "GRADIENT BOOSTING\n",
      "CPU times: user 19 s, sys: 3.99 ms, total: 19 s\n",
      "Wall time: 19 s\n"
     ]
    }
   ],
   "source": [
    "# Tempo de execução com RANGE 100.000 (Cem mil)\n",
    "print(\"NAIVE BAYES: \")\n",
    "%time for _ in range(100000): metrics.accuracy_score(Y_teste, gaussian_nb_predict_test)\n",
    "    \n",
    "print(\"RANDOM FOREST: \")\n",
    "%time for _ in range(100000): metrics.accuracy_score(Y_teste, randomf_predict_test)\n",
    "\n",
    "print(\"REGRESSÃO LINEAR: \")\n",
    "%time for _ in range(100000): metrics.accuracy_score(Y_teste, regressao_log_predict_test)\n",
    "    \n",
    "print(\"GRADIENT BOOSTING\")\n",
    "%time for _ in range(100000): metrics.accuracy_score(Y_teste, gradient_boosting_predict_test)"
   ]
  },
  {
   "cell_type": "markdown",
   "metadata": {},
   "source": [
    "#### Populando o DataFrame Resultados"
   ]
  },
  {
   "cell_type": "code",
   "execution_count": 91,
   "metadata": {},
   "outputs": [],
   "source": [
    "resultados = pd.DataFrame(\n",
    "    {\n",
    "        'Naive Bayes':[porcentagem_nb_test, '1.91 s', '19.8 s'],\n",
    "        'Random Forest':[porcentagem_rf_test, '1.88 s', '20.4 s'],\n",
    "        'Regressão Logística':[porcentagem_rl_test, '1.8 s', '19.1 s'],\n",
    "        'Gradient Boosting':[porcentagem_gb_test, '1.79 s', '19 s'],\n",
    "        '':['% de Acurácia', 'Time (Range 10000)', 'Time (Range 100000)']\n",
    "    }\n",
    ")"
   ]
  },
  {
   "cell_type": "markdown",
   "metadata": {},
   "source": [
    "#### Tabela de Resultados"
   ]
  },
  {
   "cell_type": "markdown",
   "metadata": {},
   "source": [
    "Abaixo podemos ver os resultados da acurácia e do tempo de execução de cada algoritmo.\n",
    "\n",
    "- O algoritmo Gradient Boosting na maior parte dos testes foi o algoritmo que obteve o melhor tempo (nos dois padrões de tempo), e a sua acurácia quase se iguala a melhor acurácia dos algoritmos.\n",
    "\n",
    "- O algoritmo Naive Bayes obteve uma acurácia abaixo da necessária (70%) ficando não só em quarto lugar entre os quatro algoritmos. O seu tempo de execução em boa parte dos resultados não ficou em uma boa classificação.\n",
    "\n",
    "- Na execução exaustiva, o Random Forest foi o algoritmo que obteve a melhor acurácia entre todos os algoritmos testados, porém, o seu resultado de tempo de execução ficou em terceiro lugar boa parte dos testes. \n",
    "\n",
    "- O algoritmo Regressão Logística obteve uma boa acurácia se comparado com o Naive Bayes e seu tempo de execução foi próximo do Gradient Boosting.\n",
    "\n",
    "- Houve uma necessidade de aumentar o tempo de teste para obter insights mais precisos nos resultados dos algoritmos, a diferença entre os resultados eram sempre menos de 1 segundo. Com a abordagem mais longa de teste os resultados passam de 1 segundo de diferente em alguns resultados."
   ]
  },
  {
   "cell_type": "code",
   "execution_count": 92,
   "metadata": {},
   "outputs": [
    {
     "data": {
      "text/html": [
       "<div>\n",
       "<style scoped>\n",
       "    .dataframe tbody tr th:only-of-type {\n",
       "        vertical-align: middle;\n",
       "    }\n",
       "\n",
       "    .dataframe tbody tr th {\n",
       "        vertical-align: top;\n",
       "    }\n",
       "\n",
       "    .dataframe thead th {\n",
       "        text-align: right;\n",
       "    }\n",
       "</style>\n",
       "<table border=\"1\" class=\"dataframe\">\n",
       "  <thead>\n",
       "    <tr style=\"text-align: right;\">\n",
       "      <th></th>\n",
       "      <th></th>\n",
       "      <th>Gradient Boosting</th>\n",
       "      <th>Naive Bayes</th>\n",
       "      <th>Random Forest</th>\n",
       "      <th>Regressão Logística</th>\n",
       "    </tr>\n",
       "  </thead>\n",
       "  <tbody>\n",
       "    <tr>\n",
       "      <th>0</th>\n",
       "      <td>% de Acurácia</td>\n",
       "      <td>0.858086</td>\n",
       "      <td>0.646865</td>\n",
       "      <td>0.860286</td>\n",
       "      <td>0.838284</td>\n",
       "    </tr>\n",
       "    <tr>\n",
       "      <th>1</th>\n",
       "      <td>Time (Range 10000)</td>\n",
       "      <td>1.79 s</td>\n",
       "      <td>1.91 s</td>\n",
       "      <td>1.88 s</td>\n",
       "      <td>1.8 s</td>\n",
       "    </tr>\n",
       "    <tr>\n",
       "      <th>2</th>\n",
       "      <td>Time (Range 100000)</td>\n",
       "      <td>19 s</td>\n",
       "      <td>19.8 s</td>\n",
       "      <td>20.4 s</td>\n",
       "      <td>19.1 s</td>\n",
       "    </tr>\n",
       "  </tbody>\n",
       "</table>\n",
       "</div>"
      ],
      "text/plain": [
       "                       Gradient Boosting Naive Bayes Random Forest  \\\n",
       "0        % de Acurácia          0.858086    0.646865      0.860286   \n",
       "1   Time (Range 10000)            1.79 s      1.91 s        1.88 s   \n",
       "2  Time (Range 100000)              19 s      19.8 s        20.4 s   \n",
       "\n",
       "  Regressão Logística  \n",
       "0            0.838284  \n",
       "1               1.8 s  \n",
       "2              19.1 s  "
      ]
     },
     "execution_count": 92,
     "metadata": {},
     "output_type": "execute_result"
    }
   ],
   "source": [
    "resultados.head()"
   ]
  }
 ],
 "metadata": {
  "kernelspec": {
   "display_name": "Python 3",
   "language": "python",
   "name": "python3"
  },
  "language_info": {
   "codemirror_mode": {
    "name": "ipython",
    "version": 3
   },
   "file_extension": ".py",
   "mimetype": "text/x-python",
   "name": "python",
   "nbconvert_exporter": "python",
   "pygments_lexer": "ipython3",
   "version": "3.5.2"
  }
 },
 "nbformat": 4,
 "nbformat_minor": 4
}
