{
 "cells": [
  {
   "cell_type": "code",
   "execution_count": 2,
   "metadata": {},
   "outputs": [
    {
     "name": "stdout",
     "output_type": "stream",
     "text": [
      "Populating the interactive namespace from numpy and matplotlib\n"
     ]
    }
   ],
   "source": [
    "# importando bibliotecas para todos os algoritmos\n",
    "\n",
    "import warnings\n",
    "import numpy as np \n",
    "import pylab as pyl \n",
    "import pandas as pd\n",
    "import seaborn as sns\n",
    "import statsmodels.api as sm\n",
    "import matplotlib.pyplot as plt\n",
    "\n",
    "from sklearn import metrics\n",
    "from sklearn import preprocessing\n",
    "from sklearn.naive_bayes import GaussianNB\n",
    "from sklearn.metrics import mean_squared_error\n",
    "from sklearn.linear_model import LinearRegression\n",
    "from sklearn.ensemble import RandomForestRegressor\n",
    "from sklearn.neighbors import KNeighborsClassifier\n",
    "from sklearn.ensemble import RandomForestClassifier\n",
    "from sklearn.model_selection import train_test_split\n",
    "\n",
    "%pylab inline\n",
    "%matplotlib inline "
   ]
  },
  {
   "cell_type": "code",
   "execution_count": 3,
   "metadata": {},
   "outputs": [],
   "source": [
    "warnings.filterwarnings('ignore')"
   ]
  },
  {
   "cell_type": "code",
   "execution_count": 49,
   "metadata": {},
   "outputs": [],
   "source": [
    "# importando o dataset\n",
    "df = pd.read_csv('../dataset/data-set-clube-new-v2.csv', sep=';')"
   ]
  },
  {
   "cell_type": "code",
   "execution_count": 50,
   "metadata": {},
   "outputs": [
    {
     "data": {
      "text/html": [
       "<div>\n",
       "<style scoped>\n",
       "    .dataframe tbody tr th:only-of-type {\n",
       "        vertical-align: middle;\n",
       "    }\n",
       "\n",
       "    .dataframe tbody tr th {\n",
       "        vertical-align: top;\n",
       "    }\n",
       "\n",
       "    .dataframe thead th {\n",
       "        text-align: right;\n",
       "    }\n",
       "</style>\n",
       "<table border=\"1\" class=\"dataframe\">\n",
       "  <thead>\n",
       "    <tr style=\"text-align: right;\">\n",
       "      <th></th>\n",
       "      <th>id_socio</th>\n",
       "      <th>status</th>\n",
       "      <th>qtde_em_aberto</th>\n",
       "      <th>qtde_em_dia</th>\n",
       "      <th>qtde_em_atraso</th>\n",
       "      <th>qtde_frequencia_ano</th>\n",
       "    </tr>\n",
       "  </thead>\n",
       "  <tbody>\n",
       "    <tr>\n",
       "      <th>0</th>\n",
       "      <td>38810</td>\n",
       "      <td>CANCELADO</td>\n",
       "      <td>24</td>\n",
       "      <td>0</td>\n",
       "      <td>0</td>\n",
       "      <td>0</td>\n",
       "    </tr>\n",
       "  </tbody>\n",
       "</table>\n",
       "</div>"
      ],
      "text/plain": [
       "   id_socio     status  qtde_em_aberto  qtde_em_dia  qtde_em_atraso  \\\n",
       "0     38810  CANCELADO              24            0               0   \n",
       "\n",
       "   qtde_frequencia_ano  \n",
       "0                    0  "
      ]
     },
     "execution_count": 50,
     "metadata": {},
     "output_type": "execute_result"
    }
   ],
   "source": [
    "df.head(1)"
   ]
  },
  {
   "cell_type": "code",
   "execution_count": 51,
   "metadata": {},
   "outputs": [
    {
     "data": {
      "text/html": [
       "<div>\n",
       "<style scoped>\n",
       "    .dataframe tbody tr th:only-of-type {\n",
       "        vertical-align: middle;\n",
       "    }\n",
       "\n",
       "    .dataframe tbody tr th {\n",
       "        vertical-align: top;\n",
       "    }\n",
       "\n",
       "    .dataframe thead th {\n",
       "        text-align: right;\n",
       "    }\n",
       "</style>\n",
       "<table border=\"1\" class=\"dataframe\">\n",
       "  <thead>\n",
       "    <tr style=\"text-align: right;\">\n",
       "      <th></th>\n",
       "      <th>id_socio</th>\n",
       "      <th>status</th>\n",
       "      <th>qtde_em_aberto</th>\n",
       "      <th>qtde_em_dia</th>\n",
       "      <th>qtde_em_atraso</th>\n",
       "      <th>qtde_frequencia_ano</th>\n",
       "    </tr>\n",
       "  </thead>\n",
       "  <tbody>\n",
       "    <tr>\n",
       "      <th>3026</th>\n",
       "      <td>49083</td>\n",
       "      <td>ATIVO</td>\n",
       "      <td>51</td>\n",
       "      <td>4</td>\n",
       "      <td>12</td>\n",
       "      <td>15</td>\n",
       "    </tr>\n",
       "  </tbody>\n",
       "</table>\n",
       "</div>"
      ],
      "text/plain": [
       "      id_socio status  qtde_em_aberto  qtde_em_dia  qtde_em_atraso  \\\n",
       "3026     49083  ATIVO              51            4              12   \n",
       "\n",
       "      qtde_frequencia_ano  \n",
       "3026                   15  "
      ]
     },
     "execution_count": 51,
     "metadata": {},
     "output_type": "execute_result"
    }
   ],
   "source": [
    "df.tail(1)"
   ]
  },
  {
   "cell_type": "code",
   "execution_count": 52,
   "metadata": {},
   "outputs": [],
   "source": [
    "# Removendo a coluna id_socio (não usaremos ela por enquanto)\n",
    "df.drop('id_socio', inplace=True, axis=1)"
   ]
  },
  {
   "cell_type": "code",
   "execution_count": 54,
   "metadata": {},
   "outputs": [
    {
     "data": {
      "text/plain": [
       "False"
      ]
     },
     "execution_count": 54,
     "metadata": {},
     "output_type": "execute_result"
    }
   ],
   "source": [
    "# Verificando se existem valores nulos\n",
    "df.isnull().values.any()"
   ]
  },
  {
   "cell_type": "markdown",
   "metadata": {},
   "source": [
    "Após o tratamento abaixo, o STATUS ficará: \n",
    "\n",
    "- ATIVO = 0 \n",
    "- CANCELADO = 1"
   ]
  },
  {
   "cell_type": "code",
   "execution_count": 55,
   "metadata": {},
   "outputs": [],
   "source": [
    "# Passando a coluna STATUS para o tipo inteiro\n",
    "label_encoder = preprocessing.LabelEncoder()\n",
    "df['status'] = label_encoder.fit_transform(df['status'])"
   ]
  },
  {
   "cell_type": "code",
   "execution_count": 56,
   "metadata": {},
   "outputs": [],
   "source": [
    "# Definindo as classes\n",
    "status_map = {True : 1, False : 0}"
   ]
  },
  {
   "cell_type": "code",
   "execution_count": 57,
   "metadata": {},
   "outputs": [],
   "source": [
    "# Aplicando o mapeamento ao dataset\n",
    "df['status'] = df['status'].map(status_map)"
   ]
  },
  {
   "cell_type": "code",
   "execution_count": 58,
   "metadata": {},
   "outputs": [
    {
     "data": {
      "text/html": [
       "<div>\n",
       "<style scoped>\n",
       "    .dataframe tbody tr th:only-of-type {\n",
       "        vertical-align: middle;\n",
       "    }\n",
       "\n",
       "    .dataframe tbody tr th {\n",
       "        vertical-align: top;\n",
       "    }\n",
       "\n",
       "    .dataframe thead th {\n",
       "        text-align: right;\n",
       "    }\n",
       "</style>\n",
       "<table border=\"1\" class=\"dataframe\">\n",
       "  <thead>\n",
       "    <tr style=\"text-align: right;\">\n",
       "      <th></th>\n",
       "      <th>status</th>\n",
       "      <th>qtde_em_aberto</th>\n",
       "      <th>qtde_em_dia</th>\n",
       "      <th>qtde_em_atraso</th>\n",
       "      <th>qtde_frequencia_ano</th>\n",
       "    </tr>\n",
       "  </thead>\n",
       "  <tbody>\n",
       "    <tr>\n",
       "      <th>0</th>\n",
       "      <td>1</td>\n",
       "      <td>24</td>\n",
       "      <td>0</td>\n",
       "      <td>0</td>\n",
       "      <td>0</td>\n",
       "    </tr>\n",
       "  </tbody>\n",
       "</table>\n",
       "</div>"
      ],
      "text/plain": [
       "   status  qtde_em_aberto  qtde_em_dia  qtde_em_atraso  qtde_frequencia_ano\n",
       "0       1              24            0               0                    0"
      ]
     },
     "execution_count": 58,
     "metadata": {},
     "output_type": "execute_result"
    }
   ],
   "source": [
    "df.head(1)"
   ]
  },
  {
   "cell_type": "code",
   "execution_count": 60,
   "metadata": {},
   "outputs": [
    {
     "data": {
      "text/html": [
       "<div>\n",
       "<style scoped>\n",
       "    .dataframe tbody tr th:only-of-type {\n",
       "        vertical-align: middle;\n",
       "    }\n",
       "\n",
       "    .dataframe tbody tr th {\n",
       "        vertical-align: top;\n",
       "    }\n",
       "\n",
       "    .dataframe thead th {\n",
       "        text-align: right;\n",
       "    }\n",
       "</style>\n",
       "<table border=\"1\" class=\"dataframe\">\n",
       "  <thead>\n",
       "    <tr style=\"text-align: right;\">\n",
       "      <th></th>\n",
       "      <th>status</th>\n",
       "      <th>qtde_em_aberto</th>\n",
       "      <th>qtde_em_dia</th>\n",
       "      <th>qtde_em_atraso</th>\n",
       "      <th>qtde_frequencia_ano</th>\n",
       "    </tr>\n",
       "  </thead>\n",
       "  <tbody>\n",
       "    <tr>\n",
       "      <th>3026</th>\n",
       "      <td>0</td>\n",
       "      <td>51</td>\n",
       "      <td>4</td>\n",
       "      <td>12</td>\n",
       "      <td>15</td>\n",
       "    </tr>\n",
       "  </tbody>\n",
       "</table>\n",
       "</div>"
      ],
      "text/plain": [
       "      status  qtde_em_aberto  qtde_em_dia  qtde_em_atraso  qtde_frequencia_ano\n",
       "3026       0              51            4              12                   15"
      ]
     },
     "execution_count": 60,
     "metadata": {},
     "output_type": "execute_result"
    }
   ],
   "source": [
    "df.tail(1)"
   ]
  },
  {
   "cell_type": "code",
   "execution_count": 64,
   "metadata": {},
   "outputs": [
    {
     "name": "stdout",
     "output_type": "stream",
     "text": [
      "Número de Status Cancelados: 771 (25.47%)\n",
      "Número de Status Ativos    : 2256 (74.53%)\n"
     ]
    }
   ],
   "source": [
    "# Verificando como os dados estão distribuídos\n",
    "num_true = len(df.loc[df['status'] == True])\n",
    "num_false = len(df.loc[df['status'] == False])\n",
    "print(\"Número de Status Cancelados: {0} ({1:2.2f}%)\".format(num_true, (num_true/ (num_true + num_false)) * 100))\n",
    "print(\"Número de Status Ativos    : {0} ({1:2.2f}%)\".format(num_false, (num_false/ (num_true + num_false)) * 100))"
   ]
  },
  {
   "cell_type": "markdown",
   "metadata": {},
   "source": [
    "## Spliting\n",
    "\n",
    "70% para dados de treino e 30% para dados de teste"
   ]
  },
  {
   "cell_type": "code",
   "execution_count": 66,
   "metadata": {},
   "outputs": [],
   "source": [
    "# Seleção de variáveis preditoras (Feature Selection)\n",
    "atributos = ['qtde_em_aberto', 'qtde_em_dia', 'qtde_em_atraso', 'qtde_frequencia_ano']"
   ]
  },
  {
   "cell_type": "code",
   "execution_count": 67,
   "metadata": {},
   "outputs": [],
   "source": [
    "# Variável a ser prevista\n",
    "atrib_prev = ['status']"
   ]
  },
  {
   "cell_type": "code",
   "execution_count": 68,
   "metadata": {},
   "outputs": [],
   "source": [
    "# Criando objetos\n",
    "X = df[atributos].values\n",
    "Y = df[atrib_prev].values"
   ]
  },
  {
   "cell_type": "code",
   "execution_count": 73,
   "metadata": {},
   "outputs": [],
   "source": [
    "# Definindo a taxa de split\n",
    "split_test_size = 0.30"
   ]
  },
  {
   "cell_type": "code",
   "execution_count": 74,
   "metadata": {},
   "outputs": [],
   "source": [
    "# Criando dados de treino e de teste\n",
    "X_treino, X_teste, Y_treino, Y_teste = train_test_split(X, Y, test_size = split_test_size, random_state = 42)"
   ]
  },
  {
   "cell_type": "code",
   "execution_count": 75,
   "metadata": {},
   "outputs": [
    {
     "name": "stdout",
     "output_type": "stream",
     "text": [
      "69.97% nos dados de treino\n",
      "30.03% nos dados de teste\n"
     ]
    }
   ],
   "source": [
    "# Imprimindo os resultados\n",
    "print(\"{0:0.2f}% nos dados de treino\".format((len(X_treino)/len(df.index)) * 100))\n",
    "print(\"{0:0.2f}% nos dados de teste\".format((len(X_teste)/len(df.index)) * 100))"
   ]
  },
  {
   "cell_type": "markdown",
   "metadata": {},
   "source": [
    "### Verificando o Split"
   ]
  },
  {
   "cell_type": "code",
   "execution_count": 78,
   "metadata": {},
   "outputs": [
    {
     "name": "stdout",
     "output_type": "stream",
     "text": [
      "Original True : 771 (25.47%)\n",
      "Original False : 2256 (74.53%)\n",
      "\n",
      "Training True : 530 (25.02%)\n",
      "Training False : 1588 (74.98%)\n",
      "\n",
      "Test True : 241 (26.51%)\n",
      "Test False : 668 (73.49%)\n"
     ]
    }
   ],
   "source": [
    "print(\"Original True : {0} ({1:0.2f}%)\".format(len(df.loc[df['status'] == 1]), \n",
    "                                               (len(df.loc[df['status'] ==1])/len(df.index) * 100)))\n",
    "\n",
    "print(\"Original False : {0} ({1:0.2f}%)\".format(len(df.loc[df['status'] == 0]), \n",
    "                                               (len(df.loc[df['status'] == 0])/len(df.index) * 100)))\n",
    "print(\"\")\n",
    "print(\"Training True : {0} ({1:0.2f}%)\".format(len(Y_treino[Y_treino[:] == 1]), \n",
    "                                               (len(Y_treino[Y_treino[:] == 1])/len(Y_treino) * 100)))\n",
    "\n",
    "print(\"Training False : {0} ({1:0.2f}%)\".format(len(Y_treino[Y_treino[:] == 0]), \n",
    "                                               (len(Y_treino[Y_treino[:] == 0])/len(Y_treino) * 100)))\n",
    "print(\"\")\n",
    "print(\"Test True : {0} ({1:0.2f}%)\".format(len(Y_teste[Y_teste[:] == 1]), \n",
    "                                               (len(Y_teste[Y_teste[:] == 1])/len(Y_teste) * 100)))\n",
    "\n",
    "print(\"Test False : {0} ({1:0.2f}%)\".format(len(Y_teste[Y_teste[:] == 0]), \n",
    "                                               (len(Y_teste[Y_teste[:] == 0])/len(Y_teste) * 100)))"
   ]
  },
  {
   "cell_type": "code",
   "execution_count": null,
   "metadata": {},
   "outputs": [],
   "source": []
  },
  {
   "cell_type": "code",
   "execution_count": null,
   "metadata": {},
   "outputs": [],
   "source": []
  }
 ],
 "metadata": {
  "kernelspec": {
   "display_name": "Python 3",
   "language": "python",
   "name": "python3"
  },
  "language_info": {
   "codemirror_mode": {
    "name": "ipython",
    "version": 3
   },
   "file_extension": ".py",
   "mimetype": "text/x-python",
   "name": "python",
   "nbconvert_exporter": "python",
   "pygments_lexer": "ipython3",
   "version": "3.5.2"
  }
 },
 "nbformat": 4,
 "nbformat_minor": 4
}
