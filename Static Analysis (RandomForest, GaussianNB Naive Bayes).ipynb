{
 "cells": [
  {
   "cell_type": "code",
   "execution_count": 4,
   "metadata": {},
   "outputs": [],
   "source": [
    "import matplotlib.pyplot as plt\n",
    "import pandas as pd\n",
    "import seaborn as sns\n",
    "\n",
    "from sklearn import metrics\n",
    "from sklearn import preprocessing\n",
    "from sklearn.naive_bayes import GaussianNB\n",
    "from sklearn.ensemble import RandomForestClassifier\n",
    "from sklearn.model_selection import train_test_split\n",
    "\n",
    "%matplotlib inline "
   ]
  },
  {
   "cell_type": "code",
   "execution_count": 5,
   "metadata": {},
   "outputs": [],
   "source": [
    "# ignorando alertas (não erros)\n",
    "\n",
    "import warnings\n",
    "warnings.filterwarnings('ignore')"
   ]
  },
  {
   "cell_type": "code",
   "execution_count": 6,
   "metadata": {},
   "outputs": [],
   "source": [
    "# importando o dataset\n",
    "df = pd.read_csv('dataset/data-set-clube-new-v2.csv', sep=';')"
   ]
  },
  {
   "cell_type": "code",
   "execution_count": 7,
   "metadata": {},
   "outputs": [
    {
     "data": {
      "text/html": [
       "<div>\n",
       "<style scoped>\n",
       "    .dataframe tbody tr th:only-of-type {\n",
       "        vertical-align: middle;\n",
       "    }\n",
       "\n",
       "    .dataframe tbody tr th {\n",
       "        vertical-align: top;\n",
       "    }\n",
       "\n",
       "    .dataframe thead th {\n",
       "        text-align: right;\n",
       "    }\n",
       "</style>\n",
       "<table border=\"1\" class=\"dataframe\">\n",
       "  <thead>\n",
       "    <tr style=\"text-align: right;\">\n",
       "      <th></th>\n",
       "      <th>id_socio</th>\n",
       "      <th>status</th>\n",
       "      <th>qtde_em_aberto</th>\n",
       "      <th>qtde_em_dia</th>\n",
       "      <th>qtde_em_atraso</th>\n",
       "      <th>qtde_frequencia_ano</th>\n",
       "    </tr>\n",
       "  </thead>\n",
       "  <tbody>\n",
       "    <tr>\n",
       "      <th>0</th>\n",
       "      <td>38810</td>\n",
       "      <td>CANCELADO</td>\n",
       "      <td>24</td>\n",
       "      <td>0</td>\n",
       "      <td>0</td>\n",
       "      <td>0</td>\n",
       "    </tr>\n",
       "    <tr>\n",
       "      <th>1</th>\n",
       "      <td>54088</td>\n",
       "      <td>CANCELADO</td>\n",
       "      <td>0</td>\n",
       "      <td>0</td>\n",
       "      <td>0</td>\n",
       "      <td>0</td>\n",
       "    </tr>\n",
       "    <tr>\n",
       "      <th>2</th>\n",
       "      <td>31324</td>\n",
       "      <td>CANCELADO</td>\n",
       "      <td>12</td>\n",
       "      <td>1</td>\n",
       "      <td>2</td>\n",
       "      <td>4</td>\n",
       "    </tr>\n",
       "  </tbody>\n",
       "</table>\n",
       "</div>"
      ],
      "text/plain": [
       "   id_socio     status  qtde_em_aberto  qtde_em_dia  qtde_em_atraso  \\\n",
       "0     38810  CANCELADO              24            0               0   \n",
       "1     54088  CANCELADO               0            0               0   \n",
       "2     31324  CANCELADO              12            1               2   \n",
       "\n",
       "   qtde_frequencia_ano  \n",
       "0                    0  \n",
       "1                    0  \n",
       "2                    4  "
      ]
     },
     "execution_count": 7,
     "metadata": {},
     "output_type": "execute_result"
    }
   ],
   "source": [
    "# checando as 3 primeiras linhas do dataset\n",
    "df.head(3)"
   ]
  },
  {
   "cell_type": "code",
   "execution_count": 8,
   "metadata": {},
   "outputs": [
    {
     "data": {
      "text/html": [
       "<div>\n",
       "<style scoped>\n",
       "    .dataframe tbody tr th:only-of-type {\n",
       "        vertical-align: middle;\n",
       "    }\n",
       "\n",
       "    .dataframe tbody tr th {\n",
       "        vertical-align: top;\n",
       "    }\n",
       "\n",
       "    .dataframe thead th {\n",
       "        text-align: right;\n",
       "    }\n",
       "</style>\n",
       "<table border=\"1\" class=\"dataframe\">\n",
       "  <thead>\n",
       "    <tr style=\"text-align: right;\">\n",
       "      <th></th>\n",
       "      <th>id_socio</th>\n",
       "      <th>status</th>\n",
       "      <th>qtde_em_aberto</th>\n",
       "      <th>qtde_em_dia</th>\n",
       "      <th>qtde_em_atraso</th>\n",
       "      <th>qtde_frequencia_ano</th>\n",
       "    </tr>\n",
       "  </thead>\n",
       "  <tbody>\n",
       "    <tr>\n",
       "      <th>3017</th>\n",
       "      <td>53168</td>\n",
       "      <td>ATIVO</td>\n",
       "      <td>0</td>\n",
       "      <td>7</td>\n",
       "      <td>1</td>\n",
       "      <td>3</td>\n",
       "    </tr>\n",
       "    <tr>\n",
       "      <th>3018</th>\n",
       "      <td>53789</td>\n",
       "      <td>ATIVO</td>\n",
       "      <td>0</td>\n",
       "      <td>4</td>\n",
       "      <td>1</td>\n",
       "      <td>31</td>\n",
       "    </tr>\n",
       "    <tr>\n",
       "      <th>3019</th>\n",
       "      <td>53787</td>\n",
       "      <td>ATIVO</td>\n",
       "      <td>1</td>\n",
       "      <td>1</td>\n",
       "      <td>4</td>\n",
       "      <td>81</td>\n",
       "    </tr>\n",
       "    <tr>\n",
       "      <th>3020</th>\n",
       "      <td>53948</td>\n",
       "      <td>ATIVO</td>\n",
       "      <td>0</td>\n",
       "      <td>3</td>\n",
       "      <td>1</td>\n",
       "      <td>59</td>\n",
       "    </tr>\n",
       "    <tr>\n",
       "      <th>3021</th>\n",
       "      <td>54030</td>\n",
       "      <td>ATIVO</td>\n",
       "      <td>0</td>\n",
       "      <td>0</td>\n",
       "      <td>0</td>\n",
       "      <td>0</td>\n",
       "    </tr>\n",
       "    <tr>\n",
       "      <th>3022</th>\n",
       "      <td>54283</td>\n",
       "      <td>ATIVO</td>\n",
       "      <td>1</td>\n",
       "      <td>1</td>\n",
       "      <td>0</td>\n",
       "      <td>12</td>\n",
       "    </tr>\n",
       "    <tr>\n",
       "      <th>3023</th>\n",
       "      <td>54433</td>\n",
       "      <td>ATIVO</td>\n",
       "      <td>0</td>\n",
       "      <td>1</td>\n",
       "      <td>1</td>\n",
       "      <td>1</td>\n",
       "    </tr>\n",
       "    <tr>\n",
       "      <th>3024</th>\n",
       "      <td>54449</td>\n",
       "      <td>ATIVO</td>\n",
       "      <td>2</td>\n",
       "      <td>1</td>\n",
       "      <td>0</td>\n",
       "      <td>1</td>\n",
       "    </tr>\n",
       "    <tr>\n",
       "      <th>3025</th>\n",
       "      <td>54474</td>\n",
       "      <td>ATIVO</td>\n",
       "      <td>0</td>\n",
       "      <td>1</td>\n",
       "      <td>0</td>\n",
       "      <td>0</td>\n",
       "    </tr>\n",
       "    <tr>\n",
       "      <th>3026</th>\n",
       "      <td>49083</td>\n",
       "      <td>ATIVO</td>\n",
       "      <td>51</td>\n",
       "      <td>4</td>\n",
       "      <td>12</td>\n",
       "      <td>15</td>\n",
       "    </tr>\n",
       "  </tbody>\n",
       "</table>\n",
       "</div>"
      ],
      "text/plain": [
       "      id_socio status  qtde_em_aberto  qtde_em_dia  qtde_em_atraso  \\\n",
       "3017     53168  ATIVO               0            7               1   \n",
       "3018     53789  ATIVO               0            4               1   \n",
       "3019     53787  ATIVO               1            1               4   \n",
       "3020     53948  ATIVO               0            3               1   \n",
       "3021     54030  ATIVO               0            0               0   \n",
       "3022     54283  ATIVO               1            1               0   \n",
       "3023     54433  ATIVO               0            1               1   \n",
       "3024     54449  ATIVO               2            1               0   \n",
       "3025     54474  ATIVO               0            1               0   \n",
       "3026     49083  ATIVO              51            4              12   \n",
       "\n",
       "      qtde_frequencia_ano  \n",
       "3017                    3  \n",
       "3018                   31  \n",
       "3019                   81  \n",
       "3020                   59  \n",
       "3021                    0  \n",
       "3022                   12  \n",
       "3023                    1  \n",
       "3024                    1  \n",
       "3025                    0  \n",
       "3026                   15  "
      ]
     },
     "execution_count": 8,
     "metadata": {},
     "output_type": "execute_result"
    }
   ],
   "source": [
    "# checando as 3 últimas linhas do dataset\n",
    "df.tail(10)"
   ]
  },
  {
   "cell_type": "code",
   "execution_count": 9,
   "metadata": {},
   "outputs": [
    {
     "name": "stdout",
     "output_type": "stream",
     "text": [
      "(3027, 6)\n"
     ]
    }
   ],
   "source": [
    "# quantidade de linhas e colunas do dataset\n",
    "print(df.shape)"
   ]
  },
  {
   "cell_type": "code",
   "execution_count": 10,
   "metadata": {},
   "outputs": [
    {
     "data": {
      "text/plain": [
       "False"
      ]
     },
     "execution_count": 10,
     "metadata": {},
     "output_type": "execute_result"
    }
   ],
   "source": [
    "# conferindo se existe valor nulo no dataset\n",
    "df.isnull().values.any()"
   ]
  },
  {
   "cell_type": "code",
   "execution_count": 11,
   "metadata": {},
   "outputs": [
    {
     "data": {
      "text/plain": [
       "<matplotlib.axes._subplots.AxesSubplot at 0x7f17f1ad16d8>"
      ]
     },
     "execution_count": 11,
     "metadata": {},
     "output_type": "execute_result"
    },
    {
     "data": {
      "image/png": "[encoded data removed]",
      "text/plain": [
       "<Figure size 432x288 with 1 Axes>"
      ]
     },
     "metadata": {
      "needs_background": "light"
     },
     "output_type": "display_data"
    }
   ],
   "source": [
    "status = df[\"status\"].value_counts()\n",
    "sns.barplot(status.index, status.values)"
   ]
  },
  {
   "cell_type": "code",
   "execution_count": 12,
   "metadata": {},
   "outputs": [
    {
     "name": "stdout",
     "output_type": "stream",
     "text": [
      "Porcentagem de Status Ativo = 25.47076313181368\n"
     ]
    }
   ],
   "source": [
    "# Após a analise do gráfico acima, podemos ver que a maioria do dataset tem o \"status\" cancelado e ...\n",
    "\n",
    "status_ativo = df[\"status\"][df[\"status\"] == \"CANCELADO\"]\n",
    "print(\"Porcentagem de Status Ativo = \"+str((status_ativo.shape[0] / df[\"status\"].shape[0]) * 100))"
   ]
  },
  {
   "cell_type": "code",
   "execution_count": 13,
   "metadata": {},
   "outputs": [
    {
     "name": "stdout",
     "output_type": "stream",
     "text": [
      "Porcentagem de Status Ativo = 74.52923686818632\n"
     ]
    }
   ],
   "source": [
    "# ... a minoria está com status ATIVO\n",
    "status_ativo = df[\"status\"][df[\"status\"] == \"ATIVO\"]\n",
    "print(\"Porcentagem de Status Ativo = \"+str((status_ativo.shape[0] / df[\"status\"].shape[0]) * 100))"
   ]
  },
  {
   "cell_type": "code",
   "execution_count": 14,
   "metadata": {},
   "outputs": [
    {
     "data": {
      "text/html": [
       "<div>\n",
       "<style scoped>\n",
       "    .dataframe tbody tr th:only-of-type {\n",
       "        vertical-align: middle;\n",
       "    }\n",
       "\n",
       "    .dataframe tbody tr th {\n",
       "        vertical-align: top;\n",
       "    }\n",
       "\n",
       "    .dataframe thead th {\n",
       "        text-align: right;\n",
       "    }\n",
       "</style>\n",
       "<table border=\"1\" class=\"dataframe\">\n",
       "  <thead>\n",
       "    <tr style=\"text-align: right;\">\n",
       "      <th></th>\n",
       "      <th>id_socio</th>\n",
       "      <th>qtde_em_aberto</th>\n",
       "      <th>qtde_em_dia</th>\n",
       "      <th>qtde_em_atraso</th>\n",
       "      <th>qtde_frequencia_ano</th>\n",
       "    </tr>\n",
       "  </thead>\n",
       "  <tbody>\n",
       "    <tr>\n",
       "      <th>count</th>\n",
       "      <td>3027.000000</td>\n",
       "      <td>3027.000000</td>\n",
       "      <td>3027.000000</td>\n",
       "      <td>3027.000000</td>\n",
       "      <td>3027.000000</td>\n",
       "    </tr>\n",
       "    <tr>\n",
       "      <th>mean</th>\n",
       "      <td>23457.673274</td>\n",
       "      <td>10.601255</td>\n",
       "      <td>4.386852</td>\n",
       "      <td>3.212752</td>\n",
       "      <td>16.846383</td>\n",
       "    </tr>\n",
       "    <tr>\n",
       "      <th>std</th>\n",
       "      <td>14843.083641</td>\n",
       "      <td>10.743290</td>\n",
       "      <td>7.017163</td>\n",
       "      <td>5.761192</td>\n",
       "      <td>42.621343</td>\n",
       "    </tr>\n",
       "    <tr>\n",
       "      <th>min</th>\n",
       "      <td>3.000000</td>\n",
       "      <td>0.000000</td>\n",
       "      <td>0.000000</td>\n",
       "      <td>0.000000</td>\n",
       "      <td>0.000000</td>\n",
       "    </tr>\n",
       "    <tr>\n",
       "      <th>25%</th>\n",
       "      <td>10650.500000</td>\n",
       "      <td>0.000000</td>\n",
       "      <td>0.000000</td>\n",
       "      <td>0.000000</td>\n",
       "      <td>0.000000</td>\n",
       "    </tr>\n",
       "    <tr>\n",
       "      <th>50%</th>\n",
       "      <td>25490.000000</td>\n",
       "      <td>10.000000</td>\n",
       "      <td>0.000000</td>\n",
       "      <td>0.000000</td>\n",
       "      <td>0.000000</td>\n",
       "    </tr>\n",
       "    <tr>\n",
       "      <th>75%</th>\n",
       "      <td>35382.500000</td>\n",
       "      <td>24.000000</td>\n",
       "      <td>6.000000</td>\n",
       "      <td>4.000000</td>\n",
       "      <td>12.000000</td>\n",
       "    </tr>\n",
       "    <tr>\n",
       "      <th>max</th>\n",
       "      <td>54485.000000</td>\n",
       "      <td>55.000000</td>\n",
       "      <td>53.000000</td>\n",
       "      <td>39.000000</td>\n",
       "      <td>490.000000</td>\n",
       "    </tr>\n",
       "  </tbody>\n",
       "</table>\n",
       "</div>"
      ],
      "text/plain": [
       "           id_socio  qtde_em_aberto  qtde_em_dia  qtde_em_atraso  \\\n",
       "count   3027.000000     3027.000000  3027.000000     3027.000000   \n",
       "mean   23457.673274       10.601255     4.386852        3.212752   \n",
       "std    14843.083641       10.743290     7.017163        5.761192   \n",
       "min        3.000000        0.000000     0.000000        0.000000   \n",
       "25%    10650.500000        0.000000     0.000000        0.000000   \n",
       "50%    25490.000000       10.000000     0.000000        0.000000   \n",
       "75%    35382.500000       24.000000     6.000000        4.000000   \n",
       "max    54485.000000       55.000000    53.000000       39.000000   \n",
       "\n",
       "       qtde_frequencia_ano  \n",
       "count          3027.000000  \n",
       "mean             16.846383  \n",
       "std              42.621343  \n",
       "min               0.000000  \n",
       "25%               0.000000  \n",
       "50%               0.000000  \n",
       "75%              12.000000  \n",
       "max             490.000000  "
      ]
     },
     "execution_count": 14,
     "metadata": {},
     "output_type": "execute_result"
    }
   ],
   "source": [
    "# describe dataset\n",
    "\n",
    "# count = quantidade\n",
    "# mean = média\n",
    "# std = desvio padrão\n",
    "# min = valor mínimo\n",
    "# max = valor máximo\n",
    "\n",
    "df.describe()"
   ]
  },
  {
   "cell_type": "code",
   "execution_count": 15,
   "metadata": {},
   "outputs": [
    {
     "data": {
      "text/html": [
       "<div>\n",
       "<style scoped>\n",
       "    .dataframe tbody tr th:only-of-type {\n",
       "        vertical-align: middle;\n",
       "    }\n",
       "\n",
       "    .dataframe tbody tr th {\n",
       "        vertical-align: top;\n",
       "    }\n",
       "\n",
       "    .dataframe thead th {\n",
       "        text-align: right;\n",
       "    }\n",
       "</style>\n",
       "<table border=\"1\" class=\"dataframe\">\n",
       "  <thead>\n",
       "    <tr style=\"text-align: right;\">\n",
       "      <th></th>\n",
       "      <th>id_socio</th>\n",
       "      <th>status</th>\n",
       "      <th>qtde_em_aberto</th>\n",
       "      <th>qtde_em_dia</th>\n",
       "      <th>qtde_em_atraso</th>\n",
       "      <th>qtde_frequencia_ano</th>\n",
       "    </tr>\n",
       "  </thead>\n",
       "  <tbody>\n",
       "    <tr>\n",
       "      <th>2488</th>\n",
       "      <td>34836</td>\n",
       "      <td>ATIVO</td>\n",
       "      <td>12</td>\n",
       "      <td>12</td>\n",
       "      <td>0</td>\n",
       "      <td>490</td>\n",
       "    </tr>\n",
       "  </tbody>\n",
       "</table>\n",
       "</div>"
      ],
      "text/plain": [
       "      id_socio status  qtde_em_aberto  qtde_em_dia  qtde_em_atraso  \\\n",
       "2488     34836  ATIVO              12           12               0   \n",
       "\n",
       "      qtde_frequencia_ano  \n",
       "2488                  490  "
      ]
     },
     "execution_count": 15,
     "metadata": {},
     "output_type": "execute_result"
    }
   ],
   "source": [
    "# Checando alguns resultados do describe\n",
    "maximo = df['qtde_frequencia_ano'] == 490\n",
    "maximo = df[maximo]\n",
    "maximo"
   ]
  },
  {
   "cell_type": "code",
   "execution_count": 16,
   "metadata": {},
   "outputs": [
    {
     "data": {
      "text/html": [
       "<div>\n",
       "<style scoped>\n",
       "    .dataframe tbody tr th:only-of-type {\n",
       "        vertical-align: middle;\n",
       "    }\n",
       "\n",
       "    .dataframe tbody tr th {\n",
       "        vertical-align: top;\n",
       "    }\n",
       "\n",
       "    .dataframe thead th {\n",
       "        text-align: right;\n",
       "    }\n",
       "</style>\n",
       "<table border=\"1\" class=\"dataframe\">\n",
       "  <thead>\n",
       "    <tr style=\"text-align: right;\">\n",
       "      <th></th>\n",
       "      <th>id_socio</th>\n",
       "      <th>status</th>\n",
       "      <th>qtde_em_aberto</th>\n",
       "      <th>qtde_em_dia</th>\n",
       "      <th>qtde_em_atraso</th>\n",
       "      <th>qtde_frequencia_ano</th>\n",
       "    </tr>\n",
       "  </thead>\n",
       "  <tbody>\n",
       "    <tr>\n",
       "      <th>2180</th>\n",
       "      <td>29011</td>\n",
       "      <td>ATIVO</td>\n",
       "      <td>53</td>\n",
       "      <td>19</td>\n",
       "      <td>9</td>\n",
       "      <td>174</td>\n",
       "    </tr>\n",
       "  </tbody>\n",
       "</table>\n",
       "</div>"
      ],
      "text/plain": [
       "      id_socio status  qtde_em_aberto  qtde_em_dia  qtde_em_atraso  \\\n",
       "2180     29011  ATIVO              53           19               9   \n",
       "\n",
       "      qtde_frequencia_ano  \n",
       "2180                  174  "
      ]
     },
     "execution_count": 16,
     "metadata": {},
     "output_type": "execute_result"
    }
   ],
   "source": [
    "# Checando alguns resultados do describe\n",
    "maximo = df['qtde_em_aberto'] == 53\n",
    "maximo = df[maximo]\n",
    "maximo"
   ]
  },
  {
   "cell_type": "code",
   "execution_count": 17,
   "metadata": {},
   "outputs": [
    {
     "data": {
      "text/plain": [
       "<matplotlib.axes._subplots.AxesSubplot at 0x7f17ef9e40b8>"
      ]
     },
     "execution_count": 17,
     "metadata": {},
     "output_type": "execute_result"
    },
    {
     "data": {
      "image/png": "[encoded data removed]",
      "text/plain": [
       "<Figure size 1440x360 with 1 Axes>"
      ]
     },
     "metadata": {
      "needs_background": "light"
     },
     "output_type": "display_data"
    }
   ],
   "source": [
    "# Relação das variáveis status e parcelas em aberto\n",
    "# Podemos analisar que a maior parte dos cancelamentos não tinham parcelas em aberto.\n",
    "\n",
    "\n",
    "df.groupby([\"qtde_em_aberto\", \"status\"]).size().unstack().plot(kind='bar', stacked=True, figsize=(20,5))"
   ]
  },
  {
   "cell_type": "code",
   "execution_count": 18,
   "metadata": {},
   "outputs": [
    {
     "data": {
      "text/plain": [
       "<matplotlib.axes._subplots.AxesSubplot at 0x7f17ef991c50>"
      ]
     },
     "execution_count": 18,
     "metadata": {},
     "output_type": "execute_result"
    },
    {
     "data": {
      "image/png": "[encoded data removed]",
      "text/plain": [
       "<Figure size 1440x360 with 1 Axes>"
      ]
     },
     "metadata": {
      "needs_background": "light"
     },
     "output_type": "display_data"
    }
   ],
   "source": [
    "# Relação das variáveis status e parcelas em dia\n",
    "df.groupby([\"qtde_em_dia\", \"status\"]).size().unstack().plot(kind='bar', stacked=True, figsize=(20,5))"
   ]
  },
  {
   "cell_type": "code",
   "execution_count": 19,
   "metadata": {},
   "outputs": [
    {
     "data": {
      "text/plain": [
       "<matplotlib.axes._subplots.AxesSubplot at 0x7f17ef7e65c0>"
      ]
     },
     "execution_count": 19,
     "metadata": {},
     "output_type": "execute_result"
    },
    {
     "data": {
      "image/png": "[encoded data removed]",
      "text/plain": [
       "<Figure size 936x360 with 1 Axes>"
      ]
     },
     "metadata": {
      "needs_background": "light"
     },
     "output_type": "display_data"
    }
   ],
   "source": [
    "# Relação das variáveis status e quantidade de parcelas em atraso\n",
    "df.groupby([\"qtde_em_atraso\", \"status\"]).size().unstack().plot(kind='bar', stacked=True, figsize=(13,5))"
   ]
  },
  {
   "cell_type": "code",
   "execution_count": 20,
   "metadata": {},
   "outputs": [
    {
     "name": "stdout",
     "output_type": "stream",
     "text": [
      "      id_socio     status  qtde_em_aberto  qtde_em_dia  qtde_em_atraso  \\\n",
      "0        38810  CANCELADO              24            0               0   \n",
      "1        54088  CANCELADO               0            0               0   \n",
      "2        31324  CANCELADO              12            1               2   \n",
      "3        34368  CANCELADO               9            1               2   \n",
      "4        27004  CANCELADO              14            1               0   \n",
      "5        13375  CANCELADO               9            1               2   \n",
      "6        10326  CANCELADO              20            0               4   \n",
      "7        28512  CANCELADO              14            0               0   \n",
      "12       45628  CANCELADO              18            2               5   \n",
      "24       41631  CANCELADO               8            6               4   \n",
      "75       31344  CANCELADO               8           16               0   \n",
      "104      33556  CANCELADO              19            3               6   \n",
      "107       8760  CANCELADO              16            8               0   \n",
      "109      27916  CANCELADO               0           22               3   \n",
      "111      33047  CANCELADO               5           12               0   \n",
      "112      31666  CANCELADO               6            6               0   \n",
      "124       8323  CANCELADO              22            1               2   \n",
      "125       9076  CANCELADO               4            0               0   \n",
      "127        177  CANCELADO               8           12               4   \n",
      "128      11804  CANCELADO              18            1               6   \n",
      "129      12611  CANCELADO              20            1               4   \n",
      "130      13200  CANCELADO               8            2               4   \n",
      "131      12741  CANCELADO              24            0               0   \n",
      "133      31374  CANCELADO               2            7              20   \n",
      "134      11949  CANCELADO              16            4               4   \n",
      "136      32186  CANCELADO              17            3               7   \n",
      "138       8845  CANCELADO              16            5               3   \n",
      "139      13355  CANCELADO               8            2               2   \n",
      "140      13258  CANCELADO               8            0               6   \n",
      "143      35111  CANCELADO               5            6               2   \n",
      "...        ...        ...             ...          ...             ...   \n",
      "2122     11285  CANCELADO              14            1               1   \n",
      "2123     12661  CANCELADO              24            0               0   \n",
      "2124     11543  CANCELADO              16            0               0   \n",
      "2125     11575  CANCELADO              43            0               0   \n",
      "2126     12492  CANCELADO              11           13               0   \n",
      "2127     12525  CANCELADO               6           17               1   \n",
      "2128     13366  CANCELADO              11            0               1   \n",
      "2129     33405  CANCELADO              22            2               0   \n",
      "2130     32687  CANCELADO              46            1               2   \n",
      "2131     34039  CANCELADO              16            0               0   \n",
      "2132     33508  CANCELADO              16            0               0   \n",
      "2133     33559  CANCELADO              24            1               0   \n",
      "2134     31917  CANCELADO              22            1               2   \n",
      "2135     42438  CANCELADO              12           12               0   \n",
      "2136     42350  CANCELADO              12            2               0   \n",
      "2137     42049  CANCELADO              21            2               1   \n",
      "2138     41797  CANCELADO              20            1               4   \n",
      "2139     39331  CANCELADO              24            1               0   \n",
      "2140     41117  CANCELADO               3            1               1   \n",
      "2141     41988  CANCELADO              24            0               0   \n",
      "2142     43330  CANCELADO              11            1               1   \n",
      "2143     42427  CANCELADO               0            0               1   \n",
      "2144     43932  CANCELADO               6            6               0   \n",
      "2145     44391  CANCELADO               1            0               0   \n",
      "2146     44397  CANCELADO               1            0               0   \n",
      "2147     46100  CANCELADO               1            1               0   \n",
      "2148     48326  CANCELADO              11            1               0   \n",
      "2149     48352  CANCELADO              12            0               0   \n",
      "2150     48579  CANCELADO               6            0               0   \n",
      "2151     49850  CANCELADO               9            1               0   \n",
      "\n",
      "      qtde_frequencia_ano  \n",
      "0                       0  \n",
      "1                       0  \n",
      "2                       4  \n",
      "3                       0  \n",
      "4                       7  \n",
      "5                       1  \n",
      "6                      25  \n",
      "7                       0  \n",
      "12                      0  \n",
      "24                      0  \n",
      "75                      7  \n",
      "104                    10  \n",
      "107                     0  \n",
      "109                   119  \n",
      "111                    11  \n",
      "112                     2  \n",
      "124                     0  \n",
      "125                     0  \n",
      "127                     6  \n",
      "128                     0  \n",
      "129                     0  \n",
      "130                     0  \n",
      "131                     0  \n",
      "133                   217  \n",
      "134                     3  \n",
      "136                    14  \n",
      "138                    55  \n",
      "139                     2  \n",
      "140                     0  \n",
      "143                     0  \n",
      "...                   ...  \n",
      "2122                    0  \n",
      "2123                    0  \n",
      "2124                    0  \n",
      "2125                    0  \n",
      "2126                    0  \n",
      "2127                    3  \n",
      "2128                    0  \n",
      "2129                    0  \n",
      "2130                    0  \n",
      "2131                    2  \n",
      "2132                    0  \n",
      "2133                    0  \n",
      "2134                    0  \n",
      "2135                    1  \n",
      "2136                    0  \n",
      "2137                    1  \n",
      "2138                    0  \n",
      "2139                    0  \n",
      "2140                    0  \n",
      "2141                    0  \n",
      "2142                    1  \n",
      "2143                    0  \n",
      "2144                    1  \n",
      "2145                    0  \n",
      "2146                    0  \n",
      "2147                    0  \n",
      "2148                    0  \n",
      "2149                    0  \n",
      "2150                    0  \n",
      "2151                    1  \n",
      "\n",
      "[771 rows x 6 columns]\n"
     ]
    }
   ],
   "source": [
    "# Todos os Status cancelados\n",
    "\n",
    "cancelados = df[\"status\"] == \"CANCELADO\"\n",
    "cancelados = df[cancelados]\n",
    "print(cancelados)"
   ]
  },
  {
   "cell_type": "code",
   "execution_count": 21,
   "metadata": {},
   "outputs": [
    {
     "name": "stdout",
     "output_type": "stream",
     "text": [
      "      id_socio status  qtde_em_aberto  qtde_em_dia  qtde_em_atraso  \\\n",
      "8            5  ATIVO               4            0               0   \n",
      "9           31  ATIVO               4            0               0   \n",
      "10          38  ATIVO              24            0               0   \n",
      "11       29811  ATIVO              24            0               0   \n",
      "13          60  ATIVO               4            0               0   \n",
      "14       25376  ATIVO               0            8               4   \n",
      "15         168  ATIVO               4            0               0   \n",
      "16       40449  ATIVO              24            0               0   \n",
      "17       31275  ATIVO               0           23               1   \n",
      "18          96  ATIVO               4            0               0   \n",
      "19       12740  ATIVO               8            1              16   \n",
      "20       29552  ATIVO               4            0               0   \n",
      "21          46  ATIVO               4            0               0   \n",
      "22          33  ATIVO               0            1               4   \n",
      "23          37  ATIVO               0            4               0   \n",
      "25          41  ATIVO               0            0               0   \n",
      "26       12549  ATIVO               6            2              24   \n",
      "27          56  ATIVO               0            0               0   \n",
      "28       11624  ATIVO              24            0               0   \n",
      "29          67  ATIVO               0            4               0   \n",
      "30          75  ATIVO               4            0               4   \n",
      "31       35512  ATIVO              24            0               0   \n",
      "32          24  ATIVO               0            1               3   \n",
      "33          23  ATIVO               0            0               0   \n",
      "34          25  ATIVO               0            0               0   \n",
      "35          26  ATIVO               0            0               0   \n",
      "36          28  ATIVO               0            4               0   \n",
      "37         166  ATIVO               0            0               0   \n",
      "38        9028  ATIVO              17            1               5   \n",
      "39       11696  ATIVO               0            4               0   \n",
      "...        ...    ...             ...          ...             ...   \n",
      "2997     53390  ATIVO               2            4               4   \n",
      "2998     54226  ATIVO               0            0               3   \n",
      "2999     53843  ATIVO               0            5               0   \n",
      "3000     53865  ATIVO               6            5               1   \n",
      "3001     53870  ATIVO               0            5               0   \n",
      "3002     52035  ATIVO               0           10               1   \n",
      "3003     53917  ATIVO               0            3               2   \n",
      "3004     52024  ATIVO              12            3               3   \n",
      "3005     54058  ATIVO               0            0               1   \n",
      "3006     54060  ATIVO               0            0               1   \n",
      "3007     51347  ATIVO               1            8               4   \n",
      "3008     54133  ATIVO               1            3               1   \n",
      "3009     54485  ATIVO               1            0               1   \n",
      "3010     52571  ATIVO               0           10               0   \n",
      "3011     52565  ATIVO               1            7              15   \n",
      "3012     52764  ATIVO               0            4               1   \n",
      "3013     52830  ATIVO               0           12               6   \n",
      "3014     53039  ATIVO               0            0               4   \n",
      "3015     53071  ATIVO               4            4               7   \n",
      "3016     53072  ATIVO               5            4               7   \n",
      "3017     53168  ATIVO               0            7               1   \n",
      "3018     53789  ATIVO               0            4               1   \n",
      "3019     53787  ATIVO               1            1               4   \n",
      "3020     53948  ATIVO               0            3               1   \n",
      "3021     54030  ATIVO               0            0               0   \n",
      "3022     54283  ATIVO               1            1               0   \n",
      "3023     54433  ATIVO               0            1               1   \n",
      "3024     54449  ATIVO               2            1               0   \n",
      "3025     54474  ATIVO               0            1               0   \n",
      "3026     49083  ATIVO              51            4              12   \n",
      "\n",
      "      qtde_frequencia_ano  \n",
      "8                       0  \n",
      "9                       0  \n",
      "10                      0  \n",
      "11                      0  \n",
      "13                      0  \n",
      "14                      0  \n",
      "15                      0  \n",
      "16                      0  \n",
      "17                     23  \n",
      "18                      0  \n",
      "19                      4  \n",
      "20                      0  \n",
      "21                      0  \n",
      "22                      0  \n",
      "23                      0  \n",
      "25                      0  \n",
      "26                      0  \n",
      "27                      0  \n",
      "28                      0  \n",
      "29                      9  \n",
      "30                      0  \n",
      "31                      0  \n",
      "32                      1  \n",
      "33                      0  \n",
      "34                      0  \n",
      "35                      0  \n",
      "36                      0  \n",
      "37                      0  \n",
      "38                      0  \n",
      "39                      0  \n",
      "...                   ...  \n",
      "2997                   15  \n",
      "2998                    0  \n",
      "2999                    1  \n",
      "3000                    1  \n",
      "3001                    6  \n",
      "3002                   60  \n",
      "3003                    4  \n",
      "3004                    3  \n",
      "3005                   47  \n",
      "3006                   46  \n",
      "3007                   11  \n",
      "3008                    2  \n",
      "3009                    0  \n",
      "3010                   22  \n",
      "3011                   29  \n",
      "3012                   54  \n",
      "3013                   98  \n",
      "3014                    8  \n",
      "3015                    0  \n",
      "3016                    0  \n",
      "3017                    3  \n",
      "3018                   31  \n",
      "3019                   81  \n",
      "3020                   59  \n",
      "3021                    0  \n",
      "3022                   12  \n",
      "3023                    1  \n",
      "3024                    1  \n",
      "3025                    0  \n",
      "3026                   15  \n",
      "\n",
      "[2256 rows x 6 columns]\n"
     ]
    }
   ],
   "source": [
    "# Todos os Status cancelados\n",
    "\n",
    "# Podemos observar que as colunas qtde_em_aberto, qtde_em_dia e qtde_em_atraso\n",
    "# estão zeradas, o que dificuta a compreensão, pois a coluna qtde_em_dia é oposta a qtde_em_atraso?\n",
    "\n",
    "# uma sugestão para uma melhor análise seria a data de cadastro do sócio e a data da saída?\n",
    "# Conferir a possibilidade com o Reinaldo.\n",
    "\n",
    "# Uma dúvida: um sócio tem condições para abandonar o clube? \n",
    "\n",
    "ativos = df[\"status\"] == \"ATIVO\"\n",
    "ativos = df[ativos]\n",
    "ativos.head(5)\n",
    "print(ativos)"
   ]
  },
  {
   "cell_type": "code",
   "execution_count": 22,
   "metadata": {},
   "outputs": [
    {
     "name": "stdout",
     "output_type": "stream",
     "text": [
      "id_socio               int64\n",
      "status                 int64\n",
      "qtde_em_aberto         int64\n",
      "qtde_em_dia            int64\n",
      "qtde_em_atraso         int64\n",
      "qtde_frequencia_ano    int64\n",
      "dtype: object\n"
     ]
    }
   ],
   "source": [
    "# Passando os todas as colunas para o tipo inteiro\n",
    "\n",
    "label_encoder = preprocessing.LabelEncoder()\n",
    "\n",
    "df['id_socio'] = label_encoder.fit_transform(df['id_socio'])\n",
    "df['status'] = label_encoder.fit_transform(df['status'])\n",
    "df['qtde_em_aberto'] = label_encoder.fit_transform(df['qtde_em_aberto'])\n",
    "df['qtde_em_dia'] = label_encoder.fit_transform(df['qtde_em_dia'])\n",
    "df['qtde_em_atraso'] = label_encoder.fit_transform(df['qtde_em_atraso'])\n",
    "\n",
    "print (df.dtypes)"
   ]
  },
  {
   "cell_type": "code",
   "execution_count": 23,
   "metadata": {},
   "outputs": [
    {
     "data": {
      "text/html": [
       "<div>\n",
       "<style scoped>\n",
       "    .dataframe tbody tr th:only-of-type {\n",
       "        vertical-align: middle;\n",
       "    }\n",
       "\n",
       "    .dataframe tbody tr th {\n",
       "        vertical-align: top;\n",
       "    }\n",
       "\n",
       "    .dataframe thead th {\n",
       "        text-align: right;\n",
       "    }\n",
       "</style>\n",
       "<table border=\"1\" class=\"dataframe\">\n",
       "  <thead>\n",
       "    <tr style=\"text-align: right;\">\n",
       "      <th></th>\n",
       "      <th>id_socio</th>\n",
       "      <th>status</th>\n",
       "      <th>qtde_em_aberto</th>\n",
       "      <th>qtde_em_dia</th>\n",
       "      <th>qtde_em_atraso</th>\n",
       "      <th>qtde_frequencia_ano</th>\n",
       "    </tr>\n",
       "  </thead>\n",
       "  <tbody>\n",
       "    <tr>\n",
       "      <th>0</th>\n",
       "      <td>2464</td>\n",
       "      <td>1</td>\n",
       "      <td>24</td>\n",
       "      <td>0</td>\n",
       "      <td>0</td>\n",
       "      <td>0</td>\n",
       "    </tr>\n",
       "    <tr>\n",
       "      <th>1</th>\n",
       "      <td>3010</td>\n",
       "      <td>1</td>\n",
       "      <td>0</td>\n",
       "      <td>0</td>\n",
       "      <td>0</td>\n",
       "      <td>0</td>\n",
       "    </tr>\n",
       "    <tr>\n",
       "      <th>2</th>\n",
       "      <td>1885</td>\n",
       "      <td>1</td>\n",
       "      <td>12</td>\n",
       "      <td>1</td>\n",
       "      <td>2</td>\n",
       "      <td>4</td>\n",
       "    </tr>\n",
       "    <tr>\n",
       "      <th>3</th>\n",
       "      <td>2179</td>\n",
       "      <td>1</td>\n",
       "      <td>9</td>\n",
       "      <td>1</td>\n",
       "      <td>2</td>\n",
       "      <td>0</td>\n",
       "    </tr>\n",
       "    <tr>\n",
       "      <th>4</th>\n",
       "      <td>1604</td>\n",
       "      <td>1</td>\n",
       "      <td>14</td>\n",
       "      <td>1</td>\n",
       "      <td>0</td>\n",
       "      <td>7</td>\n",
       "    </tr>\n",
       "  </tbody>\n",
       "</table>\n",
       "</div>"
      ],
      "text/plain": [
       "   id_socio  status  qtde_em_aberto  qtde_em_dia  qtde_em_atraso  \\\n",
       "0      2464       1              24            0               0   \n",
       "1      3010       1               0            0               0   \n",
       "2      1885       1              12            1               2   \n",
       "3      2179       1               9            1               2   \n",
       "4      1604       1              14            1               0   \n",
       "\n",
       "   qtde_frequencia_ano  \n",
       "0                    0  \n",
       "1                    0  \n",
       "2                    4  \n",
       "3                    0  \n",
       "4                    7  "
      ]
     },
     "execution_count": 23,
     "metadata": {},
     "output_type": "execute_result"
    }
   ],
   "source": [
    "df.head()"
   ]
  },
  {
   "cell_type": "code",
   "execution_count": 24,
   "metadata": {},
   "outputs": [],
   "source": [
    "# identificando a correlação entre as variáveis\n",
    "# Correlação não implica causalidade\n",
    "\n",
    "def plot_corr(df, size=10):\n",
    "    corr = df.corr()\n",
    "    fig, ax = plt.subplots(figsize = (size, size))\n",
    "    ax.matshow(corr)\n",
    "    plt.xticks(range(len(corr.columns)), corr.columns)\n",
    "    plt.yticks(range(len(corr.columns)), corr.columns)"
   ]
  },
  {
   "cell_type": "code",
   "execution_count": 25,
   "metadata": {},
   "outputs": [
    {
     "data": {
      "image/png": "[encoded data removed]",
      "text/plain": [
       "<Figure size 720x720 with 1 Axes>"
      ]
     },
     "metadata": {
      "needs_background": "light"
     },
     "output_type": "display_data"
    }
   ],
   "source": [
    "# criando o gráfico da função acima\n",
    "\n",
    "plot_corr(df)"
   ]
  },
  {
   "cell_type": "code",
   "execution_count": 26,
   "metadata": {},
   "outputs": [
    {
     "data": {
      "text/html": [
       "<div>\n",
       "<style scoped>\n",
       "    .dataframe tbody tr th:only-of-type {\n",
       "        vertical-align: middle;\n",
       "    }\n",
       "\n",
       "    .dataframe tbody tr th {\n",
       "        vertical-align: top;\n",
       "    }\n",
       "\n",
       "    .dataframe thead th {\n",
       "        text-align: right;\n",
       "    }\n",
       "</style>\n",
       "<table border=\"1\" class=\"dataframe\">\n",
       "  <thead>\n",
       "    <tr style=\"text-align: right;\">\n",
       "      <th></th>\n",
       "      <th>id_socio</th>\n",
       "      <th>status</th>\n",
       "      <th>qtde_em_aberto</th>\n",
       "      <th>qtde_em_dia</th>\n",
       "      <th>qtde_em_atraso</th>\n",
       "      <th>qtde_frequencia_ano</th>\n",
       "    </tr>\n",
       "  </thead>\n",
       "  <tbody>\n",
       "    <tr>\n",
       "      <th>id_socio</th>\n",
       "      <td>1.000000</td>\n",
       "      <td>0.112373</td>\n",
       "      <td>-0.030205</td>\n",
       "      <td>-0.015215</td>\n",
       "      <td>0.025774</td>\n",
       "      <td>-0.033012</td>\n",
       "    </tr>\n",
       "    <tr>\n",
       "      <th>status</th>\n",
       "      <td>0.112373</td>\n",
       "      <td>1.000000</td>\n",
       "      <td>0.499130</td>\n",
       "      <td>-0.258259</td>\n",
       "      <td>-0.218673</td>\n",
       "      <td>-0.193490</td>\n",
       "    </tr>\n",
       "    <tr>\n",
       "      <th>qtde_em_aberto</th>\n",
       "      <td>-0.030205</td>\n",
       "      <td>0.499130</td>\n",
       "      <td>1.000000</td>\n",
       "      <td>-0.383364</td>\n",
       "      <td>-0.226551</td>\n",
       "      <td>-0.137295</td>\n",
       "    </tr>\n",
       "    <tr>\n",
       "      <th>qtde_em_dia</th>\n",
       "      <td>-0.015215</td>\n",
       "      <td>-0.258259</td>\n",
       "      <td>-0.383364</td>\n",
       "      <td>1.000000</td>\n",
       "      <td>0.224577</td>\n",
       "      <td>0.403122</td>\n",
       "    </tr>\n",
       "    <tr>\n",
       "      <th>qtde_em_atraso</th>\n",
       "      <td>0.025774</td>\n",
       "      <td>-0.218673</td>\n",
       "      <td>-0.226551</td>\n",
       "      <td>0.224577</td>\n",
       "      <td>1.000000</td>\n",
       "      <td>0.237265</td>\n",
       "    </tr>\n",
       "    <tr>\n",
       "      <th>qtde_frequencia_ano</th>\n",
       "      <td>-0.033012</td>\n",
       "      <td>-0.193490</td>\n",
       "      <td>-0.137295</td>\n",
       "      <td>0.403122</td>\n",
       "      <td>0.237265</td>\n",
       "      <td>1.000000</td>\n",
       "    </tr>\n",
       "  </tbody>\n",
       "</table>\n",
       "</div>"
      ],
      "text/plain": [
       "                     id_socio    status  qtde_em_aberto  qtde_em_dia  \\\n",
       "id_socio             1.000000  0.112373       -0.030205    -0.015215   \n",
       "status               0.112373  1.000000        0.499130    -0.258259   \n",
       "qtde_em_aberto      -0.030205  0.499130        1.000000    -0.383364   \n",
       "qtde_em_dia         -0.015215 -0.258259       -0.383364     1.000000   \n",
       "qtde_em_atraso       0.025774 -0.218673       -0.226551     0.224577   \n",
       "qtde_frequencia_ano -0.033012 -0.193490       -0.137295     0.403122   \n",
       "\n",
       "                     qtde_em_atraso  qtde_frequencia_ano  \n",
       "id_socio                   0.025774            -0.033012  \n",
       "status                    -0.218673            -0.193490  \n",
       "qtde_em_aberto            -0.226551            -0.137295  \n",
       "qtde_em_dia                0.224577             0.403122  \n",
       "qtde_em_atraso             1.000000             0.237265  \n",
       "qtde_frequencia_ano        0.237265             1.000000  "
      ]
     },
     "execution_count": 26,
     "metadata": {},
     "output_type": "execute_result"
    }
   ],
   "source": [
    "# Visualizando a correlação em tabela\n",
    "# Coeficiente de correlação:\n",
    "   \n",
    "    # +1 = forte correlação positiva\n",
    "    # 0 = não há correlação\n",
    "    # -1 forte correlação negativa\n",
    "df.corr()"
   ]
  },
  {
   "cell_type": "code",
   "execution_count": 27,
   "metadata": {},
   "outputs": [],
   "source": [
    "# Definindo boolean para a coluna Status\n",
    "status_map = {True: 1, False : 0}"
   ]
  },
  {
   "cell_type": "code",
   "execution_count": 28,
   "metadata": {},
   "outputs": [],
   "source": [
    "df['status'] = df['status'].map(status_map)"
   ]
  },
  {
   "cell_type": "code",
   "execution_count": 29,
   "metadata": {},
   "outputs": [
    {
     "data": {
      "text/html": [
       "<div>\n",
       "<style scoped>\n",
       "    .dataframe tbody tr th:only-of-type {\n",
       "        vertical-align: middle;\n",
       "    }\n",
       "\n",
       "    .dataframe tbody tr th {\n",
       "        vertical-align: top;\n",
       "    }\n",
       "\n",
       "    .dataframe thead th {\n",
       "        text-align: right;\n",
       "    }\n",
       "</style>\n",
       "<table border=\"1\" class=\"dataframe\">\n",
       "  <thead>\n",
       "    <tr style=\"text-align: right;\">\n",
       "      <th></th>\n",
       "      <th>id_socio</th>\n",
       "      <th>status</th>\n",
       "      <th>qtde_em_aberto</th>\n",
       "      <th>qtde_em_dia</th>\n",
       "      <th>qtde_em_atraso</th>\n",
       "      <th>qtde_frequencia_ano</th>\n",
       "    </tr>\n",
       "  </thead>\n",
       "  <tbody>\n",
       "    <tr>\n",
       "      <th>0</th>\n",
       "      <td>2464</td>\n",
       "      <td>1</td>\n",
       "      <td>24</td>\n",
       "      <td>0</td>\n",
       "      <td>0</td>\n",
       "      <td>0</td>\n",
       "    </tr>\n",
       "    <tr>\n",
       "      <th>1</th>\n",
       "      <td>3010</td>\n",
       "      <td>1</td>\n",
       "      <td>0</td>\n",
       "      <td>0</td>\n",
       "      <td>0</td>\n",
       "      <td>0</td>\n",
       "    </tr>\n",
       "    <tr>\n",
       "      <th>2</th>\n",
       "      <td>1885</td>\n",
       "      <td>1</td>\n",
       "      <td>12</td>\n",
       "      <td>1</td>\n",
       "      <td>2</td>\n",
       "      <td>4</td>\n",
       "    </tr>\n",
       "    <tr>\n",
       "      <th>3</th>\n",
       "      <td>2179</td>\n",
       "      <td>1</td>\n",
       "      <td>9</td>\n",
       "      <td>1</td>\n",
       "      <td>2</td>\n",
       "      <td>0</td>\n",
       "    </tr>\n",
       "    <tr>\n",
       "      <th>4</th>\n",
       "      <td>1604</td>\n",
       "      <td>1</td>\n",
       "      <td>14</td>\n",
       "      <td>1</td>\n",
       "      <td>0</td>\n",
       "      <td>7</td>\n",
       "    </tr>\n",
       "    <tr>\n",
       "      <th>5</th>\n",
       "      <td>1474</td>\n",
       "      <td>1</td>\n",
       "      <td>9</td>\n",
       "      <td>1</td>\n",
       "      <td>2</td>\n",
       "      <td>1</td>\n",
       "    </tr>\n",
       "    <tr>\n",
       "      <th>6</th>\n",
       "      <td>655</td>\n",
       "      <td>1</td>\n",
       "      <td>20</td>\n",
       "      <td>0</td>\n",
       "      <td>4</td>\n",
       "      <td>25</td>\n",
       "    </tr>\n",
       "  </tbody>\n",
       "</table>\n",
       "</div>"
      ],
      "text/plain": [
       "   id_socio  status  qtde_em_aberto  qtde_em_dia  qtde_em_atraso  \\\n",
       "0      2464       1              24            0               0   \n",
       "1      3010       1               0            0               0   \n",
       "2      1885       1              12            1               2   \n",
       "3      2179       1               9            1               2   \n",
       "4      1604       1              14            1               0   \n",
       "5      1474       1               9            1               2   \n",
       "6       655       1              20            0               4   \n",
       "\n",
       "   qtde_frequencia_ano  \n",
       "0                    0  \n",
       "1                    0  \n",
       "2                    4  \n",
       "3                    0  \n",
       "4                    7  \n",
       "5                    1  \n",
       "6                   25  "
      ]
     },
     "execution_count": 29,
     "metadata": {},
     "output_type": "execute_result"
    }
   ],
   "source": [
    "# Conferindo até achar os 2 status: 0 e 1.\n",
    "df.head(7)"
   ]
  },
  {
   "cell_type": "code",
   "execution_count": 30,
   "metadata": {},
   "outputs": [],
   "source": [
    "# Seleção de variáveis (Feature Selection)\n",
    "atributos = ['qtde_em_aberto', 'qtde_em_dia', 'qtde_em_atraso', 'qtde_frequencia_ano']"
   ]
  },
  {
   "cell_type": "code",
   "execution_count": 31,
   "metadata": {},
   "outputs": [],
   "source": [
    "# Variável para ser prevista\n",
    "atrib_prev = ['status']"
   ]
  },
  {
   "cell_type": "code",
   "execution_count": 32,
   "metadata": {},
   "outputs": [],
   "source": [
    "# Criando os objetos\n",
    "X = df[atributos].values\n",
    "Y = df[atrib_prev].values"
   ]
  },
  {
   "cell_type": "code",
   "execution_count": 33,
   "metadata": {},
   "outputs": [],
   "source": [
    "# Definindo a taxa de split\n",
    "split_test_size = 0.30"
   ]
  },
  {
   "cell_type": "code",
   "execution_count": 34,
   "metadata": {},
   "outputs": [],
   "source": [
    "# Criando dados de treino e de teste\n",
    "X_treino, X_teste, Y_treino, Y_teste = train_test_split(X, Y, test_size = split_test_size, random_state = 42)"
   ]
  },
  {
   "cell_type": "code",
   "execution_count": 35,
   "metadata": {},
   "outputs": [
    {
     "name": "stdout",
     "output_type": "stream",
     "text": [
      "69.97% nos dados de treino\n",
      "30.03% nos dados de teste\n"
     ]
    }
   ],
   "source": [
    "# Imprimindo os resultados\n",
    "print(\"{0:0.2f}% nos dados de treino\".format((len(X_treino)/len(df.index)) * 100))\n",
    "print(\"{0:0.2f}% nos dados de teste\".format((len(X_teste)/len(df.index)) * 100))"
   ]
  },
  {
   "cell_type": "code",
   "execution_count": 36,
   "metadata": {},
   "outputs": [
    {
     "name": "stdout",
     "output_type": "stream",
     "text": [
      "Original True: 771 (25.47%)\n",
      "Original False: 2256 (74.53%)\n",
      "\n",
      "Training True: 530 (25.02%)\n",
      "Training False: 1588 (74.98%)\n",
      "\n",
      "Test True: 241 (26.51%)\n",
      "Test False: 668 (73.49%)\n"
     ]
    }
   ],
   "source": [
    "# Verificando o Split\n",
    "\n",
    "print(\"Original True: {0} ({1:0.2f}%)\".format(len(df.loc[df['status'] == 1]),\n",
    "                                             (len(df.loc[df['status'] == 1])/len(df.index) * 100)))\n",
    "\n",
    "print(\"Original False: {0} ({1:0.2f}%)\".format(len(df.loc[df['status'] == 0]),\n",
    "                                             (len(df.loc[df['status'] == 0])/len(df.index) * 100)))\n",
    "print(\"\")\n",
    "print(\"Training True: {0} ({1:0.2f}%)\".format(len(Y_treino[Y_treino[:] == 1]),\n",
    "                                             (len(Y_treino[Y_treino[:] == 1])/len(Y_treino) * 100)))\n",
    "\n",
    "print(\"Training False: {0} ({1:0.2f}%)\".format(len(Y_treino[Y_treino[:] == 0]),\n",
    "                                             (len(Y_treino[Y_treino[:] == 0])/len(Y_treino) * 100)))\n",
    "\n",
    "print(\"\")\n",
    "print(\"Test True: {0} ({1:0.2f}%)\".format(len(Y_teste[Y_teste[:] == 1]),\n",
    "                                             (len(Y_teste[Y_teste[:] == 1])/len(Y_teste) * 100)))\n",
    "\n",
    "print(\"Test False: {0} ({1:0.2f}%)\".format(len(Y_teste[Y_teste[:] == 0]),\n",
    "                                             (len(Y_teste[Y_teste[:] == 0])/len(Y_teste) * 100)))"
   ]
  },
  {
   "cell_type": "code",
   "execution_count": 37,
   "metadata": {},
   "outputs": [
    {
     "data": {
      "text/html": [
       "<div>\n",
       "<style scoped>\n",
       "    .dataframe tbody tr th:only-of-type {\n",
       "        vertical-align: middle;\n",
       "    }\n",
       "\n",
       "    .dataframe tbody tr th {\n",
       "        vertical-align: top;\n",
       "    }\n",
       "\n",
       "    .dataframe thead th {\n",
       "        text-align: right;\n",
       "    }\n",
       "</style>\n",
       "<table border=\"1\" class=\"dataframe\">\n",
       "  <thead>\n",
       "    <tr style=\"text-align: right;\">\n",
       "      <th></th>\n",
       "      <th>id_socio</th>\n",
       "      <th>status</th>\n",
       "      <th>qtde_em_aberto</th>\n",
       "      <th>qtde_em_dia</th>\n",
       "      <th>qtde_em_atraso</th>\n",
       "      <th>qtde_frequencia_ano</th>\n",
       "    </tr>\n",
       "  </thead>\n",
       "  <tbody>\n",
       "    <tr>\n",
       "      <th>0</th>\n",
       "      <td>2464</td>\n",
       "      <td>1</td>\n",
       "      <td>24</td>\n",
       "      <td>0</td>\n",
       "      <td>0</td>\n",
       "      <td>0</td>\n",
       "    </tr>\n",
       "    <tr>\n",
       "      <th>1</th>\n",
       "      <td>3010</td>\n",
       "      <td>1</td>\n",
       "      <td>0</td>\n",
       "      <td>0</td>\n",
       "      <td>0</td>\n",
       "      <td>0</td>\n",
       "    </tr>\n",
       "    <tr>\n",
       "      <th>2</th>\n",
       "      <td>1885</td>\n",
       "      <td>1</td>\n",
       "      <td>12</td>\n",
       "      <td>1</td>\n",
       "      <td>2</td>\n",
       "      <td>4</td>\n",
       "    </tr>\n",
       "    <tr>\n",
       "      <th>3</th>\n",
       "      <td>2179</td>\n",
       "      <td>1</td>\n",
       "      <td>9</td>\n",
       "      <td>1</td>\n",
       "      <td>2</td>\n",
       "      <td>0</td>\n",
       "    </tr>\n",
       "    <tr>\n",
       "      <th>4</th>\n",
       "      <td>1604</td>\n",
       "      <td>1</td>\n",
       "      <td>14</td>\n",
       "      <td>1</td>\n",
       "      <td>0</td>\n",
       "      <td>7</td>\n",
       "    </tr>\n",
       "    <tr>\n",
       "      <th>5</th>\n",
       "      <td>1474</td>\n",
       "      <td>1</td>\n",
       "      <td>9</td>\n",
       "      <td>1</td>\n",
       "      <td>2</td>\n",
       "      <td>1</td>\n",
       "    </tr>\n",
       "    <tr>\n",
       "      <th>6</th>\n",
       "      <td>655</td>\n",
       "      <td>1</td>\n",
       "      <td>20</td>\n",
       "      <td>0</td>\n",
       "      <td>4</td>\n",
       "      <td>25</td>\n",
       "    </tr>\n",
       "  </tbody>\n",
       "</table>\n",
       "</div>"
      ],
      "text/plain": [
       "   id_socio  status  qtde_em_aberto  qtde_em_dia  qtde_em_atraso  \\\n",
       "0      2464       1              24            0               0   \n",
       "1      3010       1               0            0               0   \n",
       "2      1885       1              12            1               2   \n",
       "3      2179       1               9            1               2   \n",
       "4      1604       1              14            1               0   \n",
       "5      1474       1               9            1               2   \n",
       "6       655       1              20            0               4   \n",
       "\n",
       "   qtde_frequencia_ano  \n",
       "0                    0  \n",
       "1                    0  \n",
       "2                    4  \n",
       "3                    0  \n",
       "4                    7  \n",
       "5                    1  \n",
       "6                   25  "
      ]
     },
     "execution_count": 37,
     "metadata": {},
     "output_type": "execute_result"
    }
   ],
   "source": [
    "df.head(7)"
   ]
  },
  {
   "cell_type": "code",
   "execution_count": 38,
   "metadata": {},
   "outputs": [],
   "source": [
    "# Construindo e treinando o modelo preditivo\n",
    "# Utilizando um classificador de Naive Bayes\n",
    "\n",
    "modelo_v1 = GaussianNB()"
   ]
  },
  {
   "cell_type": "code",
   "execution_count": 39,
   "metadata": {},
   "outputs": [
    {
     "data": {
      "text/plain": [
       "GaussianNB(priors=None, var_smoothing=1e-09)"
      ]
     },
     "execution_count": 39,
     "metadata": {},
     "output_type": "execute_result"
    }
   ],
   "source": [
    "# Treinando o modelo\n",
    "\n",
    "modelo_v1.fit(X_treino, Y_treino.ravel())"
   ]
  },
  {
   "cell_type": "code",
   "execution_count": 40,
   "metadata": {},
   "outputs": [
    {
     "name": "stdout",
     "output_type": "stream",
     "text": [
      "Exatidão (Accuracy):  0.7191\n",
      "\n"
     ]
    }
   ],
   "source": [
    "# Verificando a exatidão no modelo nos dados de treino\n",
    "\n",
    "nb_predict_train = modelo_v1.predict(X_treino)\n",
    "\n",
    "print(\"Exatidão (Accuracy): {0: .4f}\".format(metrics.accuracy_score(Y_treino, nb_predict_train)))\n",
    "print()"
   ]
  },
  {
   "cell_type": "code",
   "execution_count": 41,
   "metadata": {},
   "outputs": [
    {
     "name": "stdout",
     "output_type": "stream",
     "text": [
      "Exatidão (Accuracy):  0.7327\n",
      "\n"
     ]
    }
   ],
   "source": [
    "# Verificando a exatidão no modelo nos dados de teste\n",
    "\n",
    "nb_predict_test = modelo_v1.predict(X_teste)\n",
    "\n",
    "print(\"Exatidão (Accuracy): {0: .4f}\".format(metrics.accuracy_score(Y_teste, nb_predict_test)))\n",
    "print()"
   ]
  },
  {
   "cell_type": "code",
   "execution_count": 42,
   "metadata": {},
   "outputs": [
    {
     "name": "stdout",
     "output_type": "stream",
     "text": [
      "Confusion Matrix\n",
      "[[210  31]\n",
      " [212 456]]\n",
      "\n",
      "Classification Report\n",
      "              precision    recall  f1-score   support\n",
      "\n",
      "           1       0.50      0.87      0.63       241\n",
      "           0       0.94      0.68      0.79       668\n",
      "\n",
      "   micro avg       0.73      0.73      0.73       909\n",
      "   macro avg       0.72      0.78      0.71       909\n",
      "weighted avg       0.82      0.73      0.75       909\n",
      "\n"
     ]
    }
   ],
   "source": [
    "print(\"Confusion Matrix\")\n",
    "\n",
    "print(\"{0}\".format(metrics.confusion_matrix(Y_teste, nb_predict_test, labels = [1, 0])))\n",
    "print(\"\")\n",
    "\n",
    "print(\"Classification Report\")\n",
    "print(metrics.classification_report(Y_teste, nb_predict_test, labels = [1, 0]))"
   ]
  },
  {
   "cell_type": "code",
   "execution_count": 43,
   "metadata": {},
   "outputs": [
    {
     "data": {
      "text/plain": [
       "RandomForestClassifier(bootstrap=True, class_weight=None, criterion='gini',\n",
       "            max_depth=None, max_features='auto', max_leaf_nodes=None,\n",
       "            min_impurity_decrease=0.0, min_impurity_split=None,\n",
       "            min_samples_leaf=1, min_samples_split=2,\n",
       "            min_weight_fraction_leaf=0.0, n_estimators=10, n_jobs=None,\n",
       "            oob_score=False, random_state=42, verbose=0, warm_start=False)"
      ]
     },
     "execution_count": 43,
     "metadata": {},
     "output_type": "execute_result"
    }
   ],
   "source": [
    "# otimizando o modelo com RandomForest\n",
    "\n",
    "modelo_v2 = RandomForestClassifier(random_state=42)\n",
    "modelo_v2.fit(X_treino, Y_treino.ravel())"
   ]
  },
  {
   "cell_type": "code",
   "execution_count": 44,
   "metadata": {},
   "outputs": [
    {
     "name": "stdout",
     "output_type": "stream",
     "text": [
      "Exatidão (Accuracy): 0.9155\n"
     ]
    }
   ],
   "source": [
    "# Exatidão da base de treino\n",
    "rf_redict_train = modelo_v2.predict(X_treino)\n",
    "print(\"Exatidão (Accuracy): {0:.4f}\".format(metrics.accuracy_score(Y_treino, rf_redict_train)))"
   ]
  },
  {
   "cell_type": "code",
   "execution_count": 45,
   "metadata": {},
   "outputs": [
    {
     "name": "stdout",
     "output_type": "stream",
     "text": [
      "Exatidão (Accuracy): 0.8603\n"
     ]
    }
   ],
   "source": [
    "# Exatidão da base de test\n",
    "rf_redict_test = modelo_v2.predict(X_teste)\n",
    "print(\"Exatidão (Accuracy): {0:.4f}\".format(metrics.accuracy_score(Y_teste, rf_redict_test)))"
   ]
  }
 ],
 "metadata": {
  "kernelspec": {
   "display_name": "Python 3",
   "language": "python",
   "name": "python3"
  },
  "language_info": {
   "codemirror_mode": {
    "name": "ipython",
    "version": 3
   },
   "file_extension": ".py",
   "mimetype": "text/x-python",
   "name": "python",
   "nbconvert_exporter": "python",
   "pygments_lexer": "ipython3",
   "version": "3.5.2"
  }
 },
 "nbformat": 4,
 "nbformat_minor": 2
}
