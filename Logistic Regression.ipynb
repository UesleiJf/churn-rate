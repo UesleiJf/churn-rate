{
 "cells": [
  {
   "cell_type": "code",
   "execution_count": 1,
   "metadata": {},
   "outputs": [],
   "source": [
    "import pandas as pd   #to use read_csv(), crosstab()\n",
    "import numpy as np    #to use exponentiation : exp()\n",
    "import matplotlib.pyplot as plt #for tight_layout()\n",
    "import pylab as pyl #for generating plots: show()\n",
    "import statsmodels.api as sm  #to use the Logit()\n",
    "from sklearn import preprocessing\n",
    "import pylab as pyl #for generating plots: show()"
   ]
  },
  {
   "cell_type": "code",
   "execution_count": 2,
   "metadata": {},
   "outputs": [],
   "source": [
    "# importando o dataset\n",
    "mydata = pd.read_csv('dataset/data-set-clube-new-v2.csv', sep=';')"
   ]
  },
  {
   "cell_type": "code",
   "execution_count": 3,
   "metadata": {},
   "outputs": [
    {
     "name": "stdout",
     "output_type": "stream",
     "text": [
      "(3027, 6)\n"
     ]
    }
   ],
   "source": [
    "# tamanho do dataset\n",
    "print(mydata.shape) "
   ]
  },
  {
   "cell_type": "code",
   "execution_count": 4,
   "metadata": {},
   "outputs": [
    {
     "data": {
      "text/html": [
       "<div>\n",
       "<style scoped>\n",
       "    .dataframe tbody tr th:only-of-type {\n",
       "        vertical-align: middle;\n",
       "    }\n",
       "\n",
       "    .dataframe tbody tr th {\n",
       "        vertical-align: top;\n",
       "    }\n",
       "\n",
       "    .dataframe thead th {\n",
       "        text-align: right;\n",
       "    }\n",
       "</style>\n",
       "<table border=\"1\" class=\"dataframe\">\n",
       "  <thead>\n",
       "    <tr style=\"text-align: right;\">\n",
       "      <th></th>\n",
       "      <th>id_socio</th>\n",
       "      <th>status</th>\n",
       "      <th>qtde_em_aberto</th>\n",
       "      <th>qtde_em_dia</th>\n",
       "      <th>qtde_em_atraso</th>\n",
       "      <th>qtde_frequencia_ano</th>\n",
       "    </tr>\n",
       "  </thead>\n",
       "  <tbody>\n",
       "    <tr>\n",
       "      <th>0</th>\n",
       "      <td>38810</td>\n",
       "      <td>CANCELADO</td>\n",
       "      <td>24</td>\n",
       "      <td>0</td>\n",
       "      <td>0</td>\n",
       "      <td>0</td>\n",
       "    </tr>\n",
       "    <tr>\n",
       "      <th>1</th>\n",
       "      <td>54088</td>\n",
       "      <td>CANCELADO</td>\n",
       "      <td>0</td>\n",
       "      <td>0</td>\n",
       "      <td>0</td>\n",
       "      <td>0</td>\n",
       "    </tr>\n",
       "    <tr>\n",
       "      <th>2</th>\n",
       "      <td>31324</td>\n",
       "      <td>CANCELADO</td>\n",
       "      <td>12</td>\n",
       "      <td>1</td>\n",
       "      <td>2</td>\n",
       "      <td>4</td>\n",
       "    </tr>\n",
       "    <tr>\n",
       "      <th>3</th>\n",
       "      <td>34368</td>\n",
       "      <td>CANCELADO</td>\n",
       "      <td>9</td>\n",
       "      <td>1</td>\n",
       "      <td>2</td>\n",
       "      <td>0</td>\n",
       "    </tr>\n",
       "    <tr>\n",
       "      <th>4</th>\n",
       "      <td>27004</td>\n",
       "      <td>CANCELADO</td>\n",
       "      <td>14</td>\n",
       "      <td>1</td>\n",
       "      <td>0</td>\n",
       "      <td>7</td>\n",
       "    </tr>\n",
       "  </tbody>\n",
       "</table>\n",
       "</div>"
      ],
      "text/plain": [
       "   id_socio     status  qtde_em_aberto  qtde_em_dia  qtde_em_atraso  \\\n",
       "0     38810  CANCELADO              24            0               0   \n",
       "1     54088  CANCELADO               0            0               0   \n",
       "2     31324  CANCELADO              12            1               2   \n",
       "3     34368  CANCELADO               9            1               2   \n",
       "4     27004  CANCELADO              14            1               0   \n",
       "\n",
       "   qtde_frequencia_ano  \n",
       "0                    0  \n",
       "1                    0  \n",
       "2                    4  \n",
       "3                    0  \n",
       "4                    7  "
      ]
     },
     "execution_count": 4,
     "metadata": {},
     "output_type": "execute_result"
    }
   ],
   "source": [
    "mydata.head(5) "
   ]
  },
  {
   "cell_type": "code",
   "execution_count": 5,
   "metadata": {},
   "outputs": [],
   "source": [
    "#  retirando a coluna id_socio, não será necessária agora.\n",
    "\n",
    "mydata = mydata.drop(['id_socio'], axis=1)"
   ]
  },
  {
   "cell_type": "code",
   "execution_count": 6,
   "metadata": {},
   "outputs": [
    {
     "name": "stdout",
     "output_type": "stream",
     "text": [
      "       qtde_em_aberto  qtde_em_dia  qtde_em_atraso  qtde_frequencia_ano\n",
      "count     3027.000000  3027.000000     3027.000000          3027.000000\n",
      "mean        10.601255     4.386852        3.212752            16.846383\n",
      "std         10.743290     7.017163        5.761192            42.621343\n",
      "min          0.000000     0.000000        0.000000             0.000000\n",
      "25%          0.000000     0.000000        0.000000             0.000000\n",
      "50%         10.000000     0.000000        0.000000             0.000000\n",
      "75%         24.000000     6.000000        4.000000            12.000000\n",
      "max         55.000000    53.000000       39.000000           490.000000\n"
     ]
    }
   ],
   "source": [
    "# resumindo os dados\n",
    "print(mydata.describe())"
   ]
  },
  {
   "cell_type": "code",
   "execution_count": 7,
   "metadata": {},
   "outputs": [
    {
     "data": {
      "text/plain": [
       "qtde_em_aberto         10.743290\n",
       "qtde_em_dia             7.017163\n",
       "qtde_em_atraso          5.761192\n",
       "qtde_frequencia_ano    42.621343\n",
       "dtype: float64"
      ]
     },
     "execution_count": 7,
     "metadata": {},
     "output_type": "execute_result"
    }
   ],
   "source": [
    "# desvio padrão de cada coluna\n",
    "mydata.std()"
   ]
  },
  {
   "cell_type": "code",
   "execution_count": 8,
   "metadata": {},
   "outputs": [
    {
     "data": {
      "image/png": "[encoded data removed]",
      "text/plain": [
       "<Figure size 432x288 with 4 Axes>"
      ]
     },
     "metadata": {
      "needs_background": "light"
     },
     "output_type": "display_data"
    }
   ],
   "source": [
    "# histogramas de plotagem de todas as colunas\n",
    "mydata.hist()\n",
    "\n",
    "\n",
    "plt.tight_layout() # tight_layout(): ajustando o espaçamento entre subparcelas para minimizar as sobreposições.\n",
    "pyl.show()         "
   ]
  },
  {
   "cell_type": "code",
   "execution_count": 9,
   "metadata": {},
   "outputs": [
    {
     "data": {
      "text/html": [
       "<div>\n",
       "<style scoped>\n",
       "    .dataframe tbody tr th:only-of-type {\n",
       "        vertical-align: middle;\n",
       "    }\n",
       "\n",
       "    .dataframe tbody tr th {\n",
       "        vertical-align: top;\n",
       "    }\n",
       "\n",
       "    .dataframe thead th {\n",
       "        text-align: right;\n",
       "    }\n",
       "</style>\n",
       "<table border=\"1\" class=\"dataframe\">\n",
       "  <thead>\n",
       "    <tr style=\"text-align: right;\">\n",
       "      <th></th>\n",
       "      <th>status</th>\n",
       "      <th>qtde_em_aberto</th>\n",
       "      <th>qtde_em_dia</th>\n",
       "      <th>qtde_em_atraso</th>\n",
       "      <th>qtde_frequencia_ano</th>\n",
       "      <th>int</th>\n",
       "    </tr>\n",
       "  </thead>\n",
       "  <tbody>\n",
       "    <tr>\n",
       "      <th>0</th>\n",
       "      <td>CANCELADO</td>\n",
       "      <td>24</td>\n",
       "      <td>0</td>\n",
       "      <td>0</td>\n",
       "      <td>0</td>\n",
       "      <td>1</td>\n",
       "    </tr>\n",
       "    <tr>\n",
       "      <th>1</th>\n",
       "      <td>CANCELADO</td>\n",
       "      <td>0</td>\n",
       "      <td>0</td>\n",
       "      <td>0</td>\n",
       "      <td>0</td>\n",
       "      <td>1</td>\n",
       "    </tr>\n",
       "    <tr>\n",
       "      <th>2</th>\n",
       "      <td>CANCELADO</td>\n",
       "      <td>12</td>\n",
       "      <td>1</td>\n",
       "      <td>2</td>\n",
       "      <td>4</td>\n",
       "      <td>1</td>\n",
       "    </tr>\n",
       "    <tr>\n",
       "      <th>3</th>\n",
       "      <td>CANCELADO</td>\n",
       "      <td>9</td>\n",
       "      <td>1</td>\n",
       "      <td>2</td>\n",
       "      <td>0</td>\n",
       "      <td>1</td>\n",
       "    </tr>\n",
       "    <tr>\n",
       "      <th>4</th>\n",
       "      <td>CANCELADO</td>\n",
       "      <td>14</td>\n",
       "      <td>1</td>\n",
       "      <td>0</td>\n",
       "      <td>7</td>\n",
       "      <td>1</td>\n",
       "    </tr>\n",
       "  </tbody>\n",
       "</table>\n",
       "</div>"
      ],
      "text/plain": [
       "      status  qtde_em_aberto  qtde_em_dia  qtde_em_atraso  \\\n",
       "0  CANCELADO              24            0               0   \n",
       "1  CANCELADO               0            0               0   \n",
       "2  CANCELADO              12            1               2   \n",
       "3  CANCELADO               9            1               2   \n",
       "4  CANCELADO              14            1               0   \n",
       "\n",
       "   qtde_frequencia_ano  int  \n",
       "0                    0    1  \n",
       "1                    0    1  \n",
       "2                    4    1  \n",
       "3                    0    1  \n",
       "4                    7    1  "
      ]
     },
     "execution_count": 9,
     "metadata": {},
     "output_type": "execute_result"
    }
   ],
   "source": [
    "# criando explicitamente um espaço reservado para interceptação em y: b0\n",
    "mydata['int']=1\n",
    "mydata.head()"
   ]
  },
  {
   "cell_type": "code",
   "execution_count": 11,
   "metadata": {},
   "outputs": [
    {
     "name": "stdout",
     "output_type": "stream",
     "text": [
      "status                 int64\n",
      "qtde_em_aberto         int64\n",
      "qtde_em_dia            int64\n",
      "qtde_em_atraso         int64\n",
      "qtde_frequencia_ano    int64\n",
      "int                    int64\n",
      "dtype: object\n"
     ]
    }
   ],
   "source": [
    "# Passando os todas as colunas para o tipo inteiro\n",
    "\n",
    "label_encoder = preprocessing.LabelEncoder()\n",
    "\n",
    "mydata['status'] = label_encoder.fit_transform(mydata['status'])\n",
    "mydata['qtde_em_aberto'] = label_encoder.fit_transform(mydata['qtde_em_aberto'])\n",
    "mydata['qtde_em_dia'] = label_encoder.fit_transform(mydata['qtde_em_dia'])\n",
    "mydata['qtde_em_atraso'] = label_encoder.fit_transform(mydata['qtde_em_atraso'])\n",
    "\n",
    "print (mydata.dtypes)"
   ]
  },
  {
   "cell_type": "code",
   "execution_count": 13,
   "metadata": {},
   "outputs": [
    {
     "name": "stdout",
     "output_type": "stream",
     "text": [
      "Optimization terminated successfully.\n",
      "         Current function value: 0.416349\n",
      "         Iterations 8\n"
     ]
    }
   ],
   "source": [
    "# declarando as variáveis independentes, incluindo a interceptação\n",
    "# criando o Modelo Logistic Regression\n",
    "# ajustanto o modelo\n",
    "\n",
    "independentVar= ['qtde_em_aberto','qtde_em_dia','qtde_em_atraso','qtde_frequencia_ano','int']\n",
    "model1= sm.Logit(mydata['status'], mydata[independentVar])\n",
    "answer= model1.fit()"
   ]
  },
  {
   "cell_type": "code",
   "execution_count": 14,
   "metadata": {},
   "outputs": [
    {
     "data": {
      "text/html": [
       "<table class=\"simpletable\">\n",
       "<caption>Logit Regression Results</caption>\n",
       "<tr>\n",
       "  <th>Dep. Variable:</th>        <td>status</td>      <th>  No. Observations:  </th>   <td>  3027</td>  \n",
       "</tr>\n",
       "<tr>\n",
       "  <th>Model:</th>                 <td>Logit</td>      <th>  Df Residuals:      </th>   <td>  3022</td>  \n",
       "</tr>\n",
       "<tr>\n",
       "  <th>Method:</th>                 <td>MLE</td>       <th>  Df Model:          </th>   <td>     4</td>  \n",
       "</tr>\n",
       "<tr>\n",
       "  <th>Date:</th>            <td>Mon, 18 Nov 2019</td> <th>  Pseudo R-squ.:     </th>   <td>0.2663</td>  \n",
       "</tr>\n",
       "<tr>\n",
       "  <th>Time:</th>                <td>14:23:37</td>     <th>  Log-Likelihood:    </th>  <td> -1260.3</td> \n",
       "</tr>\n",
       "<tr>\n",
       "  <th>converged:</th>             <td>True</td>       <th>  LL-Null:           </th>  <td> -1717.7</td> \n",
       "</tr>\n",
       "<tr>\n",
       "  <th>Covariance Type:</th>     <td>nonrobust</td>    <th>  LLR p-value:       </th> <td>1.060e-196</td>\n",
       "</tr>\n",
       "</table>\n",
       "<table class=\"simpletable\">\n",
       "<tr>\n",
       "           <td></td>              <th>coef</th>     <th>std err</th>      <th>z</th>      <th>P>|z|</th>  <th>[0.025</th>    <th>0.975]</th>  \n",
       "</tr>\n",
       "<tr>\n",
       "  <th>qtde_em_aberto</th>      <td>    0.1079</td> <td>    0.006</td> <td>   19.500</td> <td> 0.000</td> <td>    0.097</td> <td>    0.119</td>\n",
       "</tr>\n",
       "<tr>\n",
       "  <th>qtde_em_dia</th>         <td>   -0.0087</td> <td>    0.012</td> <td>   -0.704</td> <td> 0.481</td> <td>   -0.033</td> <td>    0.016</td>\n",
       "</tr>\n",
       "<tr>\n",
       "  <th>qtde_em_atraso</th>      <td>   -0.0551</td> <td>    0.013</td> <td>   -4.270</td> <td> 0.000</td> <td>   -0.080</td> <td>   -0.030</td>\n",
       "</tr>\n",
       "<tr>\n",
       "  <th>qtde_frequencia_ano</th> <td>   -0.0220</td> <td>    0.004</td> <td>   -5.628</td> <td> 0.000</td> <td>   -0.030</td> <td>   -0.014</td>\n",
       "</tr>\n",
       "<tr>\n",
       "  <th>int</th>                 <td>   -2.1943</td> <td>    0.112</td> <td>  -19.663</td> <td> 0.000</td> <td>   -2.413</td> <td>   -1.976</td>\n",
       "</tr>\n",
       "</table>"
      ],
      "text/plain": [
       "<class 'statsmodels.iolib.summary.Summary'>\n",
       "\"\"\"\n",
       "                           Logit Regression Results                           \n",
       "==============================================================================\n",
       "Dep. Variable:                 status   No. Observations:                 3027\n",
       "Model:                          Logit   Df Residuals:                     3022\n",
       "Method:                           MLE   Df Model:                            4\n",
       "Date:                Mon, 18 Nov 2019   Pseudo R-squ.:                  0.2663\n",
       "Time:                        14:23:37   Log-Likelihood:                -1260.3\n",
       "converged:                       True   LL-Null:                       -1717.7\n",
       "Covariance Type:            nonrobust   LLR p-value:                1.060e-196\n",
       "=======================================================================================\n",
       "                          coef    std err          z      P>|z|      [0.025      0.975]\n",
       "---------------------------------------------------------------------------------------\n",
       "qtde_em_aberto          0.1079      0.006     19.500      0.000       0.097       0.119\n",
       "qtde_em_dia            -0.0087      0.012     -0.704      0.481      -0.033       0.016\n",
       "qtde_em_atraso         -0.0551      0.013     -4.270      0.000      -0.080      -0.030\n",
       "qtde_frequencia_ano    -0.0220      0.004     -5.628      0.000      -0.030      -0.014\n",
       "int                    -2.1943      0.112    -19.663      0.000      -2.413      -1.976\n",
       "=======================================================================================\n",
       "\"\"\""
      ]
     },
     "execution_count": 14,
     "metadata": {},
     "output_type": "execute_result"
    }
   ],
   "source": [
    "# Detalhes do modelo\n",
    "answer.summary()"
   ]
  },
  {
   "cell_type": "code",
   "execution_count": 15,
   "metadata": {},
   "outputs": [
    {
     "data": {
      "text/plain": [
       "qtde_em_aberto         0.107875\n",
       "qtde_em_dia           -0.008742\n",
       "qtde_em_atraso        -0.055066\n",
       "qtde_frequencia_ano   -0.021964\n",
       "int                   -2.194313\n",
       "dtype: float64"
      ]
     },
     "execution_count": 15,
     "metadata": {},
     "output_type": "execute_result"
    }
   ],
   "source": [
    "# extraindo os coeficientes do resumo acima\n",
    "answer.params"
   ]
  },
  {
   "cell_type": "code",
   "execution_count": 22,
   "metadata": {},
   "outputs": [],
   "source": [
    "# define uma função 'y' que resolve\n",
    "# y = b0 + b1 * id_socio + + b2 * qtde_em_aberto + b3 * qtde_em_dia + b4 * qtde_em_atraso + b5 * qtde_frequencia_ano;\n",
    "\n",
    "# onde os índices do coeficiente de answer.params para usar na função acima são:\n",
    "# id_socio               0.000522\n",
    "# qtde_em_aberto         0.115094\n",
    "# qtde_em_dia           -0.004706\n",
    "# qtde_em_atraso        -0.055976\n",
    "# qtde_frequencia_ano   -0.021123\n",
    "# int                   -3.144639\n",
    "\n",
    "coeffs=answer.params\n",
    "def y(int, qtde_em_aberto,qtde_em_dia,qtde_em_atraso,qtde_frequencia_ano):\n",
    "    return coeffs[4]+ coeffs[0]*qtde_em_aberto + coeffs[1]*qtde_em_dia + coeffs[2]*qtde_em_atraso + coeffs[3]*qtde_frequencia_ano"
   ]
  },
  {
   "cell_type": "code",
   "execution_count": 23,
   "metadata": {},
   "outputs": [
    {
     "name": "stdout",
     "output_type": "stream",
     "text": [
      "-1.7173936354366661\n"
     ]
    }
   ],
   "source": [
    "# teste para um sócio com os valores qtde_em_aberto, qtde_em_dia, qtde_em_atraso, qtde_frequencia_ano\n",
    "# X,20,10,5,60 resp.\n",
    "y1= y(int,20,10,5,60)\n",
    "print(y1)"
   ]
  },
  {
   "cell_type": "code",
   "execution_count": 24,
   "metadata": {},
   "outputs": [
    {
     "data": {
      "text/plain": [
       "2.718281828459045"
      ]
     },
     "execution_count": 24,
     "metadata": {},
     "output_type": "execute_result"
    }
   ],
   "source": [
    "# above, y1= 3.535 is the log-odds of having diabetes to that of not having diabetes\n",
    "# Thus, to convert y1 into a probability 'p', plug in the exponent of y1 into the formula e^y1 / (1 + e^y1)\n",
    "\n",
    "np.exp(1) #checking the working of exp()"
   ]
  },
  {
   "cell_type": "code",
   "execution_count": 25,
   "metadata": {},
   "outputs": [
    {
     "name": "stdout",
     "output_type": "stream",
     "text": [
      "0.15220718456576918\n"
     ]
    }
   ],
   "source": [
    "p= np.exp(y1)/ (1+ np.exp(y1)) #formula e^y1 / (1 + e^y1)\n",
    "print(p)"
   ]
  },
  {
   "cell_type": "code",
   "execution_count": null,
   "metadata": {},
   "outputs": [],
   "source": []
  }
 ],
 "metadata": {
  "kernelspec": {
   "display_name": "Python 3",
   "language": "python",
   "name": "python3"
  },
  "language_info": {
   "codemirror_mode": {
    "name": "ipython",
    "version": 3
   },
   "file_extension": ".py",
   "mimetype": "text/x-python",
   "name": "python",
   "nbconvert_exporter": "python",
   "pygments_lexer": "ipython3",
   "version": "3.5.2"
  }
 },
 "nbformat": 4,
 "nbformat_minor": 2
}
